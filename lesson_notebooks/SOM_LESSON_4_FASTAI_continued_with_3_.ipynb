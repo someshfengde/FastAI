{
  "nbformat": 4,
  "nbformat_minor": 0,
  "metadata": {
    "colab": {
      "name": "SOM_LESSON_4_FASTAI_continued with 3 .ipynb",
      "provenance": []
    },
    "kernelspec": {
      "name": "python3",
      "display_name": "Python 3"
    },
    "language_info": {
      "name": "python"
    },
    "accelerator": "GPU"
  },
  "cells": [
    {
      "cell_type": "markdown",
      "metadata": {
        "id": "A6Fx5ddifoyx"
      },
      "source": [
        "# Mnist dataset \n",
        "\n",
        "doing the handwritten digits recognition with the mnist dataset "
      ]
    },
    {
      "cell_type": "markdown",
      "metadata": {
        "id": "9AFjRJgefwbp"
      },
      "source": [
        "#baseline \n"
      ]
    },
    {
      "cell_type": "markdown",
      "metadata": {
        "id": "ebyxN5SVf6lk"
      },
      "source": [
        "doing the image recognition for `3 and 7`"
      ]
    },
    {
      "cell_type": "code",
      "metadata": {
        "id": "NhWOST_qgOpt",
        "colab": {
          "base_uri": "https://localhost:8080/"
        },
        "outputId": "6fd1efce-daab-4aed-9616-5dd75fc0f346"
      },
      "source": [
        "!pip install fastbook \n",
        "\n",
        "from fastai import * \n",
        "from fastai.vision.all import *\n",
        "from fastbook import *"
      ],
      "execution_count": 1,
      "outputs": [
        {
          "output_type": "stream",
          "text": [
            "Collecting fastbook\n",
            "\u001b[?25l  Downloading https://files.pythonhosted.org/packages/f2/ff/66f16fb9ceb45646e59a38ad5eb0f05fbd6524c20d9c4a2c922cdcd2955b/fastbook-0.0.16-py3-none-any.whl (720kB)\n",
            "\r\u001b[K     |▌                               | 10kB 15.4MB/s eta 0:00:01\r\u001b[K     |█                               | 20kB 16.7MB/s eta 0:00:01\r\u001b[K     |█▍                              | 30kB 13.9MB/s eta 0:00:01\r\u001b[K     |█▉                              | 40kB 12.7MB/s eta 0:00:01\r\u001b[K     |██▎                             | 51kB 8.5MB/s eta 0:00:01\r\u001b[K     |██▊                             | 61kB 8.5MB/s eta 0:00:01\r\u001b[K     |███▏                            | 71kB 9.1MB/s eta 0:00:01\r\u001b[K     |███▋                            | 81kB 9.9MB/s eta 0:00:01\r\u001b[K     |████                            | 92kB 9.3MB/s eta 0:00:01\r\u001b[K     |████▌                           | 102kB 8.1MB/s eta 0:00:01\r\u001b[K     |█████                           | 112kB 8.1MB/s eta 0:00:01\r\u001b[K     |█████▌                          | 122kB 8.1MB/s eta 0:00:01\r\u001b[K     |██████                          | 133kB 8.1MB/s eta 0:00:01\r\u001b[K     |██████▍                         | 143kB 8.1MB/s eta 0:00:01\r\u001b[K     |██████▉                         | 153kB 8.1MB/s eta 0:00:01\r\u001b[K     |███████▎                        | 163kB 8.1MB/s eta 0:00:01\r\u001b[K     |███████▊                        | 174kB 8.1MB/s eta 0:00:01\r\u001b[K     |████████▏                       | 184kB 8.1MB/s eta 0:00:01\r\u001b[K     |████████▋                       | 194kB 8.1MB/s eta 0:00:01\r\u001b[K     |█████████                       | 204kB 8.1MB/s eta 0:00:01\r\u001b[K     |█████████▋                      | 215kB 8.1MB/s eta 0:00:01\r\u001b[K     |██████████                      | 225kB 8.1MB/s eta 0:00:01\r\u001b[K     |██████████▌                     | 235kB 8.1MB/s eta 0:00:01\r\u001b[K     |███████████                     | 245kB 8.1MB/s eta 0:00:01\r\u001b[K     |███████████▍                    | 256kB 8.1MB/s eta 0:00:01\r\u001b[K     |███████████▉                    | 266kB 8.1MB/s eta 0:00:01\r\u001b[K     |████████████▎                   | 276kB 8.1MB/s eta 0:00:01\r\u001b[K     |████████████▊                   | 286kB 8.1MB/s eta 0:00:01\r\u001b[K     |█████████████▏                  | 296kB 8.1MB/s eta 0:00:01\r\u001b[K     |█████████████▋                  | 307kB 8.1MB/s eta 0:00:01\r\u001b[K     |██████████████                  | 317kB 8.1MB/s eta 0:00:01\r\u001b[K     |██████████████▋                 | 327kB 8.1MB/s eta 0:00:01\r\u001b[K     |███████████████                 | 337kB 8.1MB/s eta 0:00:01\r\u001b[K     |███████████████▌                | 348kB 8.1MB/s eta 0:00:01\r\u001b[K     |████████████████                | 358kB 8.1MB/s eta 0:00:01\r\u001b[K     |████████████████▍               | 368kB 8.1MB/s eta 0:00:01\r\u001b[K     |████████████████▉               | 378kB 8.1MB/s eta 0:00:01\r\u001b[K     |█████████████████▎              | 389kB 8.1MB/s eta 0:00:01\r\u001b[K     |█████████████████▊              | 399kB 8.1MB/s eta 0:00:01\r\u001b[K     |██████████████████▏             | 409kB 8.1MB/s eta 0:00:01\r\u001b[K     |██████████████████▋             | 419kB 8.1MB/s eta 0:00:01\r\u001b[K     |███████████████████▏            | 430kB 8.1MB/s eta 0:00:01\r\u001b[K     |███████████████████▋            | 440kB 8.1MB/s eta 0:00:01\r\u001b[K     |████████████████████            | 450kB 8.1MB/s eta 0:00:01\r\u001b[K     |████████████████████▌           | 460kB 8.1MB/s eta 0:00:01\r\u001b[K     |█████████████████████           | 471kB 8.1MB/s eta 0:00:01\r\u001b[K     |█████████████████████▍          | 481kB 8.1MB/s eta 0:00:01\r\u001b[K     |█████████████████████▉          | 491kB 8.1MB/s eta 0:00:01\r\u001b[K     |██████████████████████▎         | 501kB 8.1MB/s eta 0:00:01\r\u001b[K     |██████████████████████▊         | 512kB 8.1MB/s eta 0:00:01\r\u001b[K     |███████████████████████▏        | 522kB 8.1MB/s eta 0:00:01\r\u001b[K     |███████████████████████▋        | 532kB 8.1MB/s eta 0:00:01\r\u001b[K     |████████████████████████▏       | 542kB 8.1MB/s eta 0:00:01\r\u001b[K     |████████████████████████▋       | 552kB 8.1MB/s eta 0:00:01\r\u001b[K     |█████████████████████████       | 563kB 8.1MB/s eta 0:00:01\r\u001b[K     |█████████████████████████▌      | 573kB 8.1MB/s eta 0:00:01\r\u001b[K     |██████████████████████████      | 583kB 8.1MB/s eta 0:00:01\r\u001b[K     |██████████████████████████▍     | 593kB 8.1MB/s eta 0:00:01\r\u001b[K     |██████████████████████████▉     | 604kB 8.1MB/s eta 0:00:01\r\u001b[K     |███████████████████████████▎    | 614kB 8.1MB/s eta 0:00:01\r\u001b[K     |███████████████████████████▊    | 624kB 8.1MB/s eta 0:00:01\r\u001b[K     |████████████████████████████▏   | 634kB 8.1MB/s eta 0:00:01\r\u001b[K     |████████████████████████████▊   | 645kB 8.1MB/s eta 0:00:01\r\u001b[K     |█████████████████████████████▏  | 655kB 8.1MB/s eta 0:00:01\r\u001b[K     |█████████████████████████████▋  | 665kB 8.1MB/s eta 0:00:01\r\u001b[K     |██████████████████████████████  | 675kB 8.1MB/s eta 0:00:01\r\u001b[K     |██████████████████████████████▌ | 686kB 8.1MB/s eta 0:00:01\r\u001b[K     |███████████████████████████████ | 696kB 8.1MB/s eta 0:00:01\r\u001b[K     |███████████████████████████████▍| 706kB 8.1MB/s eta 0:00:01\r\u001b[K     |███████████████████████████████▉| 716kB 8.1MB/s eta 0:00:01\r\u001b[K     |████████████████████████████████| 727kB 8.1MB/s \n",
            "\u001b[?25hRequirement already satisfied: pandas in /usr/local/lib/python3.7/dist-packages (from fastbook) (1.1.5)\n",
            "Requirement already satisfied: ipywidgets in /usr/local/lib/python3.7/dist-packages (from fastbook) (7.6.3)\n",
            "Requirement already satisfied: packaging in /usr/local/lib/python3.7/dist-packages (from fastbook) (20.9)\n",
            "Collecting sentencepiece\n",
            "\u001b[?25l  Downloading https://files.pythonhosted.org/packages/ac/aa/1437691b0c7c83086ebb79ce2da16e00bef024f24fec2a5161c35476f499/sentencepiece-0.1.96-cp37-cp37m-manylinux_2_17_x86_64.manylinux2014_x86_64.whl (1.2MB)\n",
            "\u001b[K     |████████████████████████████████| 1.2MB 17.6MB/s \n",
            "\u001b[?25hRequirement already satisfied: pip in /usr/local/lib/python3.7/dist-packages (from fastbook) (19.3.1)\n",
            "Collecting fastai>=2.1\n",
            "\u001b[?25l  Downloading https://files.pythonhosted.org/packages/bd/ca/bc9f4e04adcdfda1357f5c63bc67a7bf4f315883ca544726f3376b1ed068/fastai-2.4-py3-none-any.whl (187kB)\n",
            "\u001b[K     |████████████████████████████████| 194kB 37.4MB/s \n",
            "\u001b[?25hCollecting nbdev>=0.2.38\n",
            "\u001b[?25l  Downloading https://files.pythonhosted.org/packages/5c/c8/e2fba530b84a770373a106e4828ea83df62104b9694e367d169e07ea484f/nbdev-1.1.14-py3-none-any.whl (46kB)\n",
            "\u001b[K     |████████████████████████████████| 51kB 7.3MB/s \n",
            "\u001b[?25hRequirement already satisfied: requests in /usr/local/lib/python3.7/dist-packages (from fastbook) (2.23.0)\n",
            "Requirement already satisfied: numpy>=1.15.4 in /usr/local/lib/python3.7/dist-packages (from pandas->fastbook) (1.19.5)\n",
            "Requirement already satisfied: python-dateutil>=2.7.3 in /usr/local/lib/python3.7/dist-packages (from pandas->fastbook) (2.8.1)\n",
            "Requirement already satisfied: pytz>=2017.2 in /usr/local/lib/python3.7/dist-packages (from pandas->fastbook) (2018.9)\n",
            "Requirement already satisfied: ipython>=4.0.0; python_version >= \"3.3\" in /usr/local/lib/python3.7/dist-packages (from ipywidgets->fastbook) (5.5.0)\n",
            "Requirement already satisfied: nbformat>=4.2.0 in /usr/local/lib/python3.7/dist-packages (from ipywidgets->fastbook) (5.1.3)\n",
            "Requirement already satisfied: widgetsnbextension~=3.5.0 in /usr/local/lib/python3.7/dist-packages (from ipywidgets->fastbook) (3.5.1)\n",
            "Requirement already satisfied: jupyterlab-widgets>=1.0.0; python_version >= \"3.6\" in /usr/local/lib/python3.7/dist-packages (from ipywidgets->fastbook) (1.0.0)\n",
            "Requirement already satisfied: traitlets>=4.3.1 in /usr/local/lib/python3.7/dist-packages (from ipywidgets->fastbook) (5.0.5)\n",
            "Requirement already satisfied: ipykernel>=4.5.1 in /usr/local/lib/python3.7/dist-packages (from ipywidgets->fastbook) (4.10.1)\n",
            "Requirement already satisfied: pyparsing>=2.0.2 in /usr/local/lib/python3.7/dist-packages (from packaging->fastbook) (2.4.7)\n",
            "Collecting fastcore<1.4,>=1.3.8\n",
            "\u001b[?25l  Downloading https://files.pythonhosted.org/packages/d8/b0/f1fbf554e0bf3c76e1bdc3b82eedfe41fcf656479586be38c64421082b1b/fastcore-1.3.20-py3-none-any.whl (53kB)\n",
            "\u001b[K     |████████████████████████████████| 61kB 8.6MB/s \n",
            "\u001b[?25hRequirement already satisfied: pyyaml in /usr/local/lib/python3.7/dist-packages (from fastai>=2.1->fastbook) (3.13)\n",
            "Requirement already satisfied: torch<1.10,>=1.7.0 in /usr/local/lib/python3.7/dist-packages (from fastai>=2.1->fastbook) (1.9.0+cu102)\n",
            "Requirement already satisfied: spacy<4 in /usr/local/lib/python3.7/dist-packages (from fastai>=2.1->fastbook) (2.2.4)\n",
            "Requirement already satisfied: fastprogress>=0.2.4 in /usr/local/lib/python3.7/dist-packages (from fastai>=2.1->fastbook) (1.0.0)\n",
            "Requirement already satisfied: scikit-learn in /usr/local/lib/python3.7/dist-packages (from fastai>=2.1->fastbook) (0.22.2.post1)\n",
            "Requirement already satisfied: scipy in /usr/local/lib/python3.7/dist-packages (from fastai>=2.1->fastbook) (1.4.1)\n",
            "Requirement already satisfied: matplotlib in /usr/local/lib/python3.7/dist-packages (from fastai>=2.1->fastbook) (3.2.2)\n",
            "Requirement already satisfied: pillow>6.0.0 in /usr/local/lib/python3.7/dist-packages (from fastai>=2.1->fastbook) (7.1.2)\n",
            "Requirement already satisfied: torchvision>=0.8.2 in /usr/local/lib/python3.7/dist-packages (from fastai>=2.1->fastbook) (0.10.0+cu102)\n",
            "Requirement already satisfied: jupyter-client<=6.1.12 in /usr/local/lib/python3.7/dist-packages (from nbdev>=0.2.38->fastbook) (5.3.5)\n",
            "Collecting ghapi\n",
            "\u001b[?25l  Downloading https://files.pythonhosted.org/packages/08/cf/9aef37ef04f5aa8df5396750cb531cbfdc8a362d958fcad34dd4c22aa2c1/ghapi-0.1.17-py3-none-any.whl (51kB)\n",
            "\u001b[K     |████████████████████████████████| 61kB 7.9MB/s \n",
            "\u001b[?25hRequirement already satisfied: nbconvert<6 in /usr/local/lib/python3.7/dist-packages (from nbdev>=0.2.38->fastbook) (5.6.1)\n",
            "Requirement already satisfied: jupyter in /usr/local/lib/python3.7/dist-packages (from nbdev>=0.2.38->fastbook) (1.0.0)\n",
            "Collecting fastrelease\n",
            "  Downloading https://files.pythonhosted.org/packages/8f/66/685d5cbd0534395a209ad04afb1573f03467ef3b430b8ee1fec24c332d0c/fastrelease-0.1.11-py3-none-any.whl\n",
            "Requirement already satisfied: idna<3,>=2.5 in /usr/local/lib/python3.7/dist-packages (from requests->fastbook) (2.10)\n",
            "Requirement already satisfied: urllib3!=1.25.0,!=1.25.1,<1.26,>=1.21.1 in /usr/local/lib/python3.7/dist-packages (from requests->fastbook) (1.24.3)\n",
            "Requirement already satisfied: chardet<4,>=3.0.2 in /usr/local/lib/python3.7/dist-packages (from requests->fastbook) (3.0.4)\n",
            "Requirement already satisfied: certifi>=2017.4.17 in /usr/local/lib/python3.7/dist-packages (from requests->fastbook) (2021.5.30)\n",
            "Requirement already satisfied: six>=1.5 in /usr/local/lib/python3.7/dist-packages (from python-dateutil>=2.7.3->pandas->fastbook) (1.15.0)\n",
            "Requirement already satisfied: pygments in /usr/local/lib/python3.7/dist-packages (from ipython>=4.0.0; python_version >= \"3.3\"->ipywidgets->fastbook) (2.6.1)\n",
            "Requirement already satisfied: simplegeneric>0.8 in /usr/local/lib/python3.7/dist-packages (from ipython>=4.0.0; python_version >= \"3.3\"->ipywidgets->fastbook) (0.8.1)\n",
            "Requirement already satisfied: pickleshare in /usr/local/lib/python3.7/dist-packages (from ipython>=4.0.0; python_version >= \"3.3\"->ipywidgets->fastbook) (0.7.5)\n",
            "Requirement already satisfied: pexpect; sys_platform != \"win32\" in /usr/local/lib/python3.7/dist-packages (from ipython>=4.0.0; python_version >= \"3.3\"->ipywidgets->fastbook) (4.8.0)\n",
            "Requirement already satisfied: setuptools>=18.5 in /usr/local/lib/python3.7/dist-packages (from ipython>=4.0.0; python_version >= \"3.3\"->ipywidgets->fastbook) (57.0.0)\n",
            "Requirement already satisfied: decorator in /usr/local/lib/python3.7/dist-packages (from ipython>=4.0.0; python_version >= \"3.3\"->ipywidgets->fastbook) (4.4.2)\n",
            "Requirement already satisfied: prompt-toolkit<2.0.0,>=1.0.4 in /usr/local/lib/python3.7/dist-packages (from ipython>=4.0.0; python_version >= \"3.3\"->ipywidgets->fastbook) (1.0.18)\n",
            "Requirement already satisfied: jsonschema!=2.5.0,>=2.4 in /usr/local/lib/python3.7/dist-packages (from nbformat>=4.2.0->ipywidgets->fastbook) (2.6.0)\n",
            "Requirement already satisfied: jupyter-core in /usr/local/lib/python3.7/dist-packages (from nbformat>=4.2.0->ipywidgets->fastbook) (4.7.1)\n",
            "Requirement already satisfied: ipython-genutils in /usr/local/lib/python3.7/dist-packages (from nbformat>=4.2.0->ipywidgets->fastbook) (0.2.0)\n",
            "Requirement already satisfied: notebook>=4.4.1 in /usr/local/lib/python3.7/dist-packages (from widgetsnbextension~=3.5.0->ipywidgets->fastbook) (5.3.1)\n",
            "Requirement already satisfied: tornado>=4.0 in /usr/local/lib/python3.7/dist-packages (from ipykernel>=4.5.1->ipywidgets->fastbook) (5.1.1)\n",
            "Requirement already satisfied: typing-extensions in /usr/local/lib/python3.7/dist-packages (from torch<1.10,>=1.7.0->fastai>=2.1->fastbook) (3.7.4.3)\n",
            "Requirement already satisfied: thinc==7.4.0 in /usr/local/lib/python3.7/dist-packages (from spacy<4->fastai>=2.1->fastbook) (7.4.0)\n",
            "Requirement already satisfied: srsly<1.1.0,>=1.0.2 in /usr/local/lib/python3.7/dist-packages (from spacy<4->fastai>=2.1->fastbook) (1.0.5)\n",
            "Requirement already satisfied: wasabi<1.1.0,>=0.4.0 in /usr/local/lib/python3.7/dist-packages (from spacy<4->fastai>=2.1->fastbook) (0.8.2)\n",
            "Requirement already satisfied: murmurhash<1.1.0,>=0.28.0 in /usr/local/lib/python3.7/dist-packages (from spacy<4->fastai>=2.1->fastbook) (1.0.5)\n",
            "Requirement already satisfied: blis<0.5.0,>=0.4.0 in /usr/local/lib/python3.7/dist-packages (from spacy<4->fastai>=2.1->fastbook) (0.4.1)\n",
            "Requirement already satisfied: preshed<3.1.0,>=3.0.2 in /usr/local/lib/python3.7/dist-packages (from spacy<4->fastai>=2.1->fastbook) (3.0.5)\n",
            "Requirement already satisfied: plac<1.2.0,>=0.9.6 in /usr/local/lib/python3.7/dist-packages (from spacy<4->fastai>=2.1->fastbook) (1.1.3)\n",
            "Requirement already satisfied: cymem<2.1.0,>=2.0.2 in /usr/local/lib/python3.7/dist-packages (from spacy<4->fastai>=2.1->fastbook) (2.0.5)\n",
            "Requirement already satisfied: catalogue<1.1.0,>=0.0.7 in /usr/local/lib/python3.7/dist-packages (from spacy<4->fastai>=2.1->fastbook) (1.0.0)\n",
            "Requirement already satisfied: tqdm<5.0.0,>=4.38.0 in /usr/local/lib/python3.7/dist-packages (from spacy<4->fastai>=2.1->fastbook) (4.41.1)\n",
            "Requirement already satisfied: joblib>=0.11 in /usr/local/lib/python3.7/dist-packages (from scikit-learn->fastai>=2.1->fastbook) (1.0.1)\n",
            "Requirement already satisfied: kiwisolver>=1.0.1 in /usr/local/lib/python3.7/dist-packages (from matplotlib->fastai>=2.1->fastbook) (1.3.1)\n",
            "Requirement already satisfied: cycler>=0.10 in /usr/local/lib/python3.7/dist-packages (from matplotlib->fastai>=2.1->fastbook) (0.10.0)\n",
            "Requirement already satisfied: pyzmq>=13 in /usr/local/lib/python3.7/dist-packages (from jupyter-client<=6.1.12->nbdev>=0.2.38->fastbook) (22.1.0)\n",
            "Requirement already satisfied: testpath in /usr/local/lib/python3.7/dist-packages (from nbconvert<6->nbdev>=0.2.38->fastbook) (0.5.0)\n",
            "Requirement already satisfied: mistune<2,>=0.8.1 in /usr/local/lib/python3.7/dist-packages (from nbconvert<6->nbdev>=0.2.38->fastbook) (0.8.4)\n",
            "Requirement already satisfied: entrypoints>=0.2.2 in /usr/local/lib/python3.7/dist-packages (from nbconvert<6->nbdev>=0.2.38->fastbook) (0.3)\n",
            "Requirement already satisfied: jinja2>=2.4 in /usr/local/lib/python3.7/dist-packages (from nbconvert<6->nbdev>=0.2.38->fastbook) (2.11.3)\n",
            "Requirement already satisfied: bleach in /usr/local/lib/python3.7/dist-packages (from nbconvert<6->nbdev>=0.2.38->fastbook) (3.3.0)\n",
            "Requirement already satisfied: pandocfilters>=1.4.1 in /usr/local/lib/python3.7/dist-packages (from nbconvert<6->nbdev>=0.2.38->fastbook) (1.4.3)\n",
            "Requirement already satisfied: defusedxml in /usr/local/lib/python3.7/dist-packages (from nbconvert<6->nbdev>=0.2.38->fastbook) (0.7.1)\n",
            "Requirement already satisfied: jupyter-console in /usr/local/lib/python3.7/dist-packages (from jupyter->nbdev>=0.2.38->fastbook) (5.2.0)\n",
            "Requirement already satisfied: qtconsole in /usr/local/lib/python3.7/dist-packages (from jupyter->nbdev>=0.2.38->fastbook) (5.1.0)\n",
            "Requirement already satisfied: ptyprocess>=0.5 in /usr/local/lib/python3.7/dist-packages (from pexpect; sys_platform != \"win32\"->ipython>=4.0.0; python_version >= \"3.3\"->ipywidgets->fastbook) (0.7.0)\n",
            "Requirement already satisfied: wcwidth in /usr/local/lib/python3.7/dist-packages (from prompt-toolkit<2.0.0,>=1.0.4->ipython>=4.0.0; python_version >= \"3.3\"->ipywidgets->fastbook) (0.2.5)\n",
            "Requirement already satisfied: terminado>=0.8.1 in /usr/local/lib/python3.7/dist-packages (from notebook>=4.4.1->widgetsnbextension~=3.5.0->ipywidgets->fastbook) (0.10.1)\n",
            "Requirement already satisfied: Send2Trash in /usr/local/lib/python3.7/dist-packages (from notebook>=4.4.1->widgetsnbextension~=3.5.0->ipywidgets->fastbook) (1.5.0)\n",
            "Requirement already satisfied: importlib-metadata>=0.20; python_version < \"3.8\" in /usr/local/lib/python3.7/dist-packages (from catalogue<1.1.0,>=0.0.7->spacy<4->fastai>=2.1->fastbook) (4.5.0)\n",
            "Requirement already satisfied: MarkupSafe>=0.23 in /usr/local/lib/python3.7/dist-packages (from jinja2>=2.4->nbconvert<6->nbdev>=0.2.38->fastbook) (2.0.1)\n",
            "Requirement already satisfied: webencodings in /usr/local/lib/python3.7/dist-packages (from bleach->nbconvert<6->nbdev>=0.2.38->fastbook) (0.5.1)\n",
            "Requirement already satisfied: qtpy in /usr/local/lib/python3.7/dist-packages (from qtconsole->jupyter->nbdev>=0.2.38->fastbook) (1.9.0)\n",
            "Requirement already satisfied: zipp>=0.5 in /usr/local/lib/python3.7/dist-packages (from importlib-metadata>=0.20; python_version < \"3.8\"->catalogue<1.1.0,>=0.0.7->spacy<4->fastai>=2.1->fastbook) (3.4.1)\n",
            "Installing collected packages: sentencepiece, fastcore, fastai, ghapi, fastrelease, nbdev, fastbook\n",
            "  Found existing installation: fastai 1.0.61\n",
            "    Uninstalling fastai-1.0.61:\n",
            "      Successfully uninstalled fastai-1.0.61\n",
            "Successfully installed fastai-2.4 fastbook-0.0.16 fastcore-1.3.20 fastrelease-0.1.11 ghapi-0.1.17 nbdev-1.1.14 sentencepiece-0.1.96\n"
          ],
          "name": "stdout"
        }
      ]
    },
    {
      "cell_type": "code",
      "metadata": {
        "id": "Ko7hH32GgEW1",
        "colab": {
          "base_uri": "https://localhost:8080/",
          "height": 17
        },
        "outputId": "809affea-64fd-4d39-b6d9-628b152354ca"
      },
      "source": [
        "path = untar_data(URLs.MNIST_SAMPLE)"
      ],
      "execution_count": 2,
      "outputs": [
        {
          "output_type": "display_data",
          "data": {
            "text/html": [
              ""
            ],
            "text/plain": [
              "<IPython.core.display.HTML object>"
            ]
          },
          "metadata": {
            "tags": []
          }
        }
      ]
    },
    {
      "cell_type": "code",
      "metadata": {
        "colab": {
          "base_uri": "https://localhost:8080/"
        },
        "id": "mtc0eGb5gNSC",
        "outputId": "3d4a6900-01d5-4efb-f3d5-7f187dda046b"
      },
      "source": [
        "Path.BASE_PATH = path \n",
        "path"
      ],
      "execution_count": 3,
      "outputs": [
        {
          "output_type": "execute_result",
          "data": {
            "text/plain": [
              "Path('.')"
            ]
          },
          "metadata": {
            "tags": []
          },
          "execution_count": 3
        }
      ]
    },
    {
      "cell_type": "code",
      "metadata": {
        "colab": {
          "base_uri": "https://localhost:8080/"
        },
        "id": "R_ZM4UnIgp7Y",
        "outputId": "00b6a527-c6e7-4769-bc7b-e5c1ed1612b2"
      },
      "source": [
        "path.ls() # shows the what's in the path "
      ],
      "execution_count": 4,
      "outputs": [
        {
          "output_type": "execute_result",
          "data": {
            "text/plain": [
              "(#3) [Path('valid'),Path('labels.csv'),Path('train')]"
            ]
          },
          "metadata": {
            "tags": []
          },
          "execution_count": 4
        }
      ]
    },
    {
      "cell_type": "code",
      "metadata": {
        "id": "rjc_aFDigsj1"
      },
      "source": [
        "threes = (path/'train/3').ls().sorted()\n",
        "sevens = (path/'train/7').ls().sorted()"
      ],
      "execution_count": 5,
      "outputs": []
    },
    {
      "cell_type": "code",
      "metadata": {
        "colab": {
          "base_uri": "https://localhost:8080/"
        },
        "id": "oncXh_qzg1wN",
        "outputId": "0f4b39bd-229a-42b2-d7bd-74ed821b851b"
      },
      "source": [
        "threes"
      ],
      "execution_count": 6,
      "outputs": [
        {
          "output_type": "execute_result",
          "data": {
            "text/plain": [
              "(#6131) [Path('train/3/10.png'),Path('train/3/10000.png'),Path('train/3/10011.png'),Path('train/3/10031.png'),Path('train/3/10034.png'),Path('train/3/10042.png'),Path('train/3/10052.png'),Path('train/3/1007.png'),Path('train/3/10074.png'),Path('train/3/10091.png')...]"
            ]
          },
          "metadata": {
            "tags": []
          },
          "execution_count": 6
        }
      ]
    },
    {
      "cell_type": "code",
      "metadata": {
        "colab": {
          "base_uri": "https://localhost:8080/",
          "height": 45
        },
        "id": "1Bgpv6YmhdFs",
        "outputId": "1644839f-1fe8-4e7a-c6e7-253d5e71b234"
      },
      "source": [
        "im3_path = threes[1]\n",
        "im3 = Image.open(im3_path)\n",
        "im3"
      ],
      "execution_count": 7,
      "outputs": [
        {
          "output_type": "execute_result",
          "data": {
            "image/png": "[encoded data removed]",
            "text/plain": [
              "<PIL.PngImagePlugin.PngImageFile image mode=L size=28x28 at 0x7F31386C7950>"
            ]
          },
          "metadata": {
            "tags": []
          },
          "execution_count": 7
        }
      ]
    },
    {
      "cell_type": "code",
      "metadata": {
        "colab": {
          "base_uri": "https://localhost:8080/"
        },
        "id": "FIjeLVcRhm3W",
        "outputId": "047685f2-f8b9-45e0-d0e5-a53e268d4a54"
      },
      "source": [
        "np.array(im3)[4:10,4:10]"
      ],
      "execution_count": 8,
      "outputs": [
        {
          "output_type": "execute_result",
          "data": {
            "text/plain": [
              "array([[  0,   0,   0,   0,   0,   0],\n",
              "       [  0,   0,   0,   0,   0,  29],\n",
              "       [  0,   0,   0,  48, 166, 224],\n",
              "       [  0,  93, 244, 249, 253, 187],\n",
              "       [  0, 107, 253, 253, 230,  48],\n",
              "       [  0,   3,  20,  20,  15,   0]], dtype=uint8)"
            ]
          },
          "metadata": {
            "tags": []
          },
          "execution_count": 8
        }
      ]
    },
    {
      "cell_type": "code",
      "metadata": {
        "colab": {
          "base_uri": "https://localhost:8080/"
        },
        "id": "H_LeoJJPhqvH",
        "outputId": "6938de40-fada-45e9-fd16-be06e1c8efc0"
      },
      "source": [
        "tensor(im3)[4:10,4:10] # pytorch version of the same array "
      ],
      "execution_count": 9,
      "outputs": [
        {
          "output_type": "execute_result",
          "data": {
            "text/plain": [
              "tensor([[  0,   0,   0,   0,   0,   0],\n",
              "        [  0,   0,   0,   0,   0,  29],\n",
              "        [  0,   0,   0,  48, 166, 224],\n",
              "        [  0,  93, 244, 249, 253, 187],\n",
              "        [  0, 107, 253, 253, 230,  48],\n",
              "        [  0,   3,  20,  20,  15,   0]], dtype=torch.uint8)"
            ]
          },
          "metadata": {
            "tags": []
          },
          "execution_count": 9
        }
      ]
    },
    {
      "cell_type": "code",
      "metadata": {
        "id": "7lkXOzBrh2En"
      },
      "source": [
        "# pytorch tensors have the GPU provides the computation advantage \n"
      ],
      "execution_count": 10,
      "outputs": []
    },
    {
      "cell_type": "code",
      "metadata": {
        "colab": {
          "base_uri": "https://localhost:8080/",
          "height": 272
        },
        "id": "GA-QLGARiDf-",
        "outputId": "ec8d2852-80ea-482d-cd5e-5468c467f04b"
      },
      "source": [
        "# grabbing the tensor 3 and converting to the pandas dataframe \n",
        "im3_t = tensor(im3)\n",
        "df = pd.DataFrame(im3_t[4:15,5:22])\n",
        "df.style.set_properties(**{'font-size' : '6pt'}).background_gradient('Greys')"
      ],
      "execution_count": 11,
      "outputs": [
        {
          "output_type": "execute_result",
          "data": {
            "text/html": [
              "<style  type=\"text/css\" >\n",
              "#T_8f9fd49e_da45_11eb_a00b_0242ac1c0002row0_col0,#T_8f9fd49e_da45_11eb_a00b_0242ac1c0002row0_col1,#T_8f9fd49e_da45_11eb_a00b_0242ac1c0002row0_col2,#T_8f9fd49e_da45_11eb_a00b_0242ac1c0002row0_col3,#T_8f9fd49e_da45_11eb_a00b_0242ac1c0002row0_col4,#T_8f9fd49e_da45_11eb_a00b_0242ac1c0002row0_col5,#T_8f9fd49e_da45_11eb_a00b_0242ac1c0002row0_col6,#T_8f9fd49e_da45_11eb_a00b_0242ac1c0002row0_col7,#T_8f9fd49e_da45_11eb_a00b_0242ac1c0002row0_col8,#T_8f9fd49e_da45_11eb_a00b_0242ac1c0002row0_col9,#T_8f9fd49e_da45_11eb_a00b_0242ac1c0002row0_col10,#T_8f9fd49e_da45_11eb_a00b_0242ac1c0002row0_col11,#T_8f9fd49e_da45_11eb_a00b_0242ac1c0002row0_col12,#T_8f9fd49e_da45_11eb_a00b_0242ac1c0002row0_col13,#T_8f9fd49e_da45_11eb_a00b_0242ac1c0002row0_col14,#T_8f9fd49e_da45_11eb_a00b_0242ac1c0002row0_col15,#T_8f9fd49e_da45_11eb_a00b_0242ac1c0002row0_col16,#T_8f9fd49e_da45_11eb_a00b_0242ac1c0002row1_col0,#T_8f9fd49e_da45_11eb_a00b_0242ac1c0002row1_col1,#T_8f9fd49e_da45_11eb_a00b_0242ac1c0002row1_col2,#T_8f9fd49e_da45_11eb_a00b_0242ac1c0002row1_col3,#T_8f9fd49e_da45_11eb_a00b_0242ac1c0002row1_col14,#T_8f9fd49e_da45_11eb_a00b_0242ac1c0002row1_col15,#T_8f9fd49e_da45_11eb_a00b_0242ac1c0002row1_col16,#T_8f9fd49e_da45_11eb_a00b_0242ac1c0002row2_col0,#T_8f9fd49e_da45_11eb_a00b_0242ac1c0002row2_col1,#T_8f9fd49e_da45_11eb_a00b_0242ac1c0002row2_col14,#T_8f9fd49e_da45_11eb_a00b_0242ac1c0002row2_col15,#T_8f9fd49e_da45_11eb_a00b_0242ac1c0002row2_col16,#T_8f9fd49e_da45_11eb_a00b_0242ac1c0002row3_col14,#T_8f9fd49e_da45_11eb_a00b_0242ac1c0002row3_col15,#T_8f9fd49e_da45_11eb_a00b_0242ac1c0002row3_col16,#T_8f9fd49e_da45_11eb_a00b_0242ac1c0002row4_col5,#T_8f9fd49e_da45_11eb_a00b_0242ac1c0002row4_col6,#T_8f9fd49e_da45_11eb_a00b_0242ac1c0002row4_col7,#T_8f9fd49e_da45_11eb_a00b_0242ac1c0002row4_col8,#T_8f9fd49e_da45_11eb_a00b_0242ac1c0002row4_col9,#T_8f9fd49e_da45_11eb_a00b_0242ac1c0002row4_col14,#T_8f9fd49e_da45_11eb_a00b_0242ac1c0002row4_col15,#T_8f9fd49e_da45_11eb_a00b_0242ac1c0002row4_col16,#T_8f9fd49e_da45_11eb_a00b_0242ac1c0002row5_col4,#T_8f9fd49e_da45_11eb_a00b_0242ac1c0002row5_col5,#T_8f9fd49e_da45_11eb_a00b_0242ac1c0002row5_col6,#T_8f9fd49e_da45_11eb_a00b_0242ac1c0002row5_col7,#T_8f9fd49e_da45_11eb_a00b_0242ac1c0002row5_col8,#T_8f9fd49e_da45_11eb_a00b_0242ac1c0002row5_col14,#T_8f9fd49e_da45_11eb_a00b_0242ac1c0002row5_col15,#T_8f9fd49e_da45_11eb_a00b_0242ac1c0002row5_col16,#T_8f9fd49e_da45_11eb_a00b_0242ac1c0002row6_col0,#T_8f9fd49e_da45_11eb_a00b_0242ac1c0002row6_col1,#T_8f9fd49e_da45_11eb_a00b_0242ac1c0002row6_col2,#T_8f9fd49e_da45_11eb_a00b_0242ac1c0002row6_col3,#T_8f9fd49e_da45_11eb_a00b_0242ac1c0002row6_col4,#T_8f9fd49e_da45_11eb_a00b_0242ac1c0002row6_col5,#T_8f9fd49e_da45_11eb_a00b_0242ac1c0002row6_col6,#T_8f9fd49e_da45_11eb_a00b_0242ac1c0002row6_col7,#T_8f9fd49e_da45_11eb_a00b_0242ac1c0002row6_col8,#T_8f9fd49e_da45_11eb_a00b_0242ac1c0002row6_col13,#T_8f9fd49e_da45_11eb_a00b_0242ac1c0002row6_col14,#T_8f9fd49e_da45_11eb_a00b_0242ac1c0002row6_col15,#T_8f9fd49e_da45_11eb_a00b_0242ac1c0002row6_col16,#T_8f9fd49e_da45_11eb_a00b_0242ac1c0002row7_col0,#T_8f9fd49e_da45_11eb_a00b_0242ac1c0002row7_col1,#T_8f9fd49e_da45_11eb_a00b_0242ac1c0002row7_col2,#T_8f9fd49e_da45_11eb_a00b_0242ac1c0002row7_col3,#T_8f9fd49e_da45_11eb_a00b_0242ac1c0002row7_col4,#T_8f9fd49e_da45_11eb_a00b_0242ac1c0002row7_col5,#T_8f9fd49e_da45_11eb_a00b_0242ac1c0002row7_col12,#T_8f9fd49e_da45_11eb_a00b_0242ac1c0002row7_col13,#T_8f9fd49e_da45_11eb_a00b_0242ac1c0002row7_col14,#T_8f9fd49e_da45_11eb_a00b_0242ac1c0002row7_col15,#T_8f9fd49e_da45_11eb_a00b_0242ac1c0002row7_col16,#T_8f9fd49e_da45_11eb_a00b_0242ac1c0002row8_col0,#T_8f9fd49e_da45_11eb_a00b_0242ac1c0002row8_col1,#T_8f9fd49e_da45_11eb_a00b_0242ac1c0002row8_col2,#T_8f9fd49e_da45_11eb_a00b_0242ac1c0002row8_col3,#T_8f9fd49e_da45_11eb_a00b_0242ac1c0002row8_col12,#T_8f9fd49e_da45_11eb_a00b_0242ac1c0002row8_col13,#T_8f9fd49e_da45_11eb_a00b_0242ac1c0002row8_col14,#T_8f9fd49e_da45_11eb_a00b_0242ac1c0002row8_col15,#T_8f9fd49e_da45_11eb_a00b_0242ac1c0002row8_col16,#T_8f9fd49e_da45_11eb_a00b_0242ac1c0002row9_col0,#T_8f9fd49e_da45_11eb_a00b_0242ac1c0002row9_col1,#T_8f9fd49e_da45_11eb_a00b_0242ac1c0002row9_col2,#T_8f9fd49e_da45_11eb_a00b_0242ac1c0002row9_col3,#T_8f9fd49e_da45_11eb_a00b_0242ac1c0002row9_col15,#T_8f9fd49e_da45_11eb_a00b_0242ac1c0002row9_col16,#T_8f9fd49e_da45_11eb_a00b_0242ac1c0002row10_col0,#T_8f9fd49e_da45_11eb_a00b_0242ac1c0002row10_col1,#T_8f9fd49e_da45_11eb_a00b_0242ac1c0002row10_col2,#T_8f9fd49e_da45_11eb_a00b_0242ac1c0002row10_col3,#T_8f9fd49e_da45_11eb_a00b_0242ac1c0002row10_col4,#T_8f9fd49e_da45_11eb_a00b_0242ac1c0002row10_col5,#T_8f9fd49e_da45_11eb_a00b_0242ac1c0002row10_col16{\n",
              "            font-size:  6pt;\n",
              "            background-color:  #ffffff;\n",
              "            color:  #000000;\n",
              "        }#T_8f9fd49e_da45_11eb_a00b_0242ac1c0002row1_col4{\n",
              "            font-size:  6pt;\n",
              "            background-color:  #efefef;\n",
              "            color:  #000000;\n",
              "        }#T_8f9fd49e_da45_11eb_a00b_0242ac1c0002row1_col5,#T_8f9fd49e_da45_11eb_a00b_0242ac1c0002row1_col12{\n",
              "            font-size:  6pt;\n",
              "            background-color:  #7c7c7c;\n",
              "            color:  #000000;\n",
              "        }#T_8f9fd49e_da45_11eb_a00b_0242ac1c0002row1_col6{\n",
              "            font-size:  6pt;\n",
              "            background-color:  #4a4a4a;\n",
              "            color:  #f1f1f1;\n",
              "        }#T_8f9fd49e_da45_11eb_a00b_0242ac1c0002row1_col7,#T_8f9fd49e_da45_11eb_a00b_0242ac1c0002row1_col8,#T_8f9fd49e_da45_11eb_a00b_0242ac1c0002row1_col9,#T_8f9fd49e_da45_11eb_a00b_0242ac1c0002row2_col4,#T_8f9fd49e_da45_11eb_a00b_0242ac1c0002row2_col5,#T_8f9fd49e_da45_11eb_a00b_0242ac1c0002row2_col6,#T_8f9fd49e_da45_11eb_a00b_0242ac1c0002row2_col10,#T_8f9fd49e_da45_11eb_a00b_0242ac1c0002row2_col11,#T_8f9fd49e_da45_11eb_a00b_0242ac1c0002row2_col12,#T_8f9fd49e_da45_11eb_a00b_0242ac1c0002row3_col3,#T_8f9fd49e_da45_11eb_a00b_0242ac1c0002row3_col11,#T_8f9fd49e_da45_11eb_a00b_0242ac1c0002row3_col12,#T_8f9fd49e_da45_11eb_a00b_0242ac1c0002row4_col0,#T_8f9fd49e_da45_11eb_a00b_0242ac1c0002row4_col1,#T_8f9fd49e_da45_11eb_a00b_0242ac1c0002row4_col2,#T_8f9fd49e_da45_11eb_a00b_0242ac1c0002row4_col11,#T_8f9fd49e_da45_11eb_a00b_0242ac1c0002row4_col12,#T_8f9fd49e_da45_11eb_a00b_0242ac1c0002row5_col11,#T_8f9fd49e_da45_11eb_a00b_0242ac1c0002row6_col10,#T_8f9fd49e_da45_11eb_a00b_0242ac1c0002row9_col10,#T_8f9fd49e_da45_11eb_a00b_0242ac1c0002row10_col10,#T_8f9fd49e_da45_11eb_a00b_0242ac1c0002row10_col11,#T_8f9fd49e_da45_11eb_a00b_0242ac1c0002row10_col12,#T_8f9fd49e_da45_11eb_a00b_0242ac1c0002row10_col13,#T_8f9fd49e_da45_11eb_a00b_0242ac1c0002row10_col14,#T_8f9fd49e_da45_11eb_a00b_0242ac1c0002row10_col15{\n",
              "            font-size:  6pt;\n",
              "            background-color:  #000000;\n",
              "            color:  #f1f1f1;\n",
              "        }#T_8f9fd49e_da45_11eb_a00b_0242ac1c0002row1_col10{\n",
              "            font-size:  6pt;\n",
              "            background-color:  #606060;\n",
              "            color:  #f1f1f1;\n",
              "        }#T_8f9fd49e_da45_11eb_a00b_0242ac1c0002row1_col11{\n",
              "            font-size:  6pt;\n",
              "            background-color:  #4d4d4d;\n",
              "            color:  #f1f1f1;\n",
              "        }#T_8f9fd49e_da45_11eb_a00b_0242ac1c0002row1_col13{\n",
              "            font-size:  6pt;\n",
              "            background-color:  #bbbbbb;\n",
              "            color:  #000000;\n",
              "        }#T_8f9fd49e_da45_11eb_a00b_0242ac1c0002row2_col2{\n",
              "            font-size:  6pt;\n",
              "            background-color:  #e4e4e4;\n",
              "            color:  #000000;\n",
              "        }#T_8f9fd49e_da45_11eb_a00b_0242ac1c0002row2_col3,#T_8f9fd49e_da45_11eb_a00b_0242ac1c0002row8_col5{\n",
              "            font-size:  6pt;\n",
              "            background-color:  #6b6b6b;\n",
              "            color:  #000000;\n",
              "        }#T_8f9fd49e_da45_11eb_a00b_0242ac1c0002row2_col7,#T_8f9fd49e_da45_11eb_a00b_0242ac1c0002row2_col13,#T_8f9fd49e_da45_11eb_a00b_0242ac1c0002row3_col13{\n",
              "            font-size:  6pt;\n",
              "            background-color:  #171717;\n",
              "            color:  #f1f1f1;\n",
              "        }#T_8f9fd49e_da45_11eb_a00b_0242ac1c0002row2_col8,#T_8f9fd49e_da45_11eb_a00b_0242ac1c0002row3_col10{\n",
              "            font-size:  6pt;\n",
              "            background-color:  #4b4b4b;\n",
              "            color:  #f1f1f1;\n",
              "        }#T_8f9fd49e_da45_11eb_a00b_0242ac1c0002row2_col9,#T_8f9fd49e_da45_11eb_a00b_0242ac1c0002row7_col9,#T_8f9fd49e_da45_11eb_a00b_0242ac1c0002row8_col7,#T_8f9fd49e_da45_11eb_a00b_0242ac1c0002row8_col9,#T_8f9fd49e_da45_11eb_a00b_0242ac1c0002row9_col7,#T_8f9fd49e_da45_11eb_a00b_0242ac1c0002row9_col9{\n",
              "            font-size:  6pt;\n",
              "            background-color:  #010101;\n",
              "            color:  #f1f1f1;\n",
              "        }#T_8f9fd49e_da45_11eb_a00b_0242ac1c0002row3_col0{\n",
              "            font-size:  6pt;\n",
              "            background-color:  #272727;\n",
              "            color:  #f1f1f1;\n",
              "        }#T_8f9fd49e_da45_11eb_a00b_0242ac1c0002row3_col1{\n",
              "            font-size:  6pt;\n",
              "            background-color:  #0a0a0a;\n",
              "            color:  #f1f1f1;\n",
              "        }#T_8f9fd49e_da45_11eb_a00b_0242ac1c0002row3_col2{\n",
              "            font-size:  6pt;\n",
              "            background-color:  #050505;\n",
              "            color:  #f1f1f1;\n",
              "        }#T_8f9fd49e_da45_11eb_a00b_0242ac1c0002row3_col4{\n",
              "            font-size:  6pt;\n",
              "            background-color:  #333333;\n",
              "            color:  #f1f1f1;\n",
              "        }#T_8f9fd49e_da45_11eb_a00b_0242ac1c0002row3_col5{\n",
              "            font-size:  6pt;\n",
              "            background-color:  #e6e6e6;\n",
              "            color:  #000000;\n",
              "        }#T_8f9fd49e_da45_11eb_a00b_0242ac1c0002row3_col6,#T_8f9fd49e_da45_11eb_a00b_0242ac1c0002row3_col9{\n",
              "            font-size:  6pt;\n",
              "            background-color:  #fafafa;\n",
              "            color:  #000000;\n",
              "        }#T_8f9fd49e_da45_11eb_a00b_0242ac1c0002row3_col7{\n",
              "            font-size:  6pt;\n",
              "            background-color:  #fbfbfb;\n",
              "            color:  #000000;\n",
              "        }#T_8f9fd49e_da45_11eb_a00b_0242ac1c0002row3_col8{\n",
              "            font-size:  6pt;\n",
              "            background-color:  #fdfdfd;\n",
              "            color:  #000000;\n",
              "        }#T_8f9fd49e_da45_11eb_a00b_0242ac1c0002row4_col3{\n",
              "            font-size:  6pt;\n",
              "            background-color:  #1b1b1b;\n",
              "            color:  #f1f1f1;\n",
              "        }#T_8f9fd49e_da45_11eb_a00b_0242ac1c0002row4_col4{\n",
              "            font-size:  6pt;\n",
              "            background-color:  #e0e0e0;\n",
              "            color:  #000000;\n",
              "        }#T_8f9fd49e_da45_11eb_a00b_0242ac1c0002row4_col10{\n",
              "            font-size:  6pt;\n",
              "            background-color:  #4e4e4e;\n",
              "            color:  #f1f1f1;\n",
              "        }#T_8f9fd49e_da45_11eb_a00b_0242ac1c0002row4_col13{\n",
              "            font-size:  6pt;\n",
              "            background-color:  #767676;\n",
              "            color:  #000000;\n",
              "        }#T_8f9fd49e_da45_11eb_a00b_0242ac1c0002row5_col0{\n",
              "            font-size:  6pt;\n",
              "            background-color:  #fcfcfc;\n",
              "            color:  #000000;\n",
              "        }#T_8f9fd49e_da45_11eb_a00b_0242ac1c0002row5_col1,#T_8f9fd49e_da45_11eb_a00b_0242ac1c0002row5_col2{\n",
              "            font-size:  6pt;\n",
              "            background-color:  #f6f6f6;\n",
              "            color:  #000000;\n",
              "        }#T_8f9fd49e_da45_11eb_a00b_0242ac1c0002row5_col3,#T_8f9fd49e_da45_11eb_a00b_0242ac1c0002row7_col6{\n",
              "            font-size:  6pt;\n",
              "            background-color:  #f8f8f8;\n",
              "            color:  #000000;\n",
              "        }#T_8f9fd49e_da45_11eb_a00b_0242ac1c0002row5_col9,#T_8f9fd49e_da45_11eb_a00b_0242ac1c0002row10_col6{\n",
              "            font-size:  6pt;\n",
              "            background-color:  #e8e8e8;\n",
              "            color:  #000000;\n",
              "        }#T_8f9fd49e_da45_11eb_a00b_0242ac1c0002row5_col10{\n",
              "            font-size:  6pt;\n",
              "            background-color:  #222222;\n",
              "            color:  #f1f1f1;\n",
              "        }#T_8f9fd49e_da45_11eb_a00b_0242ac1c0002row5_col12,#T_8f9fd49e_da45_11eb_a00b_0242ac1c0002row6_col11{\n",
              "            font-size:  6pt;\n",
              "            background-color:  #090909;\n",
              "            color:  #f1f1f1;\n",
              "        }#T_8f9fd49e_da45_11eb_a00b_0242ac1c0002row5_col13{\n",
              "            font-size:  6pt;\n",
              "            background-color:  #d0d0d0;\n",
              "            color:  #000000;\n",
              "        }#T_8f9fd49e_da45_11eb_a00b_0242ac1c0002row6_col9,#T_8f9fd49e_da45_11eb_a00b_0242ac1c0002row7_col10,#T_8f9fd49e_da45_11eb_a00b_0242ac1c0002row9_col5{\n",
              "            font-size:  6pt;\n",
              "            background-color:  #060606;\n",
              "            color:  #f1f1f1;\n",
              "        }#T_8f9fd49e_da45_11eb_a00b_0242ac1c0002row6_col12{\n",
              "            font-size:  6pt;\n",
              "            background-color:  #979797;\n",
              "            color:  #000000;\n",
              "        }#T_8f9fd49e_da45_11eb_a00b_0242ac1c0002row7_col7{\n",
              "            font-size:  6pt;\n",
              "            background-color:  #b6b6b6;\n",
              "            color:  #000000;\n",
              "        }#T_8f9fd49e_da45_11eb_a00b_0242ac1c0002row7_col8{\n",
              "            font-size:  6pt;\n",
              "            background-color:  #252525;\n",
              "            color:  #f1f1f1;\n",
              "        }#T_8f9fd49e_da45_11eb_a00b_0242ac1c0002row7_col11{\n",
              "            font-size:  6pt;\n",
              "            background-color:  #999999;\n",
              "            color:  #000000;\n",
              "        }#T_8f9fd49e_da45_11eb_a00b_0242ac1c0002row8_col4{\n",
              "            font-size:  6pt;\n",
              "            background-color:  #f9f9f9;\n",
              "            color:  #000000;\n",
              "        }#T_8f9fd49e_da45_11eb_a00b_0242ac1c0002row8_col6{\n",
              "            font-size:  6pt;\n",
              "            background-color:  #101010;\n",
              "            color:  #f1f1f1;\n",
              "        }#T_8f9fd49e_da45_11eb_a00b_0242ac1c0002row8_col8,#T_8f9fd49e_da45_11eb_a00b_0242ac1c0002row9_col8{\n",
              "            font-size:  6pt;\n",
              "            background-color:  #020202;\n",
              "            color:  #f1f1f1;\n",
              "        }#T_8f9fd49e_da45_11eb_a00b_0242ac1c0002row8_col10{\n",
              "            font-size:  6pt;\n",
              "            background-color:  #545454;\n",
              "            color:  #f1f1f1;\n",
              "        }#T_8f9fd49e_da45_11eb_a00b_0242ac1c0002row8_col11{\n",
              "            font-size:  6pt;\n",
              "            background-color:  #f1f1f1;\n",
              "            color:  #000000;\n",
              "        }#T_8f9fd49e_da45_11eb_a00b_0242ac1c0002row9_col4{\n",
              "            font-size:  6pt;\n",
              "            background-color:  #f7f7f7;\n",
              "            color:  #000000;\n",
              "        }#T_8f9fd49e_da45_11eb_a00b_0242ac1c0002row9_col6{\n",
              "            font-size:  6pt;\n",
              "            background-color:  #030303;\n",
              "            color:  #f1f1f1;\n",
              "        }#T_8f9fd49e_da45_11eb_a00b_0242ac1c0002row9_col11{\n",
              "            font-size:  6pt;\n",
              "            background-color:  #181818;\n",
              "            color:  #f1f1f1;\n",
              "        }#T_8f9fd49e_da45_11eb_a00b_0242ac1c0002row9_col12{\n",
              "            font-size:  6pt;\n",
              "            background-color:  #303030;\n",
              "            color:  #f1f1f1;\n",
              "        }#T_8f9fd49e_da45_11eb_a00b_0242ac1c0002row9_col13{\n",
              "            font-size:  6pt;\n",
              "            background-color:  #a9a9a9;\n",
              "            color:  #000000;\n",
              "        }#T_8f9fd49e_da45_11eb_a00b_0242ac1c0002row9_col14{\n",
              "            font-size:  6pt;\n",
              "            background-color:  #fefefe;\n",
              "            color:  #000000;\n",
              "        }#T_8f9fd49e_da45_11eb_a00b_0242ac1c0002row10_col7,#T_8f9fd49e_da45_11eb_a00b_0242ac1c0002row10_col8{\n",
              "            font-size:  6pt;\n",
              "            background-color:  #bababa;\n",
              "            color:  #000000;\n",
              "        }#T_8f9fd49e_da45_11eb_a00b_0242ac1c0002row10_col9{\n",
              "            font-size:  6pt;\n",
              "            background-color:  #393939;\n",
              "            color:  #f1f1f1;\n",
              "        }</style><table id=\"T_8f9fd49e_da45_11eb_a00b_0242ac1c0002\" ><thead>    <tr>        <th class=\"blank level0\" ></th>        <th class=\"col_heading level0 col0\" >0</th>        <th class=\"col_heading level0 col1\" >1</th>        <th class=\"col_heading level0 col2\" >2</th>        <th class=\"col_heading level0 col3\" >3</th>        <th class=\"col_heading level0 col4\" >4</th>        <th class=\"col_heading level0 col5\" >5</th>        <th class=\"col_heading level0 col6\" >6</th>        <th class=\"col_heading level0 col7\" >7</th>        <th class=\"col_heading level0 col8\" >8</th>        <th class=\"col_heading level0 col9\" >9</th>        <th class=\"col_heading level0 col10\" >10</th>        <th class=\"col_heading level0 col11\" >11</th>        <th class=\"col_heading level0 col12\" >12</th>        <th class=\"col_heading level0 col13\" >13</th>        <th class=\"col_heading level0 col14\" >14</th>        <th class=\"col_heading level0 col15\" >15</th>        <th class=\"col_heading level0 col16\" >16</th>    </tr></thead><tbody>\n",
              "                <tr>\n",
              "                        <th id=\"T_8f9fd49e_da45_11eb_a00b_0242ac1c0002level0_row0\" class=\"row_heading level0 row0\" >0</th>\n",
              "                        <td id=\"T_8f9fd49e_da45_11eb_a00b_0242ac1c0002row0_col0\" class=\"data row0 col0\" >0</td>\n",
              "                        <td id=\"T_8f9fd49e_da45_11eb_a00b_0242ac1c0002row0_col1\" class=\"data row0 col1\" >0</td>\n",
              "                        <td id=\"T_8f9fd49e_da45_11eb_a00b_0242ac1c0002row0_col2\" class=\"data row0 col2\" >0</td>\n",
              "                        <td id=\"T_8f9fd49e_da45_11eb_a00b_0242ac1c0002row0_col3\" class=\"data row0 col3\" >0</td>\n",
              "                        <td id=\"T_8f9fd49e_da45_11eb_a00b_0242ac1c0002row0_col4\" class=\"data row0 col4\" >0</td>\n",
              "                        <td id=\"T_8f9fd49e_da45_11eb_a00b_0242ac1c0002row0_col5\" class=\"data row0 col5\" >0</td>\n",
              "                        <td id=\"T_8f9fd49e_da45_11eb_a00b_0242ac1c0002row0_col6\" class=\"data row0 col6\" >0</td>\n",
              "                        <td id=\"T_8f9fd49e_da45_11eb_a00b_0242ac1c0002row0_col7\" class=\"data row0 col7\" >0</td>\n",
              "                        <td id=\"T_8f9fd49e_da45_11eb_a00b_0242ac1c0002row0_col8\" class=\"data row0 col8\" >0</td>\n",
              "                        <td id=\"T_8f9fd49e_da45_11eb_a00b_0242ac1c0002row0_col9\" class=\"data row0 col9\" >0</td>\n",
              "                        <td id=\"T_8f9fd49e_da45_11eb_a00b_0242ac1c0002row0_col10\" class=\"data row0 col10\" >0</td>\n",
              "                        <td id=\"T_8f9fd49e_da45_11eb_a00b_0242ac1c0002row0_col11\" class=\"data row0 col11\" >0</td>\n",
              "                        <td id=\"T_8f9fd49e_da45_11eb_a00b_0242ac1c0002row0_col12\" class=\"data row0 col12\" >0</td>\n",
              "                        <td id=\"T_8f9fd49e_da45_11eb_a00b_0242ac1c0002row0_col13\" class=\"data row0 col13\" >0</td>\n",
              "                        <td id=\"T_8f9fd49e_da45_11eb_a00b_0242ac1c0002row0_col14\" class=\"data row0 col14\" >0</td>\n",
              "                        <td id=\"T_8f9fd49e_da45_11eb_a00b_0242ac1c0002row0_col15\" class=\"data row0 col15\" >0</td>\n",
              "                        <td id=\"T_8f9fd49e_da45_11eb_a00b_0242ac1c0002row0_col16\" class=\"data row0 col16\" >0</td>\n",
              "            </tr>\n",
              "            <tr>\n",
              "                        <th id=\"T_8f9fd49e_da45_11eb_a00b_0242ac1c0002level0_row1\" class=\"row_heading level0 row1\" >1</th>\n",
              "                        <td id=\"T_8f9fd49e_da45_11eb_a00b_0242ac1c0002row1_col0\" class=\"data row1 col0\" >0</td>\n",
              "                        <td id=\"T_8f9fd49e_da45_11eb_a00b_0242ac1c0002row1_col1\" class=\"data row1 col1\" >0</td>\n",
              "                        <td id=\"T_8f9fd49e_da45_11eb_a00b_0242ac1c0002row1_col2\" class=\"data row1 col2\" >0</td>\n",
              "                        <td id=\"T_8f9fd49e_da45_11eb_a00b_0242ac1c0002row1_col3\" class=\"data row1 col3\" >0</td>\n",
              "                        <td id=\"T_8f9fd49e_da45_11eb_a00b_0242ac1c0002row1_col4\" class=\"data row1 col4\" >29</td>\n",
              "                        <td id=\"T_8f9fd49e_da45_11eb_a00b_0242ac1c0002row1_col5\" class=\"data row1 col5\" >150</td>\n",
              "                        <td id=\"T_8f9fd49e_da45_11eb_a00b_0242ac1c0002row1_col6\" class=\"data row1 col6\" >195</td>\n",
              "                        <td id=\"T_8f9fd49e_da45_11eb_a00b_0242ac1c0002row1_col7\" class=\"data row1 col7\" >254</td>\n",
              "                        <td id=\"T_8f9fd49e_da45_11eb_a00b_0242ac1c0002row1_col8\" class=\"data row1 col8\" >255</td>\n",
              "                        <td id=\"T_8f9fd49e_da45_11eb_a00b_0242ac1c0002row1_col9\" class=\"data row1 col9\" >254</td>\n",
              "                        <td id=\"T_8f9fd49e_da45_11eb_a00b_0242ac1c0002row1_col10\" class=\"data row1 col10\" >176</td>\n",
              "                        <td id=\"T_8f9fd49e_da45_11eb_a00b_0242ac1c0002row1_col11\" class=\"data row1 col11\" >193</td>\n",
              "                        <td id=\"T_8f9fd49e_da45_11eb_a00b_0242ac1c0002row1_col12\" class=\"data row1 col12\" >150</td>\n",
              "                        <td id=\"T_8f9fd49e_da45_11eb_a00b_0242ac1c0002row1_col13\" class=\"data row1 col13\" >96</td>\n",
              "                        <td id=\"T_8f9fd49e_da45_11eb_a00b_0242ac1c0002row1_col14\" class=\"data row1 col14\" >0</td>\n",
              "                        <td id=\"T_8f9fd49e_da45_11eb_a00b_0242ac1c0002row1_col15\" class=\"data row1 col15\" >0</td>\n",
              "                        <td id=\"T_8f9fd49e_da45_11eb_a00b_0242ac1c0002row1_col16\" class=\"data row1 col16\" >0</td>\n",
              "            </tr>\n",
              "            <tr>\n",
              "                        <th id=\"T_8f9fd49e_da45_11eb_a00b_0242ac1c0002level0_row2\" class=\"row_heading level0 row2\" >2</th>\n",
              "                        <td id=\"T_8f9fd49e_da45_11eb_a00b_0242ac1c0002row2_col0\" class=\"data row2 col0\" >0</td>\n",
              "                        <td id=\"T_8f9fd49e_da45_11eb_a00b_0242ac1c0002row2_col1\" class=\"data row2 col1\" >0</td>\n",
              "                        <td id=\"T_8f9fd49e_da45_11eb_a00b_0242ac1c0002row2_col2\" class=\"data row2 col2\" >48</td>\n",
              "                        <td id=\"T_8f9fd49e_da45_11eb_a00b_0242ac1c0002row2_col3\" class=\"data row2 col3\" >166</td>\n",
              "                        <td id=\"T_8f9fd49e_da45_11eb_a00b_0242ac1c0002row2_col4\" class=\"data row2 col4\" >224</td>\n",
              "                        <td id=\"T_8f9fd49e_da45_11eb_a00b_0242ac1c0002row2_col5\" class=\"data row2 col5\" >253</td>\n",
              "                        <td id=\"T_8f9fd49e_da45_11eb_a00b_0242ac1c0002row2_col6\" class=\"data row2 col6\" >253</td>\n",
              "                        <td id=\"T_8f9fd49e_da45_11eb_a00b_0242ac1c0002row2_col7\" class=\"data row2 col7\" >234</td>\n",
              "                        <td id=\"T_8f9fd49e_da45_11eb_a00b_0242ac1c0002row2_col8\" class=\"data row2 col8\" >196</td>\n",
              "                        <td id=\"T_8f9fd49e_da45_11eb_a00b_0242ac1c0002row2_col9\" class=\"data row2 col9\" >253</td>\n",
              "                        <td id=\"T_8f9fd49e_da45_11eb_a00b_0242ac1c0002row2_col10\" class=\"data row2 col10\" >253</td>\n",
              "                        <td id=\"T_8f9fd49e_da45_11eb_a00b_0242ac1c0002row2_col11\" class=\"data row2 col11\" >253</td>\n",
              "                        <td id=\"T_8f9fd49e_da45_11eb_a00b_0242ac1c0002row2_col12\" class=\"data row2 col12\" >253</td>\n",
              "                        <td id=\"T_8f9fd49e_da45_11eb_a00b_0242ac1c0002row2_col13\" class=\"data row2 col13\" >233</td>\n",
              "                        <td id=\"T_8f9fd49e_da45_11eb_a00b_0242ac1c0002row2_col14\" class=\"data row2 col14\" >0</td>\n",
              "                        <td id=\"T_8f9fd49e_da45_11eb_a00b_0242ac1c0002row2_col15\" class=\"data row2 col15\" >0</td>\n",
              "                        <td id=\"T_8f9fd49e_da45_11eb_a00b_0242ac1c0002row2_col16\" class=\"data row2 col16\" >0</td>\n",
              "            </tr>\n",
              "            <tr>\n",
              "                        <th id=\"T_8f9fd49e_da45_11eb_a00b_0242ac1c0002level0_row3\" class=\"row_heading level0 row3\" >3</th>\n",
              "                        <td id=\"T_8f9fd49e_da45_11eb_a00b_0242ac1c0002row3_col0\" class=\"data row3 col0\" >93</td>\n",
              "                        <td id=\"T_8f9fd49e_da45_11eb_a00b_0242ac1c0002row3_col1\" class=\"data row3 col1\" >244</td>\n",
              "                        <td id=\"T_8f9fd49e_da45_11eb_a00b_0242ac1c0002row3_col2\" class=\"data row3 col2\" >249</td>\n",
              "                        <td id=\"T_8f9fd49e_da45_11eb_a00b_0242ac1c0002row3_col3\" class=\"data row3 col3\" >253</td>\n",
              "                        <td id=\"T_8f9fd49e_da45_11eb_a00b_0242ac1c0002row3_col4\" class=\"data row3 col4\" >187</td>\n",
              "                        <td id=\"T_8f9fd49e_da45_11eb_a00b_0242ac1c0002row3_col5\" class=\"data row3 col5\" >46</td>\n",
              "                        <td id=\"T_8f9fd49e_da45_11eb_a00b_0242ac1c0002row3_col6\" class=\"data row3 col6\" >10</td>\n",
              "                        <td id=\"T_8f9fd49e_da45_11eb_a00b_0242ac1c0002row3_col7\" class=\"data row3 col7\" >8</td>\n",
              "                        <td id=\"T_8f9fd49e_da45_11eb_a00b_0242ac1c0002row3_col8\" class=\"data row3 col8\" >4</td>\n",
              "                        <td id=\"T_8f9fd49e_da45_11eb_a00b_0242ac1c0002row3_col9\" class=\"data row3 col9\" >10</td>\n",
              "                        <td id=\"T_8f9fd49e_da45_11eb_a00b_0242ac1c0002row3_col10\" class=\"data row3 col10\" >194</td>\n",
              "                        <td id=\"T_8f9fd49e_da45_11eb_a00b_0242ac1c0002row3_col11\" class=\"data row3 col11\" >253</td>\n",
              "                        <td id=\"T_8f9fd49e_da45_11eb_a00b_0242ac1c0002row3_col12\" class=\"data row3 col12\" >253</td>\n",
              "                        <td id=\"T_8f9fd49e_da45_11eb_a00b_0242ac1c0002row3_col13\" class=\"data row3 col13\" >233</td>\n",
              "                        <td id=\"T_8f9fd49e_da45_11eb_a00b_0242ac1c0002row3_col14\" class=\"data row3 col14\" >0</td>\n",
              "                        <td id=\"T_8f9fd49e_da45_11eb_a00b_0242ac1c0002row3_col15\" class=\"data row3 col15\" >0</td>\n",
              "                        <td id=\"T_8f9fd49e_da45_11eb_a00b_0242ac1c0002row3_col16\" class=\"data row3 col16\" >0</td>\n",
              "            </tr>\n",
              "            <tr>\n",
              "                        <th id=\"T_8f9fd49e_da45_11eb_a00b_0242ac1c0002level0_row4\" class=\"row_heading level0 row4\" >4</th>\n",
              "                        <td id=\"T_8f9fd49e_da45_11eb_a00b_0242ac1c0002row4_col0\" class=\"data row4 col0\" >107</td>\n",
              "                        <td id=\"T_8f9fd49e_da45_11eb_a00b_0242ac1c0002row4_col1\" class=\"data row4 col1\" >253</td>\n",
              "                        <td id=\"T_8f9fd49e_da45_11eb_a00b_0242ac1c0002row4_col2\" class=\"data row4 col2\" >253</td>\n",
              "                        <td id=\"T_8f9fd49e_da45_11eb_a00b_0242ac1c0002row4_col3\" class=\"data row4 col3\" >230</td>\n",
              "                        <td id=\"T_8f9fd49e_da45_11eb_a00b_0242ac1c0002row4_col4\" class=\"data row4 col4\" >48</td>\n",
              "                        <td id=\"T_8f9fd49e_da45_11eb_a00b_0242ac1c0002row4_col5\" class=\"data row4 col5\" >0</td>\n",
              "                        <td id=\"T_8f9fd49e_da45_11eb_a00b_0242ac1c0002row4_col6\" class=\"data row4 col6\" >0</td>\n",
              "                        <td id=\"T_8f9fd49e_da45_11eb_a00b_0242ac1c0002row4_col7\" class=\"data row4 col7\" >0</td>\n",
              "                        <td id=\"T_8f9fd49e_da45_11eb_a00b_0242ac1c0002row4_col8\" class=\"data row4 col8\" >0</td>\n",
              "                        <td id=\"T_8f9fd49e_da45_11eb_a00b_0242ac1c0002row4_col9\" class=\"data row4 col9\" >0</td>\n",
              "                        <td id=\"T_8f9fd49e_da45_11eb_a00b_0242ac1c0002row4_col10\" class=\"data row4 col10\" >192</td>\n",
              "                        <td id=\"T_8f9fd49e_da45_11eb_a00b_0242ac1c0002row4_col11\" class=\"data row4 col11\" >253</td>\n",
              "                        <td id=\"T_8f9fd49e_da45_11eb_a00b_0242ac1c0002row4_col12\" class=\"data row4 col12\" >253</td>\n",
              "                        <td id=\"T_8f9fd49e_da45_11eb_a00b_0242ac1c0002row4_col13\" class=\"data row4 col13\" >156</td>\n",
              "                        <td id=\"T_8f9fd49e_da45_11eb_a00b_0242ac1c0002row4_col14\" class=\"data row4 col14\" >0</td>\n",
              "                        <td id=\"T_8f9fd49e_da45_11eb_a00b_0242ac1c0002row4_col15\" class=\"data row4 col15\" >0</td>\n",
              "                        <td id=\"T_8f9fd49e_da45_11eb_a00b_0242ac1c0002row4_col16\" class=\"data row4 col16\" >0</td>\n",
              "            </tr>\n",
              "            <tr>\n",
              "                        <th id=\"T_8f9fd49e_da45_11eb_a00b_0242ac1c0002level0_row5\" class=\"row_heading level0 row5\" >5</th>\n",
              "                        <td id=\"T_8f9fd49e_da45_11eb_a00b_0242ac1c0002row5_col0\" class=\"data row5 col0\" >3</td>\n",
              "                        <td id=\"T_8f9fd49e_da45_11eb_a00b_0242ac1c0002row5_col1\" class=\"data row5 col1\" >20</td>\n",
              "                        <td id=\"T_8f9fd49e_da45_11eb_a00b_0242ac1c0002row5_col2\" class=\"data row5 col2\" >20</td>\n",
              "                        <td id=\"T_8f9fd49e_da45_11eb_a00b_0242ac1c0002row5_col3\" class=\"data row5 col3\" >15</td>\n",
              "                        <td id=\"T_8f9fd49e_da45_11eb_a00b_0242ac1c0002row5_col4\" class=\"data row5 col4\" >0</td>\n",
              "                        <td id=\"T_8f9fd49e_da45_11eb_a00b_0242ac1c0002row5_col5\" class=\"data row5 col5\" >0</td>\n",
              "                        <td id=\"T_8f9fd49e_da45_11eb_a00b_0242ac1c0002row5_col6\" class=\"data row5 col6\" >0</td>\n",
              "                        <td id=\"T_8f9fd49e_da45_11eb_a00b_0242ac1c0002row5_col7\" class=\"data row5 col7\" >0</td>\n",
              "                        <td id=\"T_8f9fd49e_da45_11eb_a00b_0242ac1c0002row5_col8\" class=\"data row5 col8\" >0</td>\n",
              "                        <td id=\"T_8f9fd49e_da45_11eb_a00b_0242ac1c0002row5_col9\" class=\"data row5 col9\" >43</td>\n",
              "                        <td id=\"T_8f9fd49e_da45_11eb_a00b_0242ac1c0002row5_col10\" class=\"data row5 col10\" >224</td>\n",
              "                        <td id=\"T_8f9fd49e_da45_11eb_a00b_0242ac1c0002row5_col11\" class=\"data row5 col11\" >253</td>\n",
              "                        <td id=\"T_8f9fd49e_da45_11eb_a00b_0242ac1c0002row5_col12\" class=\"data row5 col12\" >245</td>\n",
              "                        <td id=\"T_8f9fd49e_da45_11eb_a00b_0242ac1c0002row5_col13\" class=\"data row5 col13\" >74</td>\n",
              "                        <td id=\"T_8f9fd49e_da45_11eb_a00b_0242ac1c0002row5_col14\" class=\"data row5 col14\" >0</td>\n",
              "                        <td id=\"T_8f9fd49e_da45_11eb_a00b_0242ac1c0002row5_col15\" class=\"data row5 col15\" >0</td>\n",
              "                        <td id=\"T_8f9fd49e_da45_11eb_a00b_0242ac1c0002row5_col16\" class=\"data row5 col16\" >0</td>\n",
              "            </tr>\n",
              "            <tr>\n",
              "                        <th id=\"T_8f9fd49e_da45_11eb_a00b_0242ac1c0002level0_row6\" class=\"row_heading level0 row6\" >6</th>\n",
              "                        <td id=\"T_8f9fd49e_da45_11eb_a00b_0242ac1c0002row6_col0\" class=\"data row6 col0\" >0</td>\n",
              "                        <td id=\"T_8f9fd49e_da45_11eb_a00b_0242ac1c0002row6_col1\" class=\"data row6 col1\" >0</td>\n",
              "                        <td id=\"T_8f9fd49e_da45_11eb_a00b_0242ac1c0002row6_col2\" class=\"data row6 col2\" >0</td>\n",
              "                        <td id=\"T_8f9fd49e_da45_11eb_a00b_0242ac1c0002row6_col3\" class=\"data row6 col3\" >0</td>\n",
              "                        <td id=\"T_8f9fd49e_da45_11eb_a00b_0242ac1c0002row6_col4\" class=\"data row6 col4\" >0</td>\n",
              "                        <td id=\"T_8f9fd49e_da45_11eb_a00b_0242ac1c0002row6_col5\" class=\"data row6 col5\" >0</td>\n",
              "                        <td id=\"T_8f9fd49e_da45_11eb_a00b_0242ac1c0002row6_col6\" class=\"data row6 col6\" >0</td>\n",
              "                        <td id=\"T_8f9fd49e_da45_11eb_a00b_0242ac1c0002row6_col7\" class=\"data row6 col7\" >0</td>\n",
              "                        <td id=\"T_8f9fd49e_da45_11eb_a00b_0242ac1c0002row6_col8\" class=\"data row6 col8\" >0</td>\n",
              "                        <td id=\"T_8f9fd49e_da45_11eb_a00b_0242ac1c0002row6_col9\" class=\"data row6 col9\" >249</td>\n",
              "                        <td id=\"T_8f9fd49e_da45_11eb_a00b_0242ac1c0002row6_col10\" class=\"data row6 col10\" >253</td>\n",
              "                        <td id=\"T_8f9fd49e_da45_11eb_a00b_0242ac1c0002row6_col11\" class=\"data row6 col11\" >245</td>\n",
              "                        <td id=\"T_8f9fd49e_da45_11eb_a00b_0242ac1c0002row6_col12\" class=\"data row6 col12\" >126</td>\n",
              "                        <td id=\"T_8f9fd49e_da45_11eb_a00b_0242ac1c0002row6_col13\" class=\"data row6 col13\" >0</td>\n",
              "                        <td id=\"T_8f9fd49e_da45_11eb_a00b_0242ac1c0002row6_col14\" class=\"data row6 col14\" >0</td>\n",
              "                        <td id=\"T_8f9fd49e_da45_11eb_a00b_0242ac1c0002row6_col15\" class=\"data row6 col15\" >0</td>\n",
              "                        <td id=\"T_8f9fd49e_da45_11eb_a00b_0242ac1c0002row6_col16\" class=\"data row6 col16\" >0</td>\n",
              "            </tr>\n",
              "            <tr>\n",
              "                        <th id=\"T_8f9fd49e_da45_11eb_a00b_0242ac1c0002level0_row7\" class=\"row_heading level0 row7\" >7</th>\n",
              "                        <td id=\"T_8f9fd49e_da45_11eb_a00b_0242ac1c0002row7_col0\" class=\"data row7 col0\" >0</td>\n",
              "                        <td id=\"T_8f9fd49e_da45_11eb_a00b_0242ac1c0002row7_col1\" class=\"data row7 col1\" >0</td>\n",
              "                        <td id=\"T_8f9fd49e_da45_11eb_a00b_0242ac1c0002row7_col2\" class=\"data row7 col2\" >0</td>\n",
              "                        <td id=\"T_8f9fd49e_da45_11eb_a00b_0242ac1c0002row7_col3\" class=\"data row7 col3\" >0</td>\n",
              "                        <td id=\"T_8f9fd49e_da45_11eb_a00b_0242ac1c0002row7_col4\" class=\"data row7 col4\" >0</td>\n",
              "                        <td id=\"T_8f9fd49e_da45_11eb_a00b_0242ac1c0002row7_col5\" class=\"data row7 col5\" >0</td>\n",
              "                        <td id=\"T_8f9fd49e_da45_11eb_a00b_0242ac1c0002row7_col6\" class=\"data row7 col6\" >14</td>\n",
              "                        <td id=\"T_8f9fd49e_da45_11eb_a00b_0242ac1c0002row7_col7\" class=\"data row7 col7\" >101</td>\n",
              "                        <td id=\"T_8f9fd49e_da45_11eb_a00b_0242ac1c0002row7_col8\" class=\"data row7 col8\" >223</td>\n",
              "                        <td id=\"T_8f9fd49e_da45_11eb_a00b_0242ac1c0002row7_col9\" class=\"data row7 col9\" >253</td>\n",
              "                        <td id=\"T_8f9fd49e_da45_11eb_a00b_0242ac1c0002row7_col10\" class=\"data row7 col10\" >248</td>\n",
              "                        <td id=\"T_8f9fd49e_da45_11eb_a00b_0242ac1c0002row7_col11\" class=\"data row7 col11\" >124</td>\n",
              "                        <td id=\"T_8f9fd49e_da45_11eb_a00b_0242ac1c0002row7_col12\" class=\"data row7 col12\" >0</td>\n",
              "                        <td id=\"T_8f9fd49e_da45_11eb_a00b_0242ac1c0002row7_col13\" class=\"data row7 col13\" >0</td>\n",
              "                        <td id=\"T_8f9fd49e_da45_11eb_a00b_0242ac1c0002row7_col14\" class=\"data row7 col14\" >0</td>\n",
              "                        <td id=\"T_8f9fd49e_da45_11eb_a00b_0242ac1c0002row7_col15\" class=\"data row7 col15\" >0</td>\n",
              "                        <td id=\"T_8f9fd49e_da45_11eb_a00b_0242ac1c0002row7_col16\" class=\"data row7 col16\" >0</td>\n",
              "            </tr>\n",
              "            <tr>\n",
              "                        <th id=\"T_8f9fd49e_da45_11eb_a00b_0242ac1c0002level0_row8\" class=\"row_heading level0 row8\" >8</th>\n",
              "                        <td id=\"T_8f9fd49e_da45_11eb_a00b_0242ac1c0002row8_col0\" class=\"data row8 col0\" >0</td>\n",
              "                        <td id=\"T_8f9fd49e_da45_11eb_a00b_0242ac1c0002row8_col1\" class=\"data row8 col1\" >0</td>\n",
              "                        <td id=\"T_8f9fd49e_da45_11eb_a00b_0242ac1c0002row8_col2\" class=\"data row8 col2\" >0</td>\n",
              "                        <td id=\"T_8f9fd49e_da45_11eb_a00b_0242ac1c0002row8_col3\" class=\"data row8 col3\" >0</td>\n",
              "                        <td id=\"T_8f9fd49e_da45_11eb_a00b_0242ac1c0002row8_col4\" class=\"data row8 col4\" >11</td>\n",
              "                        <td id=\"T_8f9fd49e_da45_11eb_a00b_0242ac1c0002row8_col5\" class=\"data row8 col5\" >166</td>\n",
              "                        <td id=\"T_8f9fd49e_da45_11eb_a00b_0242ac1c0002row8_col6\" class=\"data row8 col6\" >239</td>\n",
              "                        <td id=\"T_8f9fd49e_da45_11eb_a00b_0242ac1c0002row8_col7\" class=\"data row8 col7\" >253</td>\n",
              "                        <td id=\"T_8f9fd49e_da45_11eb_a00b_0242ac1c0002row8_col8\" class=\"data row8 col8\" >253</td>\n",
              "                        <td id=\"T_8f9fd49e_da45_11eb_a00b_0242ac1c0002row8_col9\" class=\"data row8 col9\" >253</td>\n",
              "                        <td id=\"T_8f9fd49e_da45_11eb_a00b_0242ac1c0002row8_col10\" class=\"data row8 col10\" >187</td>\n",
              "                        <td id=\"T_8f9fd49e_da45_11eb_a00b_0242ac1c0002row8_col11\" class=\"data row8 col11\" >30</td>\n",
              "                        <td id=\"T_8f9fd49e_da45_11eb_a00b_0242ac1c0002row8_col12\" class=\"data row8 col12\" >0</td>\n",
              "                        <td id=\"T_8f9fd49e_da45_11eb_a00b_0242ac1c0002row8_col13\" class=\"data row8 col13\" >0</td>\n",
              "                        <td id=\"T_8f9fd49e_da45_11eb_a00b_0242ac1c0002row8_col14\" class=\"data row8 col14\" >0</td>\n",
              "                        <td id=\"T_8f9fd49e_da45_11eb_a00b_0242ac1c0002row8_col15\" class=\"data row8 col15\" >0</td>\n",
              "                        <td id=\"T_8f9fd49e_da45_11eb_a00b_0242ac1c0002row8_col16\" class=\"data row8 col16\" >0</td>\n",
              "            </tr>\n",
              "            <tr>\n",
              "                        <th id=\"T_8f9fd49e_da45_11eb_a00b_0242ac1c0002level0_row9\" class=\"row_heading level0 row9\" >9</th>\n",
              "                        <td id=\"T_8f9fd49e_da45_11eb_a00b_0242ac1c0002row9_col0\" class=\"data row9 col0\" >0</td>\n",
              "                        <td id=\"T_8f9fd49e_da45_11eb_a00b_0242ac1c0002row9_col1\" class=\"data row9 col1\" >0</td>\n",
              "                        <td id=\"T_8f9fd49e_da45_11eb_a00b_0242ac1c0002row9_col2\" class=\"data row9 col2\" >0</td>\n",
              "                        <td id=\"T_8f9fd49e_da45_11eb_a00b_0242ac1c0002row9_col3\" class=\"data row9 col3\" >0</td>\n",
              "                        <td id=\"T_8f9fd49e_da45_11eb_a00b_0242ac1c0002row9_col4\" class=\"data row9 col4\" >16</td>\n",
              "                        <td id=\"T_8f9fd49e_da45_11eb_a00b_0242ac1c0002row9_col5\" class=\"data row9 col5\" >248</td>\n",
              "                        <td id=\"T_8f9fd49e_da45_11eb_a00b_0242ac1c0002row9_col6\" class=\"data row9 col6\" >250</td>\n",
              "                        <td id=\"T_8f9fd49e_da45_11eb_a00b_0242ac1c0002row9_col7\" class=\"data row9 col7\" >253</td>\n",
              "                        <td id=\"T_8f9fd49e_da45_11eb_a00b_0242ac1c0002row9_col8\" class=\"data row9 col8\" >253</td>\n",
              "                        <td id=\"T_8f9fd49e_da45_11eb_a00b_0242ac1c0002row9_col9\" class=\"data row9 col9\" >253</td>\n",
              "                        <td id=\"T_8f9fd49e_da45_11eb_a00b_0242ac1c0002row9_col10\" class=\"data row9 col10\" >253</td>\n",
              "                        <td id=\"T_8f9fd49e_da45_11eb_a00b_0242ac1c0002row9_col11\" class=\"data row9 col11\" >232</td>\n",
              "                        <td id=\"T_8f9fd49e_da45_11eb_a00b_0242ac1c0002row9_col12\" class=\"data row9 col12\" >213</td>\n",
              "                        <td id=\"T_8f9fd49e_da45_11eb_a00b_0242ac1c0002row9_col13\" class=\"data row9 col13\" >111</td>\n",
              "                        <td id=\"T_8f9fd49e_da45_11eb_a00b_0242ac1c0002row9_col14\" class=\"data row9 col14\" >2</td>\n",
              "                        <td id=\"T_8f9fd49e_da45_11eb_a00b_0242ac1c0002row9_col15\" class=\"data row9 col15\" >0</td>\n",
              "                        <td id=\"T_8f9fd49e_da45_11eb_a00b_0242ac1c0002row9_col16\" class=\"data row9 col16\" >0</td>\n",
              "            </tr>\n",
              "            <tr>\n",
              "                        <th id=\"T_8f9fd49e_da45_11eb_a00b_0242ac1c0002level0_row10\" class=\"row_heading level0 row10\" >10</th>\n",
              "                        <td id=\"T_8f9fd49e_da45_11eb_a00b_0242ac1c0002row10_col0\" class=\"data row10 col0\" >0</td>\n",
              "                        <td id=\"T_8f9fd49e_da45_11eb_a00b_0242ac1c0002row10_col1\" class=\"data row10 col1\" >0</td>\n",
              "                        <td id=\"T_8f9fd49e_da45_11eb_a00b_0242ac1c0002row10_col2\" class=\"data row10 col2\" >0</td>\n",
              "                        <td id=\"T_8f9fd49e_da45_11eb_a00b_0242ac1c0002row10_col3\" class=\"data row10 col3\" >0</td>\n",
              "                        <td id=\"T_8f9fd49e_da45_11eb_a00b_0242ac1c0002row10_col4\" class=\"data row10 col4\" >0</td>\n",
              "                        <td id=\"T_8f9fd49e_da45_11eb_a00b_0242ac1c0002row10_col5\" class=\"data row10 col5\" >0</td>\n",
              "                        <td id=\"T_8f9fd49e_da45_11eb_a00b_0242ac1c0002row10_col6\" class=\"data row10 col6\" >43</td>\n",
              "                        <td id=\"T_8f9fd49e_da45_11eb_a00b_0242ac1c0002row10_col7\" class=\"data row10 col7\" >98</td>\n",
              "                        <td id=\"T_8f9fd49e_da45_11eb_a00b_0242ac1c0002row10_col8\" class=\"data row10 col8\" >98</td>\n",
              "                        <td id=\"T_8f9fd49e_da45_11eb_a00b_0242ac1c0002row10_col9\" class=\"data row10 col9\" >208</td>\n",
              "                        <td id=\"T_8f9fd49e_da45_11eb_a00b_0242ac1c0002row10_col10\" class=\"data row10 col10\" >253</td>\n",
              "                        <td id=\"T_8f9fd49e_da45_11eb_a00b_0242ac1c0002row10_col11\" class=\"data row10 col11\" >253</td>\n",
              "                        <td id=\"T_8f9fd49e_da45_11eb_a00b_0242ac1c0002row10_col12\" class=\"data row10 col12\" >253</td>\n",
              "                        <td id=\"T_8f9fd49e_da45_11eb_a00b_0242ac1c0002row10_col13\" class=\"data row10 col13\" >253</td>\n",
              "                        <td id=\"T_8f9fd49e_da45_11eb_a00b_0242ac1c0002row10_col14\" class=\"data row10 col14\" >187</td>\n",
              "                        <td id=\"T_8f9fd49e_da45_11eb_a00b_0242ac1c0002row10_col15\" class=\"data row10 col15\" >22</td>\n",
              "                        <td id=\"T_8f9fd49e_da45_11eb_a00b_0242ac1c0002row10_col16\" class=\"data row10 col16\" >0</td>\n",
              "            </tr>\n",
              "    </tbody></table>"
            ],
            "text/plain": [
              "<pandas.io.formats.style.Styler at 0x7f31386c78d0>"
            ]
          },
          "metadata": {
            "tags": []
          },
          "execution_count": 11
        }
      ]
    },
    {
      "cell_type": "code",
      "metadata": {
        "colab": {
          "base_uri": "https://localhost:8080/"
        },
        "id": "Cpdl5jL9if9H",
        "outputId": "d87e2819-7e80-4206-9519-f964510c9d8d"
      },
      "source": [
        "# making the lists of all of the 7's \n",
        "\n",
        "seven_tensors = [tensor(Image.open(o)) for o in sevens]\n",
        "three_tensors = [tensor(Image.open(o)) for o in threes]\n",
        "\n",
        "len(three_tensors), len(seven_tensors)"
      ],
      "execution_count": 12,
      "outputs": [
        {
          "output_type": "execute_result",
          "data": {
            "text/plain": [
              "(6131, 6265)"
            ]
          },
          "metadata": {
            "tags": []
          },
          "execution_count": 12
        }
      ]
    },
    {
      "cell_type": "code",
      "metadata": {
        "colab": {
          "base_uri": "https://localhost:8080/",
          "height": 103
        },
        "id": "VtulNwRKkFgF",
        "outputId": "0107583f-c08a-43b3-fd31-9e2bf8d35bf7"
      },
      "source": [
        "show_image(three_tensors[1])"
      ],
      "execution_count": 13,
      "outputs": [
        {
          "output_type": "execute_result",
          "data": {
            "text/plain": [
              "<matplotlib.axes._subplots.AxesSubplot at 0x7f3138114710>"
            ]
          },
          "metadata": {
            "tags": []
          },
          "execution_count": 13
        },
        {
          "output_type": "display_data",
          "data": {
            "image/png": "[encoded data removed]",
            "text/plain": [
              "<Figure size 72x72 with 1 Axes>"
            ]
          },
          "metadata": {
            "tags": [],
            "needs_background": "light"
          }
        }
      ]
    },
    {
      "cell_type": "code",
      "metadata": {
        "colab": {
          "base_uri": "https://localhost:8080/"
        },
        "id": "DnrpZjZQkQTb",
        "outputId": "fab715f0-9aef-4666-f4ce-704d1618c172"
      },
      "source": [
        "three_tensors[1].shape"
      ],
      "execution_count": 14,
      "outputs": [
        {
          "output_type": "execute_result",
          "data": {
            "text/plain": [
              "torch.Size([28, 28])"
            ]
          },
          "metadata": {
            "tags": []
          },
          "execution_count": 14
        }
      ]
    },
    {
      "cell_type": "code",
      "metadata": {
        "colab": {
          "base_uri": "https://localhost:8080/"
        },
        "id": "P-QKYlt_kc7n",
        "outputId": "4ba68fd2-ac8f-44c3-ee95-9d8f64c7b4aa"
      },
      "source": [
        "type(three_tensors)"
      ],
      "execution_count": 15,
      "outputs": [
        {
          "output_type": "execute_result",
          "data": {
            "text/plain": [
              "list"
            ]
          },
          "metadata": {
            "tags": []
          },
          "execution_count": 15
        }
      ]
    },
    {
      "cell_type": "code",
      "metadata": {
        "colab": {
          "base_uri": "https://localhost:8080/"
        },
        "id": "RZHusRgDke1m",
        "outputId": "61ed971b-5257-4e58-c624-a35ebb52cf3c"
      },
      "source": [
        "# converting the list of iamges ( which are 3 and 7 ) into tensors \n",
        "stacked_sevens = torch.stack(seven_tensors).float()/255\n",
        "stacked_threes = torch.stack(three_tensors).float()/255\n",
        "stacked_threes.shape"
      ],
      "execution_count": 16,
      "outputs": [
        {
          "output_type": "execute_result",
          "data": {
            "text/plain": [
              "torch.Size([6131, 28, 28])"
            ]
          },
          "metadata": {
            "tags": []
          },
          "execution_count": 16
        }
      ]
    },
    {
      "cell_type": "code",
      "metadata": {
        "id": "TH2vNOnxk_J2"
      },
      "source": [
        "# rank is the number of dimensions or shape of the tensor \n"
      ],
      "execution_count": 17,
      "outputs": []
    },
    {
      "cell_type": "code",
      "metadata": {
        "id": "13Vwk86AqRfl"
      },
      "source": [
        "# stacked_threes.mean()  # average pixel of the whole cube \n",
        "# stacked_threes.mean(0) # average pixel across the 0th axis  "
      ],
      "execution_count": 18,
      "outputs": []
    },
    {
      "cell_type": "code",
      "metadata": {
        "colab": {
          "base_uri": "https://localhost:8080/",
          "height": 103
        },
        "id": "VSNCQUedqTGx",
        "outputId": "b96ddb98-c787-4192-f6ae-572052af5200"
      },
      "source": [
        "show_image(stacked_threes.mean(0))"
      ],
      "execution_count": 19,
      "outputs": [
        {
          "output_type": "execute_result",
          "data": {
            "text/plain": [
              "<matplotlib.axes._subplots.AxesSubplot at 0x7f3137fc1290>"
            ]
          },
          "metadata": {
            "tags": []
          },
          "execution_count": 19
        },
        {
          "output_type": "display_data",
          "data": {
            "image/png": "[encoded data removed]",
            "text/plain": [
              "<Figure size 72x72 with 1 Axes>"
            ]
          },
          "metadata": {
            "tags": [],
            "needs_background": "light"
          }
        }
      ]
    },
    {
      "cell_type": "code",
      "metadata": {
        "colab": {
          "base_uri": "https://localhost:8080/",
          "height": 103
        },
        "id": "hXDbBkltqvA6",
        "outputId": "86f9641d-b4d6-407c-d2d3-26d5c3e86a27"
      },
      "source": [
        "show_image(stacked_sevens.mean(0))"
      ],
      "execution_count": 20,
      "outputs": [
        {
          "output_type": "execute_result",
          "data": {
            "text/plain": [
              "<matplotlib.axes._subplots.AxesSubplot at 0x7f3138022150>"
            ]
          },
          "metadata": {
            "tags": []
          },
          "execution_count": 20
        },
        {
          "output_type": "display_data",
          "data": {
            "image/png": "[encoded data removed]",
            "text/plain": [
              "<Figure size 72x72 with 1 Axes>"
            ]
          },
          "metadata": {
            "tags": [],
            "needs_background": "light"
          }
        }
      ]
    },
    {
      "cell_type": "code",
      "metadata": {
        "colab": {
          "base_uri": "https://localhost:8080/"
        },
        "id": "Z2cvBk6Iq31V",
        "outputId": "de1989c1-6502-42b8-d173-4ababc26500b"
      },
      "source": [
        "dist_3_abs = (stacked_threes[1] - stacked_threes.mean(0)).abs().mean()\n",
        "dist_3_sqr = ((stacked_threes[1]-stacked_threes.mean(0))**2).mean().sqrt()\n",
        "dist_3_abs,dist_3_sqr"
      ],
      "execution_count": 21,
      "outputs": [
        {
          "output_type": "execute_result",
          "data": {
            "text/plain": [
              "(tensor(0.1114), tensor(0.2021))"
            ]
          },
          "metadata": {
            "tags": []
          },
          "execution_count": 21
        }
      ]
    },
    {
      "cell_type": "code",
      "metadata": {
        "colab": {
          "base_uri": "https://localhost:8080/"
        },
        "id": "GTo3g2DCsGJJ",
        "outputId": "2baf76c8-44d8-40f2-b3a7-ccc3db5baab7"
      },
      "source": [
        "dist_7_abs = (stacked_threes[1] - stacked_sevens.mean(0)).abs().mean()\n",
        "dist_7_sqr = ((stacked_threes[1]-stacked_threes.mean(0))**2).mean().sqrt()\n",
        "dist_7_abs,dist_7_sqr"
      ],
      "execution_count": 22,
      "outputs": [
        {
          "output_type": "execute_result",
          "data": {
            "text/plain": [
              "(tensor(0.1586), tensor(0.2021))"
            ]
          },
          "metadata": {
            "tags": []
          },
          "execution_count": 22
        }
      ]
    },
    {
      "cell_type": "markdown",
      "metadata": {
        "id": "xRrJmW1fsV93"
      },
      "source": [
        "as we see above the absolute and squared error is less with three so we can conclude that the stacked image is of 3 and it's relatively greater for 7_abs and 7_sqr"
      ]
    },
    {
      "cell_type": "code",
      "metadata": {
        "colab": {
          "base_uri": "https://localhost:8080/",
          "height": 35
        },
        "id": "iiIvmjOYs0W9",
        "outputId": "8610002e-9561-4969-aac6-5558c8637ca9"
      },
      "source": [
        "# for finding the type of tensor in fast ai is quite different than that of the type of tensors in the python \n",
        "# in python it's like type(tensor) but in fast ai it's like tensor.type()\n",
        "dist_7_abs.type()"
      ],
      "execution_count": 23,
      "outputs": [
        {
          "output_type": "execute_result",
          "data": {
            "application/vnd.google.colaboratory.intrinsic+json": {
              "type": "string"
            },
            "text/plain": [
              "'torch.FloatTensor'"
            ]
          },
          "metadata": {
            "tags": []
          },
          "execution_count": 23
        }
      ]
    },
    {
      "cell_type": "code",
      "metadata": {
        "colab": {
          "base_uri": "https://localhost:8080/"
        },
        "id": "EiNqTI4Et1Nk",
        "outputId": "2c7fd592-cce4-4e1b-f8cf-9130b667c742"
      },
      "source": [
        "# checking how our model is performing on the validation data \n",
        "# 1.st loading the data \n",
        "valid_3_tens  = torch.stack([tensor(Image.open(o)) for o in (path/'valid/3').ls()])\n",
        "valid_3_tens = valid_3_tens.float()/255.\n",
        "\n",
        "valid_7_tens = torch.stack([tensor(Image.open(o)) for o in (path/'valid/7').ls()])\n",
        "valid_7_tens = valid_7_tens.float()/255.\n",
        "valid_3_tens.shape, valid_7_tens.shape"
      ],
      "execution_count": 24,
      "outputs": [
        {
          "output_type": "execute_result",
          "data": {
            "text/plain": [
              "(torch.Size([1010, 28, 28]), torch.Size([1028, 28, 28]))"
            ]
          },
          "metadata": {
            "tags": []
          },
          "execution_count": 24
        }
      ]
    },
    {
      "cell_type": "code",
      "metadata": {
        "id": "3BFbwiaOvD-9"
      },
      "source": [
        "def mnist_distance(a,b): return (a-b).abs().mean((-1,-2))"
      ],
      "execution_count": 25,
      "outputs": []
    },
    {
      "cell_type": "code",
      "metadata": {
        "id": "IEtbq5W7vQc1"
      },
      "source": [
        "valid_3_dist = mnist_distance(valid_3_tens,stacked_threes.mean(0))"
      ],
      "execution_count": 26,
      "outputs": []
    },
    {
      "cell_type": "code",
      "metadata": {
        "colab": {
          "base_uri": "https://localhost:8080/"
        },
        "id": "z06nDc_xvlnk",
        "outputId": "adeac804-3e5a-4650-d676-d5ca1b48544b"
      },
      "source": [
        "valid_3_dist, valid_3_dist.shape"
      ],
      "execution_count": 27,
      "outputs": [
        {
          "output_type": "execute_result",
          "data": {
            "text/plain": [
              "(tensor([0.1463, 0.1076, 0.1296,  ..., 0.1776, 0.1209, 0.1531]),\n",
              " torch.Size([1010]))"
            ]
          },
          "metadata": {
            "tags": []
          },
          "execution_count": 27
        }
      ]
    },
    {
      "cell_type": "code",
      "metadata": {
        "id": "X4w8n2C6voYd"
      },
      "source": [
        "def is_3(x): return mnist_distance(x,stacked_threes.mean(0)) < mnist_distance(x,stacked_sevens.mean(0))"
      ],
      "execution_count": 28,
      "outputs": []
    },
    {
      "cell_type": "code",
      "metadata": {
        "colab": {
          "base_uri": "https://localhost:8080/"
        },
        "id": "lu9shzHoxjFq",
        "outputId": "392309f6-fbd1-46b5-a619-ab503072c225"
      },
      "source": [
        "is_3(valid_3_tens[4])"
      ],
      "execution_count": 29,
      "outputs": [
        {
          "output_type": "execute_result",
          "data": {
            "text/plain": [
              "tensor(True)"
            ]
          },
          "metadata": {
            "tags": []
          },
          "execution_count": 29
        }
      ]
    },
    {
      "cell_type": "code",
      "metadata": {
        "colab": {
          "base_uri": "https://localhost:8080/"
        },
        "id": "jh7knN3YxnGI",
        "outputId": "05c45093-e68a-457f-d006-378090171f00"
      },
      "source": [
        "is_3(valid_7_tens[5]).float()"
      ],
      "execution_count": 30,
      "outputs": [
        {
          "output_type": "execute_result",
          "data": {
            "text/plain": [
              "tensor(0.)"
            ]
          },
          "metadata": {
            "tags": []
          },
          "execution_count": 30
        }
      ]
    },
    {
      "cell_type": "code",
      "metadata": {
        "colab": {
          "base_uri": "https://localhost:8080/"
        },
        "id": "ew90ikOAxp5B",
        "outputId": "8c3b747e-1917-40e4-f123-69d7f5dc91f0"
      },
      "source": [
        "is_3(valid_3_tens)"
      ],
      "execution_count": 31,
      "outputs": [
        {
          "output_type": "execute_result",
          "data": {
            "text/plain": [
              "tensor([True, True, True,  ..., True, True, True])"
            ]
          },
          "metadata": {
            "tags": []
          },
          "execution_count": 31
        }
      ]
    },
    {
      "cell_type": "code",
      "metadata": {
        "colab": {
          "base_uri": "https://localhost:8080/"
        },
        "id": "AE4fL2K8yGoP",
        "outputId": "2184e775-ccab-4f71-81db-26d7818dc27c"
      },
      "source": [
        "accuracy_3s = is_3(valid_3_tens).float().mean()\n",
        "accuracy_7s = (1-is_3(valid_7_tens).float()).mean()\n",
        "\n",
        "accuracy_3s,accuracy_7s,(accuracy_3s+accuracy_7s)/2"
      ],
      "execution_count": 32,
      "outputs": [
        {
          "output_type": "execute_result",
          "data": {
            "text/plain": [
              "(tensor(0.9168), tensor(0.9854), tensor(0.9511))"
            ]
          },
          "metadata": {
            "tags": []
          },
          "execution_count": 32
        }
      ]
    },
    {
      "cell_type": "code",
      "metadata": {
        "id": "mEDOa14SyXXb"
      },
      "source": [
        "# here we've model of the 95% accuracy "
      ],
      "execution_count": 33,
      "outputs": []
    },
    {
      "cell_type": "markdown",
      "metadata": {
        "id": "AAAGVIOOzcg_"
      },
      "source": [
        "# working with the gradients "
      ]
    },
    {
      "cell_type": "markdown",
      "metadata": {
        "id": "KmV992jCjT0s"
      },
      "source": [
        "1. initialize the random gradients \n",
        "2. for each image , use these weights to predict wheather it appers to be a three or seven \n",
        "3. Based on these predictions , calculate how good the model is ( it's loss ) \n",
        "4. calculate the gradient, which measures for each weiight how changing the weight would change the loss \n",
        "5. step , all weights based on the calculations \n",
        "6. repeat whole process from 2nd step \n",
        "7. do it until you are satisfied by the results "
      ]
    },
    {
      "cell_type": "markdown",
      "metadata": {
        "id": "InTzEnrItog_"
      },
      "source": [
        "## init ----> predict ------> loss ---> gradient ---> step repeat ------> stop "
      ]
    },
    {
      "cell_type": "code",
      "metadata": {
        "id": "iV-ej4o3txar"
      },
      "source": [
        "# loss will be small when the performance of the model is good \n"
      ],
      "execution_count": 34,
      "outputs": []
    },
    {
      "cell_type": "code",
      "metadata": {
        "id": "WRnA7rSqvfwG"
      },
      "source": [
        "def f(x) : return x**2"
      ],
      "execution_count": 35,
      "outputs": []
    },
    {
      "cell_type": "code",
      "metadata": {
        "id": "PgcD6Qv-vjrQ"
      },
      "source": [
        "# plot_function(f,'x','x**2') # 1st parar is the function name itself 2nd is the x label and 3rd is the y label "
      ],
      "execution_count": 36,
      "outputs": []
    },
    {
      "cell_type": "code",
      "metadata": {
        "colab": {
          "base_uri": "https://localhost:8080/",
          "height": 354
        },
        "id": "91lvZ2HewCYc",
        "outputId": "44d4f62e-e7e0-485a-a8fc-197b503fbb7e"
      },
      "source": [
        "# here we are trying to find the lowest point in the loss fun  f \n",
        "plot_function(f,'x','x**2')\n",
        "value = 1.07 #@param {type:\"slider\", min:-2, max:2, step:0.01}\n",
        "plt.scatter(value,f(value),color = 'red') "
      ],
      "execution_count": 37,
      "outputs": [
        {
          "output_type": "stream",
          "text": [
            "/usr/local/lib/python3.7/dist-packages/fastbook/__init__.py:73: UserWarning: Not providing a value for linspace's steps is deprecated and will throw a runtime error in a future release. This warning will appear only once per process. (Triggered internally at  /pytorch/aten/src/ATen/native/RangeFactories.cpp:25.)\n",
            "  x = torch.linspace(min,max)\n"
          ],
          "name": "stderr"
        },
        {
          "output_type": "execute_result",
          "data": {
            "text/plain": [
              "<matplotlib.collections.PathCollection at 0x7f3137d8f410>"
            ]
          },
          "metadata": {
            "tags": []
          },
          "execution_count": 37
        },
        {
          "output_type": "display_data",
          "data": {
            "image/png": "[encoded data removed]",
            "text/plain": [
              "<Figure size 432x288 with 1 Axes>"
            ]
          },
          "metadata": {
            "tags": [],
            "needs_background": "light"
          }
        }
      ]
    },
    {
      "cell_type": "code",
      "metadata": {
        "id": "aWC8bf7hxEJl"
      },
      "source": [
        "# WE for modifying the funcion later and to tell pytorch to remember that you have to do this some derivative and calculationns later \n",
        "xt = tensor(3.).requires_grad_() # underscroll at the end of function in pytorch means in place modification it modifies the value which you are gonna pass "
      ],
      "execution_count": 38,
      "outputs": []
    },
    {
      "cell_type": "code",
      "metadata": {
        "colab": {
          "base_uri": "https://localhost:8080/"
        },
        "id": "GlGTAtymzj_d",
        "outputId": "97702fb7-647b-4000-8807-81d8e0bb8262"
      },
      "source": [
        "# it keeps track of all the computitions we do in order to calculate derivative later \n",
        "yt = f(xt)\n",
        "yt # here you have noticed that tensor gives the grad_fn also so we can give the derivative out here by using backward() method "
      ],
      "execution_count": 39,
      "outputs": [
        {
          "output_type": "execute_result",
          "data": {
            "text/plain": [
              "tensor(9., grad_fn=<PowBackward0>)"
            ]
          },
          "metadata": {
            "tags": []
          },
          "execution_count": 39
        }
      ]
    },
    {
      "cell_type": "code",
      "metadata": {
        "id": "X-CxtXRIztyx"
      },
      "source": [
        "yt.backward() # for telling pytorch to calculate the derivative "
      ],
      "execution_count": 40,
      "outputs": []
    },
    {
      "cell_type": "code",
      "metadata": {
        "colab": {
          "base_uri": "https://localhost:8080/"
        },
        "id": "qHuwghFjzxja",
        "outputId": "8fbf0f4b-86f1-4c40-a3e1-f69bbc7ac40a"
      },
      "source": [
        "xt.grad # getting result from dertivative function where we have declared requires_grad "
      ],
      "execution_count": 41,
      "outputs": [
        {
          "output_type": "execute_result",
          "data": {
            "text/plain": [
              "tensor(6.)"
            ]
          },
          "metadata": {
            "tags": []
          },
          "execution_count": 41
        }
      ]
    },
    {
      "cell_type": "markdown",
      "metadata": {
        "id": "kgG_NUXxz1zk"
      },
      "source": [
        "# working with the gradients "
      ]
    },
    {
      "cell_type": "code",
      "metadata": {
        "id": "Qzf0WijOWscd"
      },
      "source": [
        "xt.grad??"
      ],
      "execution_count": 42,
      "outputs": []
    },
    {
      "cell_type": "code",
      "metadata": {
        "colab": {
          "base_uri": "https://localhost:8080/"
        },
        "id": "_3Yag9orWxWA",
        "outputId": "c44cf868-a355-434d-d3d5-c7a1f03193db"
      },
      "source": [
        "xt.grad.data"
      ],
      "execution_count": 43,
      "outputs": [
        {
          "output_type": "execute_result",
          "data": {
            "text/plain": [
              "tensor(6.)"
            ]
          },
          "metadata": {
            "tags": []
          },
          "execution_count": 43
        }
      ]
    },
    {
      "cell_type": "code",
      "metadata": {
        "colab": {
          "base_uri": "https://localhost:8080/",
          "height": 265
        },
        "id": "_TfO2MWfkOOM",
        "outputId": "78ea2fd6-4164-46d0-fa14-59badb8508a7"
      },
      "source": [
        "time = torch.arange(0,20).float(); time\n",
        "speed = torch.randn(20)*3 + 0.75*(time-9.5)**2 + 1\n",
        "\n",
        "plt.scatter(time,speed)\n",
        "def f(t,params): \n",
        "  a,b,c = params \n",
        "  return a*(t**2) + (b*t) + c \n",
        "  "
      ],
      "execution_count": 44,
      "outputs": [
        {
          "output_type": "display_data",
          "data": {
            "image/png": "[encoded data removed]",
            "text/plain": [
              "<Figure size 432x288 with 1 Axes>"
            ]
          },
          "metadata": {
            "tags": [],
            "needs_background": "light"
          }
        }
      ]
    },
    {
      "cell_type": "code",
      "metadata": {
        "id": "LjP3LnK_u_Fd"
      },
      "source": [
        "\n",
        "def mse(preds,targets):return ((preds-targets) ** 2).mean().sqrt()\n"
      ],
      "execution_count": 45,
      "outputs": []
    },
    {
      "cell_type": "code",
      "metadata": {
        "id": "K5af1l4ovCOD"
      },
      "source": [
        "\n",
        "params = torch.randn(3).requires_grad_()\n",
        "orig_params = params.clone()\n",
        "preds = f(time,params)\n"
      ],
      "execution_count": 46,
      "outputs": []
    },
    {
      "cell_type": "code",
      "metadata": {
        "id": "gvim4ktXvDOQ"
      },
      "source": [
        "def show_preds(preds,ax = None):\n",
        "  if ax is None : ax = plt.subplots()[1]\n",
        "  ax.scatter(time,speed)\n",
        "  ax.scatter(time,to_np(preds),color = 'red')\n",
        "  ax.set_ylim(-300,1000)\n"
      ],
      "execution_count": 47,
      "outputs": []
    },
    {
      "cell_type": "code",
      "metadata": {
        "colab": {
          "base_uri": "https://localhost:8080/",
          "height": 287
        },
        "id": "CAXXLiyRvE_I",
        "outputId": "ba1e8ba5-55e8-4b29-933f-7d7e3650a8b4"
      },
      "source": [
        "show_preds(preds)\n",
        "loss = mse(preds,speed)\n",
        "loss \n",
        "loss.backward()\n",
        "params.grad\n",
        "params.grad * 1e-5\n",
        "params \n",
        "lr = 1e-5 \n",
        "params.data -= lr * params.grad.data\n",
        "params.grad = None\n",
        "preds = f(time,params)\n",
        "mse(preds,speed)\n"
      ],
      "execution_count": 48,
      "outputs": [
        {
          "output_type": "execute_result",
          "data": {
            "text/plain": [
              "tensor(160.4228, grad_fn=<SqrtBackward>)"
            ]
          },
          "metadata": {
            "tags": []
          },
          "execution_count": 48
        },
        {
          "output_type": "display_data",
          "data": {
            "image/png": "[encoded data removed]",
            "text/plain": [
              "<Figure size 432x288 with 1 Axes>"
            ]
          },
          "metadata": {
            "tags": [],
            "needs_background": "light"
          }
        }
      ]
    },
    {
      "cell_type": "code",
      "metadata": {
        "colab": {
          "base_uri": "https://localhost:8080/",
          "height": 269
        },
        "id": "pB0mkzWjvHwm",
        "outputId": "2c8d7069-1ab6-4f2a-ba8f-28c2ee46e859"
      },
      "source": [
        "show_preds(preds)\n"
      ],
      "execution_count": 49,
      "outputs": [
        {
          "output_type": "display_data",
          "data": {
            "image/png": "[encoded data removed]",
            "text/plain": [
              "<Figure size 432x288 with 1 Axes>"
            ]
          },
          "metadata": {
            "tags": [],
            "needs_background": "light"
          }
        }
      ]
    },
    {
      "cell_type": "code",
      "metadata": {
        "colab": {
          "base_uri": "https://localhost:8080/"
        },
        "id": "vl61ABwCvIil",
        "outputId": "c0f9b02f-b09a-488c-b617-0daa80ade0c9"
      },
      "source": [
        "def apply_step(params, prn = True):\n",
        "    # print(f'params are {params}')\n",
        "    preds = f(time,params)\n",
        "    loss = mse(preds,speed)\n",
        "    loss.backward()\n",
        "    params.data -= lr * params.grad.data\n",
        "    # params.grad = None\n",
        "    print(f'params after params.grad = none {params.data} and params.grad are {params.grad}')\n",
        "    if prn: print(loss.item())\n",
        "    return preds\n",
        "for i in range(10): apply_step(params)"
      ],
      "execution_count": 50,
      "outputs": [
        {
          "output_type": "stream",
          "text": [
            "params after params.grad = none tensor([-0.7625, -0.7504,  1.3526]) and params.grad are tensor([-165.5075,  -10.6397,   -0.7900])\n",
            "160.42279052734375\n",
            "params after params.grad = none tensor([-0.7592, -0.7502,  1.3526]) and params.grad are tensor([-331.0073,  -21.2790,   -1.5801])\n",
            "160.14772033691406\n",
            "params after params.grad = none tensor([-0.7543, -0.7499,  1.3526]) and params.grad are tensor([-496.4915,  -31.9174,   -2.3704])\n",
            "159.59765625\n",
            "params after params.grad = none tensor([-0.7476, -0.7495,  1.3526]) and params.grad are tensor([-661.9523,  -42.5543,   -3.1609])\n",
            "158.772705078125\n",
            "params after params.grad = none tensor([-0.7394, -0.7489,  1.3527]) and params.grad are tensor([-827.3810,  -53.1893,   -3.9517])\n",
            "157.67298889160156\n",
            "params after params.grad = none tensor([-0.7294, -0.7483,  1.3527]) and params.grad are tensor([-992.7689,  -63.8218,   -4.7429])\n",
            "156.29873657226562\n",
            "params after params.grad = none tensor([-0.7179, -0.7475,  1.3528]) and params.grad are tensor([-1158.1062,   -74.4513,    -5.5345])\n",
            "154.65025329589844\n",
            "params after params.grad = none tensor([-0.7046, -0.7467,  1.3528]) and params.grad are tensor([-1323.3824,   -85.0771,    -6.3267])\n",
            "152.7278594970703\n",
            "params after params.grad = none tensor([-0.6897, -0.7457,  1.3529]) and params.grad are tensor([-1488.5861,   -95.6985,    -7.1195])\n",
            "150.53201293945312\n",
            "params after params.grad = none tensor([-0.6732, -0.7447,  1.3530]) and params.grad are tensor([-1653.7041,  -106.3148,    -7.9131])\n",
            "148.063232421875\n"
          ],
          "name": "stdout"
        }
      ]
    },
    {
      "cell_type": "markdown",
      "metadata": {
        "id": "zj85pOHfj2Vi"
      },
      "source": [
        "if we wanted to find the minima of the gradients or functions we will have to define the speed at which we are gonna take a step and set the learning rate "
      ]
    },
    {
      "cell_type": "code",
      "metadata": {
        "id": "8F0c-12pmvUY",
        "colab": {
          "base_uri": "https://localhost:8080/",
          "height": 317
        },
        "outputId": "55798ee4-396f-455a-942f-53e716913f65"
      },
      "source": [
        "_, axs = plt.subplots(1,4,figsize = (12,3))\n",
        "for ax in axs : show_preds(apply_step(params,False),ax)\n",
        "plt.tight_layout()"
      ],
      "execution_count": 51,
      "outputs": [
        {
          "output_type": "stream",
          "text": [
            "params after params.grad = none tensor([-0.6550, -0.7435,  1.3531]) and params.grad are tensor([-1818.7219,  -116.9250,    -8.7075])\n",
            "params after params.grad = none tensor([-0.6352, -0.7422,  1.3532]) and params.grad are tensor([-1983.6228,  -127.5281,    -9.5029])\n",
            "params after params.grad = none tensor([-0.6137, -0.7408,  1.3533]) and params.grad are tensor([-2148.3872,  -138.1229,   -10.2993])\n",
            "params after params.grad = none tensor([-0.5906, -0.7394,  1.3534]) and params.grad are tensor([-2312.9927,  -148.7081,   -11.0970])\n"
          ],
          "name": "stdout"
        },
        {
          "output_type": "display_data",
          "data": {
            "image/png": "[encoded data removed]",
            "text/plain": [
              "<Figure size 864x216 with 4 Axes>"
            ]
          },
          "metadata": {
            "tags": [],
            "needs_background": "light"
          }
        }
      ]
    },
    {
      "cell_type": "markdown",
      "metadata": {
        "id": "g81xt3OIukUt"
      },
      "source": [
        "# MNIST loss function "
      ]
    },
    {
      "cell_type": "code",
      "metadata": {
        "id": "87dlST2QvYeX"
      },
      "source": [
        "# we've to calculate the gradient where the difference is really small "
      ],
      "execution_count": 52,
      "outputs": []
    },
    {
      "cell_type": "code",
      "metadata": {
        "id": "VCRCZQMRvg2E"
      },
      "source": [
        "# if we change the param for small amount then there will be no change in the accuracy of the"
      ],
      "execution_count": 53,
      "outputs": []
    },
    {
      "cell_type": "code",
      "metadata": {
        "id": "r7sEVROfiCiW"
      },
      "source": [
        "train_x  = torch.cat([stacked_threes, stacked_sevens]).view(-1, 28*28)"
      ],
      "execution_count": 54,
      "outputs": []
    },
    {
      "cell_type": "code",
      "metadata": {
        "id": "S0RN9GbhiN7F"
      },
      "source": [
        "train_y = tensor([1] * len(threes) + [0] * len(sevens)).unsqueeze(1)"
      ],
      "execution_count": 55,
      "outputs": []
    },
    {
      "cell_type": "code",
      "metadata": {
        "id": "3x66T_k34ipQ"
      },
      "source": [
        "val_x = torch.cat([valid_3_tens , valid_7_tens]).view(-1,28*28)\n",
        "val_y = tensor([1] * len(valid_3_tens) + [0] * len(valid_7_tens)).unsqueeze(1)\n",
        "valid_dset = list(zip(val_x, val_y))"
      ],
      "execution_count": 56,
      "outputs": []
    },
    {
      "cell_type": "code",
      "metadata": {
        "colab": {
          "base_uri": "https://localhost:8080/"
        },
        "id": "lH4LhzJnimZP",
        "outputId": "18496ded-4db3-4210-8c97-d3239868d6fe"
      },
      "source": [
        "train_y.shape"
      ],
      "execution_count": 57,
      "outputs": [
        {
          "output_type": "execute_result",
          "data": {
            "text/plain": [
              "torch.Size([12396, 1])"
            ]
          },
          "metadata": {
            "tags": []
          },
          "execution_count": 57
        }
      ]
    },
    {
      "cell_type": "code",
      "metadata": {
        "colab": {
          "base_uri": "https://localhost:8080/"
        },
        "id": "ph0bqLcfiq4J",
        "outputId": "c88270dc-bb5f-4db6-a036-911000529913"
      },
      "source": [
        "dset = list(zip(train_x,train_y)) \n",
        "x, y = dset[0]\n",
        "x.shape, y "
      ],
      "execution_count": 58,
      "outputs": [
        {
          "output_type": "execute_result",
          "data": {
            "text/plain": [
              "(torch.Size([784]), tensor([1]))"
            ]
          },
          "metadata": {
            "tags": []
          },
          "execution_count": 58
        }
      ]
    },
    {
      "cell_type": "code",
      "metadata": {
        "id": "mBvwS3HRi6RW"
      },
      "source": [
        "def init_params(size , std = 1.0) : return (torch.randn(size)* std).requires_grad_()"
      ],
      "execution_count": 59,
      "outputs": []
    },
    {
      "cell_type": "code",
      "metadata": {
        "id": "2WH491GyjD9J"
      },
      "source": [
        "weights = init_params((28*28,1))"
      ],
      "execution_count": 60,
      "outputs": []
    },
    {
      "cell_type": "code",
      "metadata": {
        "id": "0KH6yg0tjIJT"
      },
      "source": [
        "bias = init_params(1)"
      ],
      "execution_count": 61,
      "outputs": []
    },
    {
      "cell_type": "code",
      "metadata": {
        "colab": {
          "base_uri": "https://localhost:8080/"
        },
        "id": "fd43TZ6BjMNy",
        "outputId": "564c722e-ac9b-4d28-e743-26545b5bf16b"
      },
      "source": [
        "(train_x[0] * weights.T).sum() + bias "
      ],
      "execution_count": 62,
      "outputs": [
        {
          "output_type": "execute_result",
          "data": {
            "text/plain": [
              "tensor([20.2336], grad_fn=<AddBackward0>)"
            ]
          },
          "metadata": {
            "tags": []
          },
          "execution_count": 62
        }
      ]
    },
    {
      "cell_type": "code",
      "metadata": {
        "id": "lrhWP-x0jnq3"
      },
      "source": [
        "#in python the matrix multiplication is represented by @ operator   \n",
        "\n",
        "def linear1(xb): return xb@weights + bias "
      ],
      "execution_count": 63,
      "outputs": []
    },
    {
      "cell_type": "code",
      "metadata": {
        "id": "1x0ly65MkTGw"
      },
      "source": [
        "preds = linear1(train_x)"
      ],
      "execution_count": 64,
      "outputs": []
    },
    {
      "cell_type": "code",
      "metadata": {
        "colab": {
          "base_uri": "https://localhost:8080/"
        },
        "id": "MaYD0o4okWU_",
        "outputId": "8ce09988-4fa8-4d56-f11a-d746b77aeea2"
      },
      "source": [
        "preds"
      ],
      "execution_count": 65,
      "outputs": [
        {
          "output_type": "execute_result",
          "data": {
            "text/plain": [
              "tensor([[20.2336],\n",
              "        [17.0644],\n",
              "        [15.2384],\n",
              "        ...,\n",
              "        [18.3804],\n",
              "        [23.8567],\n",
              "        [28.6816]], grad_fn=<AddBackward0>)"
            ]
          },
          "metadata": {
            "tags": []
          },
          "execution_count": 65
        }
      ]
    },
    {
      "cell_type": "code",
      "metadata": {
        "colab": {
          "base_uri": "https://localhost:8080/"
        },
        "id": "4kt9R5NSkWk7",
        "outputId": "8def8327-9923-4fef-8c55-fb381f3fa938"
      },
      "source": [
        "corrects = (preds> 0.0).float() == train_y\n",
        "corrects"
      ],
      "execution_count": 66,
      "outputs": [
        {
          "output_type": "execute_result",
          "data": {
            "text/plain": [
              "tensor([[ True],\n",
              "        [ True],\n",
              "        [ True],\n",
              "        ...,\n",
              "        [False],\n",
              "        [False],\n",
              "        [False]])"
            ]
          },
          "metadata": {
            "tags": []
          },
          "execution_count": 66
        }
      ]
    },
    {
      "cell_type": "code",
      "metadata": {
        "colab": {
          "base_uri": "https://localhost:8080/"
        },
        "id": "MyKxind5lZig",
        "outputId": "63b3566f-1440-4367-d1c6-2bcbf56e47ca"
      },
      "source": [
        "corrects.float().mean().item()"
      ],
      "execution_count": 67,
      "outputs": [
        {
          "output_type": "execute_result",
          "data": {
            "text/plain": [
              "0.4912068545818329"
            ]
          },
          "metadata": {
            "tags": []
          },
          "execution_count": 67
        }
      ]
    },
    {
      "cell_type": "code",
      "metadata": {
        "id": "oF17jiU3lfoG"
      },
      "source": [
        "# this means that our model is predicting the correct answers half of the times \n"
      ],
      "execution_count": 68,
      "outputs": []
    },
    {
      "cell_type": "code",
      "metadata": {
        "colab": {
          "base_uri": "https://localhost:8080/"
        },
        "id": "Ms0NDAJjlnih",
        "outputId": "90657abe-117c-4915-80ca-1bf8f21a50a3"
      },
      "source": [
        "#without items in the correct.float().mean() it just returns the tensor \n",
        "corrects.float().mean()"
      ],
      "execution_count": 69,
      "outputs": [
        {
          "output_type": "execute_result",
          "data": {
            "text/plain": [
              "tensor(0.4912)"
            ]
          },
          "metadata": {
            "tags": []
          },
          "execution_count": 69
        }
      ]
    },
    {
      "cell_type": "code",
      "metadata": {
        "colab": {
          "base_uri": "https://localhost:8080/",
          "height": 189
        },
        "id": "08N8qzoyltVQ",
        "outputId": "4709ce43-53d1-42d8-9208-42ed24efcc99"
      },
      "source": [
        "# determining the change in accuracy for the small change in the weights \n",
        "weights[0] *= 1.0001"
      ],
      "execution_count": 70,
      "outputs": [
        {
          "output_type": "error",
          "ename": "RuntimeError",
          "evalue": "ignored",
          "traceback": [
            "\u001b[0;31m---------------------------------------------------------------------------\u001b[0m",
            "\u001b[0;31mRuntimeError\u001b[0m                              Traceback (most recent call last)",
            "\u001b[0;32m<ipython-input-70-39b22ef9f3ab>\u001b[0m in \u001b[0;36m<module>\u001b[0;34m()\u001b[0m\n\u001b[1;32m      1\u001b[0m \u001b[0;31m# determining the change in accuracy for the small change in the weights\u001b[0m\u001b[0;34m\u001b[0m\u001b[0;34m\u001b[0m\u001b[0;34m\u001b[0m\u001b[0m\n\u001b[0;32m----> 2\u001b[0;31m \u001b[0mweights\u001b[0m\u001b[0;34m[\u001b[0m\u001b[0;36m0\u001b[0m\u001b[0;34m]\u001b[0m \u001b[0;34m*=\u001b[0m \u001b[0;36m1.0001\u001b[0m\u001b[0;34m\u001b[0m\u001b[0;34m\u001b[0m\u001b[0m\n\u001b[0m",
            "\u001b[0;31mRuntimeError\u001b[0m: a view of a leaf Variable that requires grad is being used in an in-place operation."
          ]
        }
      ]
    },
    {
      "cell_type": "code",
      "metadata": {
        "id": "BsD0_utDnEJ0"
      },
      "source": [
        "# if we did the prediction with the help of above function then we have to create the loss function\n"
      ],
      "execution_count": 71,
      "outputs": []
    },
    {
      "cell_type": "code",
      "metadata": {
        "id": "HwnJ7myosX_E"
      },
      "source": [
        "# slightly better predictions should have slightly better loss \n"
      ],
      "execution_count": 72,
      "outputs": []
    },
    {
      "cell_type": "code",
      "metadata": {
        "id": "wbsvSf3XslZn"
      },
      "source": [
        "trgts = tensor([1,0,1])\n",
        "prds = tensor([0.9,0.4,0.2])"
      ],
      "execution_count": 73,
      "outputs": []
    },
    {
      "cell_type": "code",
      "metadata": {
        "id": "fWhxuP-Rsq0S"
      },
      "source": [
        "def mnist_loss(predictions , targets):\n",
        "  return torch.where(targets == 1, 1-predictions , predictions).mean()"
      ],
      "execution_count": 74,
      "outputs": []
    },
    {
      "cell_type": "code",
      "metadata": {
        "id": "no6DD8IiszvW"
      },
      "source": [
        "# here in the above loss functions when the predictions are right with the high prediction proba then the loss \n",
        "# is less if the predictions is wrong with the higher probability the loss will be higher\n",
        "\n",
        "# torch.where(cond, a, b) if cond is true then do a otherwise give out b "
      ],
      "execution_count": 75,
      "outputs": []
    },
    {
      "cell_type": "code",
      "metadata": {
        "colab": {
          "base_uri": "https://localhost:8080/"
        },
        "id": "S5B4fOrgv6Na",
        "outputId": "d488d5d3-9503-4788-96e0-a39592f87aa8"
      },
      "source": [
        "mnist_loss(prds,trgts)"
      ],
      "execution_count": 76,
      "outputs": [
        {
          "output_type": "execute_result",
          "data": {
            "text/plain": [
              "tensor(0.4333)"
            ]
          },
          "metadata": {
            "tags": []
          },
          "execution_count": 76
        }
      ]
    },
    {
      "cell_type": "markdown",
      "metadata": {
        "id": "oD9VUdbfuYCP"
      },
      "source": [
        "the above mnist function is only gonna work when the prediction is in between 0 and 1 if it's greater than 1 then or less than 0 then our loss function won't work "
      ]
    },
    {
      "cell_type": "markdown",
      "metadata": {
        "id": "8OHY5mNpvufP"
      },
      "source": [
        "# we need to make sure now that our predictions are in between 0 and 1 "
      ]
    },
    {
      "cell_type": "code",
      "metadata": {
        "id": "oNWl7NUBv1iq"
      },
      "source": [
        "#sigmoid function\n",
        "def sigmoid(x): return 1/(1+torch.exp(-x))"
      ],
      "execution_count": 77,
      "outputs": []
    },
    {
      "cell_type": "code",
      "metadata": {
        "colab": {
          "base_uri": "https://localhost:8080/",
          "height": 281
        },
        "id": "0inqoJFvwUZZ",
        "outputId": "12f921f8-2c67-4626-84a4-7bced937c86b"
      },
      "source": [
        "plot_function(torch.sigmoid,title = 'sigmoid', min =-4, max = 4 )"
      ],
      "execution_count": 78,
      "outputs": [
        {
          "output_type": "display_data",
          "data": {
            "image/png": "[encoded data removed]",
            "text/plain": [
              "<Figure size 432x288 with 1 Axes>"
            ]
          },
          "metadata": {
            "tags": [],
            "needs_background": "light"
          }
        }
      ]
    },
    {
      "cell_type": "code",
      "metadata": {
        "id": "XABHISgzwZnQ"
      },
      "source": [
        "def mnist_loss(predictions, targets):\n",
        "  predictions = predictions.sigmoid()\n",
        "  return torch.where(targets == 1 , 1- predictions, predictions).mean()"
      ],
      "execution_count": 79,
      "outputs": []
    },
    {
      "cell_type": "markdown",
      "metadata": {
        "id": "7HS5RIYRw-J1"
      },
      "source": [
        "# SGD and the mini batches \n"
      ]
    },
    {
      "cell_type": "code",
      "metadata": {
        "colab": {
          "base_uri": "https://localhost:8080/"
        },
        "id": "fKsifG_tz7kA",
        "outputId": "b989badc-b497-45bc-987a-cc009bbb623d"
      },
      "source": [
        "coll = range(15)\n",
        "dl = DataLoader(coll, batch_size = 5, shuffle = True)\n",
        "list(dl)"
      ],
      "execution_count": 80,
      "outputs": [
        {
          "output_type": "execute_result",
          "data": {
            "text/plain": [
              "[tensor([ 3, 12,  8, 10,  2]),\n",
              " tensor([ 9,  4,  7, 14,  5]),\n",
              " tensor([ 1, 13,  0,  6, 11])]"
            ]
          },
          "metadata": {
            "tags": []
          },
          "execution_count": 80
        }
      ]
    },
    {
      "cell_type": "code",
      "metadata": {
        "colab": {
          "base_uri": "https://localhost:8080/"
        },
        "id": "USSr6VJR0DOJ",
        "outputId": "be0905eb-aba0-4905-c4b6-4295600a7b8e"
      },
      "source": [
        "# careting the tuple on teh based of the english letters \n",
        "ds = L(enumerate(string.ascii_lowercase))\n",
        "ds "
      ],
      "execution_count": 81,
      "outputs": [
        {
          "output_type": "execute_result",
          "data": {
            "text/plain": [
              "(#26) [(0, 'a'),(1, 'b'),(2, 'c'),(3, 'd'),(4, 'e'),(5, 'f'),(6, 'g'),(7, 'h'),(8, 'i'),(9, 'j')...]"
            ]
          },
          "metadata": {
            "tags": []
          },
          "execution_count": 81
        }
      ]
    },
    {
      "cell_type": "code",
      "metadata": {
        "id": "Vh184JnL1FAv"
      },
      "source": [
        "# L?? l is the calss whih used to list the list iterator items into teh array of tuples "
      ],
      "execution_count": 82,
      "outputs": []
    },
    {
      "cell_type": "code",
      "metadata": {
        "colab": {
          "base_uri": "https://localhost:8080/"
        },
        "id": "sKH6daTJ1Tdr",
        "outputId": "0e1008a1-d137-4ff3-e4d9-80984372eb81"
      },
      "source": [
        "dl = DataLoader(ds, batch_size = 6 , shuffle = True)\n",
        "dl"
      ],
      "execution_count": 83,
      "outputs": [
        {
          "output_type": "execute_result",
          "data": {
            "text/plain": [
              "<fastai.data.load.DataLoader at 0x7f3137b68ad0>"
            ]
          },
          "metadata": {
            "tags": []
          },
          "execution_count": 83
        }
      ]
    },
    {
      "cell_type": "markdown",
      "metadata": {
        "id": "O3Rfjuaz3GNW"
      },
      "source": [
        "# Putting all the data together "
      ]
    },
    {
      "cell_type": "markdown",
      "metadata": {
        "id": "CU4HZx7b3yLL"
      },
      "source": [
        "1. iterate through the x , y in dl \n",
        "2. make the predictions wiht the models \n",
        "3. calculate the loss using loss function \n",
        "4. calculate the loss derivative using loss.backward() \n",
        "5. update the parameters using paramerters -= parammeters.grad * lr "
      ]
    },
    {
      "cell_type": "code",
      "metadata": {
        "id": "B1qpXhAG4JmU"
      },
      "source": [
        "weights = init_params((28*28), 1)\n",
        "bias = init_params(1)"
      ],
      "execution_count": 84,
      "outputs": []
    },
    {
      "cell_type": "code",
      "metadata": {
        "colab": {
          "base_uri": "https://localhost:8080/"
        },
        "id": "8Fzh3Bfd4OUw",
        "outputId": "f315ff9c-2e29-4805-c1cf-044da0dd5512"
      },
      "source": [
        "dl = DataLoader(dset, batch_size = 256) \n",
        "xb,yb = first(dl)\n",
        "xb.shape , yb.shape "
      ],
      "execution_count": 85,
      "outputs": [
        {
          "output_type": "execute_result",
          "data": {
            "text/plain": [
              "(torch.Size([256, 784]), torch.Size([256, 1]))"
            ]
          },
          "metadata": {
            "tags": []
          },
          "execution_count": 85
        }
      ]
    },
    {
      "cell_type": "code",
      "metadata": {
        "id": "2gzKrpr04VpC"
      },
      "source": [
        "valid_data = DataLoader(valid_dset, batch_size=256 )"
      ],
      "execution_count": 86,
      "outputs": []
    },
    {
      "cell_type": "code",
      "metadata": {
        "colab": {
          "base_uri": "https://localhost:8080/"
        },
        "id": "F_IlLaL75BN0",
        "outputId": "c2fb260b-f21b-41b4-e5aa-daedb774c01c"
      },
      "source": [
        "batch = train_x[:4]\n",
        "batch.shape"
      ],
      "execution_count": 87,
      "outputs": [
        {
          "output_type": "execute_result",
          "data": {
            "text/plain": [
              "torch.Size([4, 784])"
            ]
          },
          "metadata": {
            "tags": []
          },
          "execution_count": 87
        }
      ]
    },
    {
      "cell_type": "code",
      "metadata": {
        "id": "f41da9H55WtB"
      },
      "source": [
        "linear1??"
      ],
      "execution_count": 88,
      "outputs": []
    },
    {
      "cell_type": "code",
      "metadata": {
        "colab": {
          "base_uri": "https://localhost:8080/"
        },
        "id": "UhiM3zeo5YMo",
        "outputId": "0bd6cb96-c2ad-4b59-8a96-3a3a4e6d10d4"
      },
      "source": [
        "preds  = linear1(batch)\n",
        "preds"
      ],
      "execution_count": 89,
      "outputs": [
        {
          "output_type": "execute_result",
          "data": {
            "text/plain": [
              "tensor([ -8.7744,  -8.0637,  -8.1532, -16.9030], grad_fn=<AddBackward0>)"
            ]
          },
          "metadata": {
            "tags": []
          },
          "execution_count": 89
        }
      ]
    },
    {
      "cell_type": "code",
      "metadata": {
        "colab": {
          "base_uri": "https://localhost:8080/"
        },
        "id": "Th7RLo7e5pL9",
        "outputId": "82de585c-7570-4ce9-df3d-e0b1f88104d0"
      },
      "source": [
        "loss = mnist_loss(preds, train_y[:4])\n",
        "loss "
      ],
      "execution_count": 90,
      "outputs": [
        {
          "output_type": "execute_result",
          "data": {
            "text/plain": [
              "tensor(0.9998, grad_fn=<MeanBackward0>)"
            ]
          },
          "metadata": {
            "tags": []
          },
          "execution_count": 90
        }
      ]
    },
    {
      "cell_type": "code",
      "metadata": {
        "colab": {
          "base_uri": "https://localhost:8080/"
        },
        "id": "kuvXruHn5yYy",
        "outputId": "302f9bca-7621-4e8f-ba78-2a0d3345853b"
      },
      "source": [
        "loss.backward()\n",
        "weights.grad.shape, weights.grad.mean(), bias.grad"
      ],
      "execution_count": 91,
      "outputs": [
        {
          "output_type": "execute_result",
          "data": {
            "text/plain": [
              "(torch.Size([784]), tensor(-2.7033e-05), tensor([-0.0002]))"
            ]
          },
          "metadata": {
            "tags": []
          },
          "execution_count": 91
        }
      ]
    },
    {
      "cell_type": "markdown",
      "metadata": {
        "id": "lAVURHr-56Ov"
      },
      "source": [
        "## putting everything in the functions "
      ]
    },
    {
      "cell_type": "code",
      "metadata": {
        "id": "DI8oGarY6_Zz"
      },
      "source": [
        "def calc_grad(xb,yb,model):\n",
        "  preds = model(xb) \n",
        "  loss = mnist_loss(preds,yb)\n",
        "  loss.backward()"
      ],
      "execution_count": 92,
      "outputs": []
    },
    {
      "cell_type": "code",
      "metadata": {
        "colab": {
          "base_uri": "https://localhost:8080/"
        },
        "id": "wgnUKBPM7K4x",
        "outputId": "28d1a19d-bcba-4f4c-d2d8-4953783ab882"
      },
      "source": [
        "calc_grad(batch,train_y[:4],linear1)\n",
        "weights.grad.mean(),bias.grad"
      ],
      "execution_count": 93,
      "outputs": [
        {
          "output_type": "execute_result",
          "data": {
            "text/plain": [
              "(tensor(-5.4066e-05), tensor([-0.0004]))"
            ]
          },
          "metadata": {
            "tags": []
          },
          "execution_count": 93
        }
      ]
    },
    {
      "cell_type": "code",
      "metadata": {
        "colab": {
          "base_uri": "https://localhost:8080/"
        },
        "id": "G4qqRjwQ7Qlm",
        "outputId": "a30b2ac7-ff6c-4328-c565-d048818d4369"
      },
      "source": [
        "calc_grad(batch,train_y[:4],linear1)\n",
        "weights.grad.mean(),bias.grad"
      ],
      "execution_count": 94,
      "outputs": [
        {
          "output_type": "execute_result",
          "data": {
            "text/plain": [
              "(tensor(-8.1099e-05), tensor([-0.0006]))"
            ]
          },
          "metadata": {
            "tags": []
          },
          "execution_count": 94
        }
      ]
    },
    {
      "cell_type": "markdown",
      "metadata": {
        "id": "w-VSDLq47hzY"
      },
      "source": [
        "loss.backward not just calculates the gradient it calculates the gradient and add them in the gradient variable"
      ]
    },
    {
      "cell_type": "code",
      "metadata": {
        "id": "LfUHdv247yI-"
      },
      "source": [
        "weights.grad.zero_()\n",
        "bias.grad.zero_();"
      ],
      "execution_count": 95,
      "outputs": []
    },
    {
      "cell_type": "code",
      "metadata": {
        "id": "8NbKvOoq760f"
      },
      "source": [
        "def train_epoch(model, lr , params): \n",
        "  for xb, yb in dl :\n",
        "    calc_grad(xb,yb,model)\n",
        "    for p in params:\n",
        "      p.data -= p.grad*lr\n",
        "      p.grad.zero_()"
      ],
      "execution_count": 96,
      "outputs": []
    },
    {
      "cell_type": "markdown",
      "metadata": {
        "id": "9SdGLEoe8LMa"
      },
      "source": [
        "if we assign the data attribute to params pytorch will not store or calculate the gradients on that data grad we have declared "
      ]
    },
    {
      "cell_type": "code",
      "metadata": {
        "id": "SDLqsmAE8hSB"
      },
      "source": [
        "def batch_accuracy(xb,yb):\n",
        "  preds = xb.sigmoid()\n",
        "  correct = (preds > 0.5) == yb \n",
        "  return correct.float().mean()"
      ],
      "execution_count": 97,
      "outputs": []
    },
    {
      "cell_type": "code",
      "metadata": {
        "id": "gBEh0kCv9BHv"
      },
      "source": [
        "def validation_epoch(model):\n",
        "  acs = [batch_accuracy(model(xb),yb) for xb,yb in valid_data]\n",
        "  return round(torch.stack(acs).mean().item(),4 )"
      ],
      "execution_count": 98,
      "outputs": []
    },
    {
      "cell_type": "code",
      "metadata": {
        "colab": {
          "base_uri": "https://localhost:8080/"
        },
        "id": "8nYWQKPB9w6x",
        "outputId": "7ab3383b-a573-45ee-c94c-51d507932c2d"
      },
      "source": [
        "validation_epoch(linear1)"
      ],
      "execution_count": 99,
      "outputs": [
        {
          "output_type": "execute_result",
          "data": {
            "text/plain": [
              "0.2947"
            ]
          },
          "metadata": {
            "tags": []
          },
          "execution_count": 99
        }
      ]
    },
    {
      "cell_type": "markdown",
      "metadata": {
        "id": "vXhkwces91zn"
      },
      "source": [
        "let's train for one epoch \n"
      ]
    },
    {
      "cell_type": "code",
      "metadata": {
        "colab": {
          "base_uri": "https://localhost:8080/"
        },
        "id": "25chCOXs-Ki3",
        "outputId": "08f368da-3ac3-4527-97f7-b4bac301db8a"
      },
      "source": [
        "lr = 1.\n",
        "params = weights, bias\n",
        "train_epoch(linear1, lr , params)\n",
        "validation_epoch(linear1)"
      ],
      "execution_count": 100,
      "outputs": [
        {
          "output_type": "execute_result",
          "data": {
            "text/plain": [
              "0.5164"
            ]
          },
          "metadata": {
            "tags": []
          },
          "execution_count": 100
        }
      ]
    },
    {
      "cell_type": "code",
      "metadata": {
        "colab": {
          "base_uri": "https://localhost:8080/"
        },
        "id": "pDezo6nm-US9",
        "outputId": "3e72bf45-a030-48df-df3a-193f554ded7b"
      },
      "source": [
        "for i in range(20):\n",
        "  train_epoch(linear1,lr,params)\n",
        "  print(validation_epoch(linear1))"
      ],
      "execution_count": 101,
      "outputs": [
        {
          "output_type": "stream",
          "text": [
            "0.6619\n",
            "0.8084\n",
            "0.8944\n",
            "0.9206\n",
            "0.9325\n",
            "0.9391\n",
            "0.9433\n",
            "0.9472\n",
            "0.9534\n",
            "0.9544\n",
            "0.9558\n",
            "0.9562\n",
            "0.9567\n",
            "0.9567\n",
            "0.9572\n",
            "0.9577\n",
            "0.9577\n",
            "0.9581\n",
            "0.9591\n",
            "0.9591\n"
          ],
          "name": "stdout"
        }
      ]
    },
    {
      "cell_type": "markdown",
      "metadata": {
        "id": "mupUXqBF_Y-f"
      },
      "source": [
        "# creating the optimizer"
      ]
    },
    {
      "cell_type": "code",
      "metadata": {
        "id": "p9otX7Ja_nuY"
      },
      "source": [
        "linear_model = nn.Linear(28*28,1)"
      ],
      "execution_count": 102,
      "outputs": []
    },
    {
      "cell_type": "code",
      "metadata": {
        "colab": {
          "base_uri": "https://localhost:8080/"
        },
        "id": "DZ-ZbcvI_siL",
        "outputId": "2a3f21b1-6a0e-45f6-bc83-50404924dde8"
      },
      "source": [
        "w,b = linear_model.parameters()\n",
        "w.shape, b.shape"
      ],
      "execution_count": 103,
      "outputs": [
        {
          "output_type": "execute_result",
          "data": {
            "text/plain": [
              "(torch.Size([1, 784]), torch.Size([1]))"
            ]
          },
          "metadata": {
            "tags": []
          },
          "execution_count": 103
        }
      ]
    },
    {
      "cell_type": "markdown",
      "metadata": {
        "id": "ebs6QDt6_tUb"
      },
      "source": [
        "we can use this info to create the optimizer "
      ]
    },
    {
      "cell_type": "code",
      "metadata": {
        "id": "HA_68-FaAd42"
      },
      "source": [
        "class BasicOptim:\n",
        "  def __init__(self, params,lr):self.params,self.lr = list(params),lr\n",
        "  def step(self, *args, **kwargs):\n",
        "    for p in self.params: p.data -= p.grad.data * self.lr\n",
        "\n",
        "  def zero_grad(self,*args, **kwargs):\n",
        "    for p in self.params:p.grad = None"
      ],
      "execution_count": 104,
      "outputs": []
    },
    {
      "cell_type": "code",
      "metadata": {
        "id": "Lsyv_rP5A5-V"
      },
      "source": [
        "opt = BasicOptim(linear_model.parameters(), lr)"
      ],
      "execution_count": 105,
      "outputs": []
    },
    {
      "cell_type": "code",
      "metadata": {
        "id": "Gdj3hZ2rA-iZ"
      },
      "source": [
        "def train_epoch(model):\n",
        "  for xb,yb in dl: \n",
        "    calc_grad(xb,yb,model)\n",
        "    opt.step()\n",
        "    opt.zero_grad()"
      ],
      "execution_count": 106,
      "outputs": []
    },
    {
      "cell_type": "code",
      "metadata": {
        "colab": {
          "base_uri": "https://localhost:8080/"
        },
        "id": "sT35W7GSBI4o",
        "outputId": "27f8dc00-72b0-49c6-ec5f-726fd8c6e597"
      },
      "source": [
        "validation_epoch(linear_model)"
      ],
      "execution_count": 107,
      "outputs": [
        {
          "output_type": "execute_result",
          "data": {
            "text/plain": [
              "0.5201"
            ]
          },
          "metadata": {
            "tags": []
          },
          "execution_count": 107
        }
      ]
    },
    {
      "cell_type": "code",
      "metadata": {
        "id": "WBbbBkB9TWfk"
      },
      "source": [
        "def train_model(model,epochs):\n",
        "  for i in range(epochs):\n",
        "    train_epoch(model)\n",
        "    print(validation_epoch(model))"
      ],
      "execution_count": 108,
      "outputs": []
    },
    {
      "cell_type": "code",
      "metadata": {
        "colab": {
          "base_uri": "https://localhost:8080/"
        },
        "id": "o5SkbXBpTgB8",
        "outputId": "729f68b5-bf1c-4b6f-bdf2-30bca98283c3"
      },
      "source": [
        "train_model(linear_model,20)"
      ],
      "execution_count": 109,
      "outputs": [
        {
          "output_type": "stream",
          "text": [
            "0.4932\n",
            "0.73\n",
            "0.8559\n",
            "0.9179\n",
            "0.9345\n",
            "0.9487\n",
            "0.957\n",
            "0.9633\n",
            "0.9658\n",
            "0.9672\n",
            "0.9702\n",
            "0.9726\n",
            "0.9741\n",
            "0.9751\n",
            "0.976\n",
            "0.977\n",
            "0.9775\n",
            "0.9775\n",
            "0.9785\n",
            "0.979\n"
          ],
          "name": "stdout"
        }
      ]
    },
    {
      "cell_type": "code",
      "metadata": {
        "colab": {
          "base_uri": "https://localhost:8080/"
        },
        "id": "zmd8KLhKTji0",
        "outputId": "27e47507-02c4-426d-da9d-42ba084299aa"
      },
      "source": [
        "linear_model = nn.Linear(28*28, 1) \n",
        "opt = SGD(linear_model.parameters(), lr)\n",
        "train_model(linear_model, 20 ) "
      ],
      "execution_count": 110,
      "outputs": [
        {
          "output_type": "stream",
          "text": [
            "0.4932\n",
            "0.792\n",
            "0.8535\n",
            "0.9175\n",
            "0.9345\n",
            "0.9487\n",
            "0.957\n",
            "0.9624\n",
            "0.9658\n",
            "0.9677\n",
            "0.9692\n",
            "0.9712\n",
            "0.9736\n",
            "0.9751\n",
            "0.976\n",
            "0.9765\n",
            "0.9775\n",
            "0.9785\n",
            "0.9785\n",
            "0.9785\n"
          ],
          "name": "stdout"
        }
      ]
    },
    {
      "cell_type": "code",
      "metadata": {
        "id": "BA4QdzqOYCzP"
      },
      "source": [
        "dls = DataLoaders(dset, valid_dset)"
      ],
      "execution_count": 111,
      "outputs": []
    },
    {
      "cell_type": "code",
      "metadata": {
        "id": "71LwBPr0WqVC"
      },
      "source": [
        "learn = Learner(dls, nn.Linear(28*28,1 ), opt_func = SGD, loss_func = mnist_loss, metrics = batch_accuracy)"
      ],
      "execution_count": 112,
      "outputs": []
    },
    {
      "cell_type": "code",
      "metadata": {
        "colab": {
          "base_uri": "https://localhost:8080/",
          "height": 362
        },
        "id": "WoUNTnpfYA_b",
        "outputId": "eabe2ad6-9b1b-46eb-c823-5d37bc1385c2"
      },
      "source": [
        "learn.fit(10 , lr = 0.1)"
      ],
      "execution_count": 114,
      "outputs": [
        {
          "output_type": "display_data",
          "data": {
            "text/html": [
              "<table border=\"1\" class=\"dataframe\">\n",
              "  <thead>\n",
              "    <tr style=\"text-align: left;\">\n",
              "      <th>epoch</th>\n",
              "      <th>train_loss</th>\n",
              "      <th>valid_loss</th>\n",
              "      <th>batch_accuracy</th>\n",
              "      <th>time</th>\n",
              "    </tr>\n",
              "  </thead>\n",
              "  <tbody>\n",
              "    <tr>\n",
              "      <td>0</td>\n",
              "      <td>0.000036</td>\n",
              "      <td>0.107656</td>\n",
              "      <td>0.894504</td>\n",
              "      <td>00:28</td>\n",
              "    </tr>\n",
              "    <tr>\n",
              "      <td>1</td>\n",
              "      <td>0.000020</td>\n",
              "      <td>0.087540</td>\n",
              "      <td>0.911187</td>\n",
              "      <td>00:28</td>\n",
              "    </tr>\n",
              "    <tr>\n",
              "      <td>2</td>\n",
              "      <td>0.000015</td>\n",
              "      <td>0.079067</td>\n",
              "      <td>0.922964</td>\n",
              "      <td>00:28</td>\n",
              "    </tr>\n",
              "    <tr>\n",
              "      <td>3</td>\n",
              "      <td>0.000014</td>\n",
              "      <td>0.069959</td>\n",
              "      <td>0.933268</td>\n",
              "      <td>00:29</td>\n",
              "    </tr>\n",
              "    <tr>\n",
              "      <td>4</td>\n",
              "      <td>0.000010</td>\n",
              "      <td>0.062686</td>\n",
              "      <td>0.940137</td>\n",
              "      <td>00:28</td>\n",
              "    </tr>\n",
              "    <tr>\n",
              "      <td>5</td>\n",
              "      <td>0.000006</td>\n",
              "      <td>0.060479</td>\n",
              "      <td>0.941609</td>\n",
              "      <td>00:28</td>\n",
              "    </tr>\n",
              "    <tr>\n",
              "      <td>6</td>\n",
              "      <td>0.000004</td>\n",
              "      <td>0.057918</td>\n",
              "      <td>0.944063</td>\n",
              "      <td>00:28</td>\n",
              "    </tr>\n",
              "    <tr>\n",
              "      <td>7</td>\n",
              "      <td>0.000004</td>\n",
              "      <td>0.055364</td>\n",
              "      <td>0.947007</td>\n",
              "      <td>00:28</td>\n",
              "    </tr>\n",
              "    <tr>\n",
              "      <td>8</td>\n",
              "      <td>0.000004</td>\n",
              "      <td>0.053184</td>\n",
              "      <td>0.948970</td>\n",
              "      <td>00:28</td>\n",
              "    </tr>\n",
              "    <tr>\n",
              "      <td>9</td>\n",
              "      <td>0.000004</td>\n",
              "      <td>0.051356</td>\n",
              "      <td>0.949951</td>\n",
              "      <td>00:28</td>\n",
              "    </tr>\n",
              "  </tbody>\n",
              "</table>"
            ],
            "text/plain": [
              "<IPython.core.display.HTML object>"
            ]
          },
          "metadata": {
            "tags": []
          }
        }
      ]
    },
    {
      "cell_type": "markdown",
      "metadata": {
        "id": "wTaDzSUdYK5u"
      },
      "source": [
        "#adding Non lienarity  "
      ]
    },
    {
      "cell_type": "code",
      "metadata": {
        "id": "b11pNWaWYawg"
      },
      "source": [
        "def simple_net(xb):\n",
        "  res = xb@w1 + b1 \n",
        "  res = res.max(tensor(0.0))\n",
        "  res = res* w2 + b2 \n",
        "  return res "
      ],
      "execution_count": 115,
      "outputs": []
    },
    {
      "cell_type": "code",
      "metadata": {
        "id": "xponPvoTZ7yI"
      },
      "source": [
        "w1  = init_params((28*28, 30))\n",
        "b1 = init_params(30)\n",
        "w2 = init_params((30,1))\n",
        "b2 = init_params(1)\n"
      ],
      "execution_count": 116,
      "outputs": []
    },
    {
      "cell_type": "code",
      "metadata": {
        "colab": {
          "base_uri": "https://localhost:8080/",
          "height": 265
        },
        "id": "k_Va645gbh04",
        "outputId": "21fce7ee-3e26-40a2-b374-12e3739499c2"
      },
      "source": [
        "plot_function(F.relu)"
      ],
      "execution_count": 117,
      "outputs": [
        {
          "output_type": "display_data",
          "data": {
            "image/png": "[encoded data removed]",
            "text/plain": [
              "<Figure size 432x288 with 1 Axes>"
            ]
          },
          "metadata": {
            "tags": [],
            "needs_background": "light"
          }
        }
      ]
    },
    {
      "cell_type": "code",
      "metadata": {
        "id": "jCFqvxZDbj7n"
      },
      "source": [
        "simple_net = nn.Sequential(\n",
        "    nn.Linear(28*28,30), \n",
        "    nn.ReLU(),\n",
        "    nn.Linear(30,1)\n",
        ")"
      ],
      "execution_count": 118,
      "outputs": []
    },
    {
      "cell_type": "code",
      "metadata": {
        "id": "FX4VST-rlj0j"
      },
      "source": [
        "learn = Learner(dls, simple_net , opt_func = SGD, \n",
        "                loss_func = mnist_loss, metrics = batch_accuracy)"
      ],
      "execution_count": 119,
      "outputs": []
    },
    {
      "cell_type": "code",
      "metadata": {
        "colab": {
          "base_uri": "https://localhost:8080/",
          "height": 175
        },
        "id": "0BOT82gOsS8P",
        "outputId": "412ec5ad-9cb6-4765-b5d8-044d57445d19"
      },
      "source": [
        "learn.fit(4, 0.1)"
      ],
      "execution_count": 121,
      "outputs": [
        {
          "output_type": "display_data",
          "data": {
            "text/html": [
              "<table border=\"1\" class=\"dataframe\">\n",
              "  <thead>\n",
              "    <tr style=\"text-align: left;\">\n",
              "      <th>epoch</th>\n",
              "      <th>train_loss</th>\n",
              "      <th>valid_loss</th>\n",
              "      <th>batch_accuracy</th>\n",
              "      <th>time</th>\n",
              "    </tr>\n",
              "  </thead>\n",
              "  <tbody>\n",
              "    <tr>\n",
              "      <td>0</td>\n",
              "      <td>0.000000</td>\n",
              "      <td>0.072132</td>\n",
              "      <td>0.928852</td>\n",
              "      <td>00:33</td>\n",
              "    </tr>\n",
              "    <tr>\n",
              "      <td>1</td>\n",
              "      <td>0.000000</td>\n",
              "      <td>0.070608</td>\n",
              "      <td>0.929833</td>\n",
              "      <td>00:32</td>\n",
              "    </tr>\n",
              "    <tr>\n",
              "      <td>2</td>\n",
              "      <td>0.000000</td>\n",
              "      <td>0.085975</td>\n",
              "      <td>0.914622</td>\n",
              "      <td>00:32</td>\n",
              "    </tr>\n",
              "    <tr>\n",
              "      <td>3</td>\n",
              "      <td>0.000000</td>\n",
              "      <td>0.042357</td>\n",
              "      <td>0.956820</td>\n",
              "      <td>00:32</td>\n",
              "    </tr>\n",
              "  </tbody>\n",
              "</table>"
            ],
            "text/plain": [
              "<IPython.core.display.HTML object>"
            ]
          },
          "metadata": {
            "tags": []
          }
        }
      ]
    },
    {
      "cell_type": "code",
      "metadata": {
        "id": "ZrKCOP3XsVb8",
        "colab": {
          "base_uri": "https://localhost:8080/"
        },
        "outputId": "6e04d036-1489-44c3-d460-90629b5784c8"
      },
      "source": [
        "m = learn.model\n",
        "m"
      ],
      "execution_count": 122,
      "outputs": [
        {
          "output_type": "execute_result",
          "data": {
            "text/plain": [
              "Sequential(\n",
              "  (0): Linear(in_features=784, out_features=30, bias=True)\n",
              "  (1): ReLU()\n",
              "  (2): Linear(in_features=30, out_features=1, bias=True)\n",
              ")"
            ]
          },
          "metadata": {
            "tags": []
          },
          "execution_count": 122
        }
      ]
    },
    {
      "cell_type": "code",
      "metadata": {
        "id": "zWuAvNHhsgTO",
        "colab": {
          "base_uri": "https://localhost:8080/",
          "height": 103
        },
        "outputId": "82a4b5a2-23d6-4604-e642-b1bed10e1c8d"
      },
      "source": [
        "w,b = m[0].parameters()\n",
        "no = 7 #@param {type:\"slider\", min:0, max:30, step:1}\n",
        "show_image(w[no].view(28,28))"
      ],
      "execution_count": 137,
      "outputs": [
        {
          "output_type": "execute_result",
          "data": {
            "text/plain": [
              "<matplotlib.axes._subplots.AxesSubplot at 0x7f312cd7ee90>"
            ]
          },
          "metadata": {
            "tags": []
          },
          "execution_count": 137
        },
        {
          "output_type": "display_data",
          "data": {
            "image/png": "[encoded data removed]",
            "text/plain": [
              "<Figure size 72x72 with 1 Axes>"
            ]
          },
          "metadata": {
            "tags": [],
            "needs_background": "light"
          }
        }
      ]
    },
    {
      "cell_type": "code",
      "metadata": {
        "colab": {
          "base_uri": "https://localhost:8080/",
          "height": 137
        },
        "id": "45zaYc3wQFeg",
        "outputId": "834a2a4e-9440-4bee-fb60-444c507ad8ff"
      },
      "source": [
        "dls = ImageDataLoaders.from_folder(path)\n",
        "learn = cnn_learner(dls , resnet18, pretrained = False, loss_func = F.cross_entropy,metrics = accuracy)\n",
        "learn.fit_one_cycle(1,0.1)"
      ],
      "execution_count": 138,
      "outputs": [
        {
          "output_type": "stream",
          "text": [
            "/usr/local/lib/python3.7/dist-packages/torch/nn/functional.py:718: UserWarning: Named tensors and all their associated APIs are an experimental feature and subject to change. Please do not use them for anything important until they are released as stable. (Triggered internally at  /pytorch/c10/core/TensorImpl.h:1156.)\n",
            "  return torch.max_pool2d(input, kernel_size, stride, padding, dilation, ceil_mode)\n"
          ],
          "name": "stderr"
        },
        {
          "output_type": "display_data",
          "data": {
            "text/html": [
              "<table border=\"1\" class=\"dataframe\">\n",
              "  <thead>\n",
              "    <tr style=\"text-align: left;\">\n",
              "      <th>epoch</th>\n",
              "      <th>train_loss</th>\n",
              "      <th>valid_loss</th>\n",
              "      <th>accuracy</th>\n",
              "      <th>time</th>\n",
              "    </tr>\n",
              "  </thead>\n",
              "  <tbody>\n",
              "    <tr>\n",
              "      <td>0</td>\n",
              "      <td>0.072696</td>\n",
              "      <td>0.011054</td>\n",
              "      <td>0.995584</td>\n",
              "      <td>00:23</td>\n",
              "    </tr>\n",
              "  </tbody>\n",
              "</table>"
            ],
            "text/plain": [
              "<IPython.core.display.HTML object>"
            ]
          },
          "metadata": {
            "tags": []
          }
        }
      ]
    },
    {
      "cell_type": "code",
      "metadata": {
        "colab": {
          "base_uri": "https://localhost:8080/"
        },
        "id": "D7GGvZr2RYjf",
        "outputId": "12c4d491-0475-494b-bd3e-5204dc0e512d"
      },
      "source": [
        ""
      ],
      "execution_count": 139,
      "outputs": [
        {
          "output_type": "stream",
          "text": [
            "Thu Jul  1 08:53:32 2021       \n",
            "+-----------------------------------------------------------------------------+\n",
            "| NVIDIA-SMI 465.27       Driver Version: 460.32.03    CUDA Version: 11.2     |\n",
            "|-------------------------------+----------------------+----------------------+\n",
            "| GPU  Name        Persistence-M| Bus-Id        Disp.A | Volatile Uncorr. ECC |\n",
            "| Fan  Temp  Perf  Pwr:Usage/Cap|         Memory-Usage | GPU-Util  Compute M. |\n",
            "|                               |                      |               MIG M. |\n",
            "|===============================+======================+======================|\n",
            "|   0  Tesla P100-PCIE...  Off  | 00000000:00:04.0 Off |                    0 |\n",
            "| N/A   49C    P0    38W / 250W |   1179MiB / 16280MiB |      0%      Default |\n",
            "|                               |                      |                  N/A |\n",
            "+-------------------------------+----------------------+----------------------+\n",
            "                                                                               \n",
            "+-----------------------------------------------------------------------------+\n",
            "| Processes:                                                                  |\n",
            "|  GPU   GI   CI        PID   Type   Process name                  GPU Memory |\n",
            "|        ID   ID                                                   Usage      |\n",
            "|=============================================================================|\n",
            "+-----------------------------------------------------------------------------+\n"
          ],
          "name": "stdout"
        }
      ]
    },
    {
      "cell_type": "code",
      "metadata": {
        "id": "t4hrr_YJRcZV"
      },
      "source": [
        ""
      ],
      "execution_count": null,
      "outputs": []
    }
  ]
}