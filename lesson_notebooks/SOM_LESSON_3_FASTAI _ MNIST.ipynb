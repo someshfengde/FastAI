{
  "nbformat": 4,
  "nbformat_minor": 0,
  "metadata": {
    "colab": {
      "name": "SOM_LESSON_3_FASTAI.ipynb",
      "provenance": []
    },
    "kernelspec": {
      "name": "python3",
      "display_name": "Python 3"
    },
    "language_info": {
      "name": "python"
    }
  },
  "cells": [
    {
      "cell_type": "markdown",
      "metadata": {
        "id": "A6Fx5ddifoyx"
      },
      "source": [
        "# Mnist dataset \n",
        "\n",
        "doing the handwritten digits recognition with the mnist dataset "
      ]
    },
    {
      "cell_type": "markdown",
      "metadata": {
        "id": "9AFjRJgefwbp"
      },
      "source": [
        "#baseline \n"
      ]
    },
    {
      "cell_type": "markdown",
      "metadata": {
        "id": "ebyxN5SVf6lk"
      },
      "source": [
        "doing the image recognition for `3 and 7`"
      ]
    },
    {
      "cell_type": "code",
      "metadata": {
        "id": "NhWOST_qgOpt"
      },
      "source": [
        "# !pip install fastbook \n",
        "\n",
        "from fastai import * \n",
        "from fastai.vision.all import *\n",
        "from fastbook import *"
      ],
      "execution_count": null,
      "outputs": []
    },
    {
      "cell_type": "code",
      "metadata": {
        "colab": {
          "base_uri": "https://localhost:8080/",
          "height": 16
        },
        "id": "Ko7hH32GgEW1",
        "outputId": "c42769a2-a39f-40cb-b6db-701a769f5fd1"
      },
      "source": [
        "path = untar_data(URLs.MNIST_SAMPLE)"
      ],
      "execution_count": null,
      "outputs": [
        {
          "output_type": "display_data",
          "data": {
            "text/html": [
              ""
            ],
            "text/plain": [
              "<IPython.core.display.HTML object>"
            ]
          },
          "metadata": {
            "tags": []
          }
        }
      ]
    },
    {
      "cell_type": "code",
      "metadata": {
        "colab": {
          "base_uri": "https://localhost:8080/"
        },
        "id": "mtc0eGb5gNSC",
        "outputId": "68011841-d26d-4e5e-e0e3-9c99df6aa008"
      },
      "source": [
        "Path.BASE_PATH = path \n",
        "path"
      ],
      "execution_count": null,
      "outputs": [
        {
          "output_type": "execute_result",
          "data": {
            "text/plain": [
              "Path('.')"
            ]
          },
          "metadata": {
            "tags": []
          },
          "execution_count": 3
        }
      ]
    },
    {
      "cell_type": "code",
      "metadata": {
        "colab": {
          "base_uri": "https://localhost:8080/"
        },
        "id": "R_ZM4UnIgp7Y",
        "outputId": "7e33070e-710c-4c56-80d0-2cc13f7e9193"
      },
      "source": [
        "path.ls() # shows the what's in the path "
      ],
      "execution_count": null,
      "outputs": [
        {
          "output_type": "execute_result",
          "data": {
            "text/plain": [
              "(#3) [Path('labels.csv'),Path('valid'),Path('train')]"
            ]
          },
          "metadata": {
            "tags": []
          },
          "execution_count": 4
        }
      ]
    },
    {
      "cell_type": "code",
      "metadata": {
        "id": "rjc_aFDigsj1"
      },
      "source": [
        "threes = (path/'train/3').ls().sorted()\n",
        "sevens = (path/'train/7').ls().sorted()"
      ],
      "execution_count": null,
      "outputs": []
    },
    {
      "cell_type": "code",
      "metadata": {
        "colab": {
          "base_uri": "https://localhost:8080/"
        },
        "id": "oncXh_qzg1wN",
        "outputId": "387f1592-a6fe-4432-e527-8a2304b7fea1"
      },
      "source": [
        "threes"
      ],
      "execution_count": null,
      "outputs": [
        {
          "output_type": "execute_result",
          "data": {
            "text/plain": [
              "(#6131) [Path('train/3/10.png'),Path('train/3/10000.png'),Path('train/3/10011.png'),Path('train/3/10031.png'),Path('train/3/10034.png'),Path('train/3/10042.png'),Path('train/3/10052.png'),Path('train/3/1007.png'),Path('train/3/10074.png'),Path('train/3/10091.png')...]"
            ]
          },
          "metadata": {
            "tags": []
          },
          "execution_count": 6
        }
      ]
    },
    {
      "cell_type": "code",
      "metadata": {
        "colab": {
          "base_uri": "https://localhost:8080/",
          "height": 44
        },
        "id": "1Bgpv6YmhdFs",
        "outputId": "948bac50-edce-4ffe-a377-60ffcc6fe387"
      },
      "source": [
        "im3_path = threes[1]\n",
        "im3 = Image.open(im3_path)\n",
        "im3"
      ],
      "execution_count": null,
      "outputs": [
        {
          "output_type": "execute_result",
          "data": {
            "image/png": "[encoded data removed]",
            "text/plain": [
              "<PIL.PngImagePlugin.PngImageFile image mode=L size=28x28 at 0x7FA01E641950>"
            ]
          },
          "metadata": {
            "tags": []
          },
          "execution_count": 7
        }
      ]
    },
    {
      "cell_type": "code",
      "metadata": {
        "colab": {
          "base_uri": "https://localhost:8080/"
        },
        "id": "FIjeLVcRhm3W",
        "outputId": "f486b0dc-e0c3-44be-ae68-fd59aa592877"
      },
      "source": [
        "np.array(im3)[4:10,4:10]"
      ],
      "execution_count": null,
      "outputs": [
        {
          "output_type": "execute_result",
          "data": {
            "text/plain": [
              "array([[  0,   0,   0,   0,   0,   0],\n",
              "       [  0,   0,   0,   0,   0,  29],\n",
              "       [  0,   0,   0,  48, 166, 224],\n",
              "       [  0,  93, 244, 249, 253, 187],\n",
              "       [  0, 107, 253, 253, 230,  48],\n",
              "       [  0,   3,  20,  20,  15,   0]], dtype=uint8)"
            ]
          },
          "metadata": {
            "tags": []
          },
          "execution_count": 8
        }
      ]
    },
    {
      "cell_type": "code",
      "metadata": {
        "colab": {
          "base_uri": "https://localhost:8080/"
        },
        "id": "H_LeoJJPhqvH",
        "outputId": "cb30732e-08d2-449e-b711-1be2611b5c4f"
      },
      "source": [
        "tensor(im3)[4:10,4:10] # pytorch version of the same array "
      ],
      "execution_count": null,
      "outputs": [
        {
          "output_type": "execute_result",
          "data": {
            "text/plain": [
              "tensor([[  0,   0,   0,   0,   0,   0],\n",
              "        [  0,   0,   0,   0,   0,  29],\n",
              "        [  0,   0,   0,  48, 166, 224],\n",
              "        [  0,  93, 244, 249, 253, 187],\n",
              "        [  0, 107, 253, 253, 230,  48],\n",
              "        [  0,   3,  20,  20,  15,   0]], dtype=torch.uint8)"
            ]
          },
          "metadata": {
            "tags": []
          },
          "execution_count": 9
        }
      ]
    },
    {
      "cell_type": "code",
      "metadata": {
        "id": "7lkXOzBrh2En"
      },
      "source": [
        "# pytorch tensors have the GPU provides the computation advantage \n"
      ],
      "execution_count": null,
      "outputs": []
    },
    {
      "cell_type": "code",
      "metadata": {
        "colab": {
          "base_uri": "https://localhost:8080/",
          "height": 255
        },
        "id": "GA-QLGARiDf-",
        "outputId": "ad20d946-1f19-4d16-ff95-3173bcc7106f"
      },
      "source": [
        "# grabbing the tensor 3 and converting to the pandas dataframe \n",
        "im3_t = tensor(im3)\n",
        "df = pd.DataFrame(im3_t[4:15,5:22])\n",
        "df.style.set_properties(**{'font-size' : '6pt'}).background_gradient('Greys')"
      ],
      "execution_count": null,
      "outputs": [
        {
          "output_type": "execute_result",
          "data": {
            "text/html": [
              "<style  type=\"text/css\" >\n",
              "#T_f99937be_d7e3_11eb_8ad2_0242ac1c0002row0_col0,#T_f99937be_d7e3_11eb_8ad2_0242ac1c0002row0_col1,#T_f99937be_d7e3_11eb_8ad2_0242ac1c0002row0_col2,#T_f99937be_d7e3_11eb_8ad2_0242ac1c0002row0_col3,#T_f99937be_d7e3_11eb_8ad2_0242ac1c0002row0_col4,#T_f99937be_d7e3_11eb_8ad2_0242ac1c0002row0_col5,#T_f99937be_d7e3_11eb_8ad2_0242ac1c0002row0_col6,#T_f99937be_d7e3_11eb_8ad2_0242ac1c0002row0_col7,#T_f99937be_d7e3_11eb_8ad2_0242ac1c0002row0_col8,#T_f99937be_d7e3_11eb_8ad2_0242ac1c0002row0_col9,#T_f99937be_d7e3_11eb_8ad2_0242ac1c0002row0_col10,#T_f99937be_d7e3_11eb_8ad2_0242ac1c0002row0_col11,#T_f99937be_d7e3_11eb_8ad2_0242ac1c0002row0_col12,#T_f99937be_d7e3_11eb_8ad2_0242ac1c0002row0_col13,#T_f99937be_d7e3_11eb_8ad2_0242ac1c0002row0_col14,#T_f99937be_d7e3_11eb_8ad2_0242ac1c0002row0_col15,#T_f99937be_d7e3_11eb_8ad2_0242ac1c0002row0_col16,#T_f99937be_d7e3_11eb_8ad2_0242ac1c0002row1_col0,#T_f99937be_d7e3_11eb_8ad2_0242ac1c0002row1_col1,#T_f99937be_d7e3_11eb_8ad2_0242ac1c0002row1_col2,#T_f99937be_d7e3_11eb_8ad2_0242ac1c0002row1_col3,#T_f99937be_d7e3_11eb_8ad2_0242ac1c0002row1_col14,#T_f99937be_d7e3_11eb_8ad2_0242ac1c0002row1_col15,#T_f99937be_d7e3_11eb_8ad2_0242ac1c0002row1_col16,#T_f99937be_d7e3_11eb_8ad2_0242ac1c0002row2_col0,#T_f99937be_d7e3_11eb_8ad2_0242ac1c0002row2_col1,#T_f99937be_d7e3_11eb_8ad2_0242ac1c0002row2_col14,#T_f99937be_d7e3_11eb_8ad2_0242ac1c0002row2_col15,#T_f99937be_d7e3_11eb_8ad2_0242ac1c0002row2_col16,#T_f99937be_d7e3_11eb_8ad2_0242ac1c0002row3_col14,#T_f99937be_d7e3_11eb_8ad2_0242ac1c0002row3_col15,#T_f99937be_d7e3_11eb_8ad2_0242ac1c0002row3_col16,#T_f99937be_d7e3_11eb_8ad2_0242ac1c0002row4_col5,#T_f99937be_d7e3_11eb_8ad2_0242ac1c0002row4_col6,#T_f99937be_d7e3_11eb_8ad2_0242ac1c0002row4_col7,#T_f99937be_d7e3_11eb_8ad2_0242ac1c0002row4_col8,#T_f99937be_d7e3_11eb_8ad2_0242ac1c0002row4_col9,#T_f99937be_d7e3_11eb_8ad2_0242ac1c0002row4_col14,#T_f99937be_d7e3_11eb_8ad2_0242ac1c0002row4_col15,#T_f99937be_d7e3_11eb_8ad2_0242ac1c0002row4_col16,#T_f99937be_d7e3_11eb_8ad2_0242ac1c0002row5_col4,#T_f99937be_d7e3_11eb_8ad2_0242ac1c0002row5_col5,#T_f99937be_d7e3_11eb_8ad2_0242ac1c0002row5_col6,#T_f99937be_d7e3_11eb_8ad2_0242ac1c0002row5_col7,#T_f99937be_d7e3_11eb_8ad2_0242ac1c0002row5_col8,#T_f99937be_d7e3_11eb_8ad2_0242ac1c0002row5_col14,#T_f99937be_d7e3_11eb_8ad2_0242ac1c0002row5_col15,#T_f99937be_d7e3_11eb_8ad2_0242ac1c0002row5_col16,#T_f99937be_d7e3_11eb_8ad2_0242ac1c0002row6_col0,#T_f99937be_d7e3_11eb_8ad2_0242ac1c0002row6_col1,#T_f99937be_d7e3_11eb_8ad2_0242ac1c0002row6_col2,#T_f99937be_d7e3_11eb_8ad2_0242ac1c0002row6_col3,#T_f99937be_d7e3_11eb_8ad2_0242ac1c0002row6_col4,#T_f99937be_d7e3_11eb_8ad2_0242ac1c0002row6_col5,#T_f99937be_d7e3_11eb_8ad2_0242ac1c0002row6_col6,#T_f99937be_d7e3_11eb_8ad2_0242ac1c0002row6_col7,#T_f99937be_d7e3_11eb_8ad2_0242ac1c0002row6_col8,#T_f99937be_d7e3_11eb_8ad2_0242ac1c0002row6_col13,#T_f99937be_d7e3_11eb_8ad2_0242ac1c0002row6_col14,#T_f99937be_d7e3_11eb_8ad2_0242ac1c0002row6_col15,#T_f99937be_d7e3_11eb_8ad2_0242ac1c0002row6_col16,#T_f99937be_d7e3_11eb_8ad2_0242ac1c0002row7_col0,#T_f99937be_d7e3_11eb_8ad2_0242ac1c0002row7_col1,#T_f99937be_d7e3_11eb_8ad2_0242ac1c0002row7_col2,#T_f99937be_d7e3_11eb_8ad2_0242ac1c0002row7_col3,#T_f99937be_d7e3_11eb_8ad2_0242ac1c0002row7_col4,#T_f99937be_d7e3_11eb_8ad2_0242ac1c0002row7_col5,#T_f99937be_d7e3_11eb_8ad2_0242ac1c0002row7_col12,#T_f99937be_d7e3_11eb_8ad2_0242ac1c0002row7_col13,#T_f99937be_d7e3_11eb_8ad2_0242ac1c0002row7_col14,#T_f99937be_d7e3_11eb_8ad2_0242ac1c0002row7_col15,#T_f99937be_d7e3_11eb_8ad2_0242ac1c0002row7_col16,#T_f99937be_d7e3_11eb_8ad2_0242ac1c0002row8_col0,#T_f99937be_d7e3_11eb_8ad2_0242ac1c0002row8_col1,#T_f99937be_d7e3_11eb_8ad2_0242ac1c0002row8_col2,#T_f99937be_d7e3_11eb_8ad2_0242ac1c0002row8_col3,#T_f99937be_d7e3_11eb_8ad2_0242ac1c0002row8_col12,#T_f99937be_d7e3_11eb_8ad2_0242ac1c0002row8_col13,#T_f99937be_d7e3_11eb_8ad2_0242ac1c0002row8_col14,#T_f99937be_d7e3_11eb_8ad2_0242ac1c0002row8_col15,#T_f99937be_d7e3_11eb_8ad2_0242ac1c0002row8_col16,#T_f99937be_d7e3_11eb_8ad2_0242ac1c0002row9_col0,#T_f99937be_d7e3_11eb_8ad2_0242ac1c0002row9_col1,#T_f99937be_d7e3_11eb_8ad2_0242ac1c0002row9_col2,#T_f99937be_d7e3_11eb_8ad2_0242ac1c0002row9_col3,#T_f99937be_d7e3_11eb_8ad2_0242ac1c0002row9_col15,#T_f99937be_d7e3_11eb_8ad2_0242ac1c0002row9_col16,#T_f99937be_d7e3_11eb_8ad2_0242ac1c0002row10_col0,#T_f99937be_d7e3_11eb_8ad2_0242ac1c0002row10_col1,#T_f99937be_d7e3_11eb_8ad2_0242ac1c0002row10_col2,#T_f99937be_d7e3_11eb_8ad2_0242ac1c0002row10_col3,#T_f99937be_d7e3_11eb_8ad2_0242ac1c0002row10_col4,#T_f99937be_d7e3_11eb_8ad2_0242ac1c0002row10_col5,#T_f99937be_d7e3_11eb_8ad2_0242ac1c0002row10_col16{\n",
              "            font-size:  6pt;\n",
              "            background-color:  #ffffff;\n",
              "            color:  #000000;\n",
              "        }#T_f99937be_d7e3_11eb_8ad2_0242ac1c0002row1_col4{\n",
              "            font-size:  6pt;\n",
              "            background-color:  #efefef;\n",
              "            color:  #000000;\n",
              "        }#T_f99937be_d7e3_11eb_8ad2_0242ac1c0002row1_col5,#T_f99937be_d7e3_11eb_8ad2_0242ac1c0002row1_col12{\n",
              "            font-size:  6pt;\n",
              "            background-color:  #7c7c7c;\n",
              "            color:  #000000;\n",
              "        }#T_f99937be_d7e3_11eb_8ad2_0242ac1c0002row1_col6{\n",
              "            font-size:  6pt;\n",
              "            background-color:  #4a4a4a;\n",
              "            color:  #f1f1f1;\n",
              "        }#T_f99937be_d7e3_11eb_8ad2_0242ac1c0002row1_col7,#T_f99937be_d7e3_11eb_8ad2_0242ac1c0002row1_col8,#T_f99937be_d7e3_11eb_8ad2_0242ac1c0002row1_col9,#T_f99937be_d7e3_11eb_8ad2_0242ac1c0002row2_col4,#T_f99937be_d7e3_11eb_8ad2_0242ac1c0002row2_col5,#T_f99937be_d7e3_11eb_8ad2_0242ac1c0002row2_col6,#T_f99937be_d7e3_11eb_8ad2_0242ac1c0002row2_col10,#T_f99937be_d7e3_11eb_8ad2_0242ac1c0002row2_col11,#T_f99937be_d7e3_11eb_8ad2_0242ac1c0002row2_col12,#T_f99937be_d7e3_11eb_8ad2_0242ac1c0002row3_col3,#T_f99937be_d7e3_11eb_8ad2_0242ac1c0002row3_col11,#T_f99937be_d7e3_11eb_8ad2_0242ac1c0002row3_col12,#T_f99937be_d7e3_11eb_8ad2_0242ac1c0002row4_col0,#T_f99937be_d7e3_11eb_8ad2_0242ac1c0002row4_col1,#T_f99937be_d7e3_11eb_8ad2_0242ac1c0002row4_col2,#T_f99937be_d7e3_11eb_8ad2_0242ac1c0002row4_col11,#T_f99937be_d7e3_11eb_8ad2_0242ac1c0002row4_col12,#T_f99937be_d7e3_11eb_8ad2_0242ac1c0002row5_col11,#T_f99937be_d7e3_11eb_8ad2_0242ac1c0002row6_col10,#T_f99937be_d7e3_11eb_8ad2_0242ac1c0002row9_col10,#T_f99937be_d7e3_11eb_8ad2_0242ac1c0002row10_col10,#T_f99937be_d7e3_11eb_8ad2_0242ac1c0002row10_col11,#T_f99937be_d7e3_11eb_8ad2_0242ac1c0002row10_col12,#T_f99937be_d7e3_11eb_8ad2_0242ac1c0002row10_col13,#T_f99937be_d7e3_11eb_8ad2_0242ac1c0002row10_col14,#T_f99937be_d7e3_11eb_8ad2_0242ac1c0002row10_col15{\n",
              "            font-size:  6pt;\n",
              "            background-color:  #000000;\n",
              "            color:  #f1f1f1;\n",
              "        }#T_f99937be_d7e3_11eb_8ad2_0242ac1c0002row1_col10{\n",
              "            font-size:  6pt;\n",
              "            background-color:  #606060;\n",
              "            color:  #f1f1f1;\n",
              "        }#T_f99937be_d7e3_11eb_8ad2_0242ac1c0002row1_col11{\n",
              "            font-size:  6pt;\n",
              "            background-color:  #4d4d4d;\n",
              "            color:  #f1f1f1;\n",
              "        }#T_f99937be_d7e3_11eb_8ad2_0242ac1c0002row1_col13{\n",
              "            font-size:  6pt;\n",
              "            background-color:  #bbbbbb;\n",
              "            color:  #000000;\n",
              "        }#T_f99937be_d7e3_11eb_8ad2_0242ac1c0002row2_col2{\n",
              "            font-size:  6pt;\n",
              "            background-color:  #e4e4e4;\n",
              "            color:  #000000;\n",
              "        }#T_f99937be_d7e3_11eb_8ad2_0242ac1c0002row2_col3,#T_f99937be_d7e3_11eb_8ad2_0242ac1c0002row8_col5{\n",
              "            font-size:  6pt;\n",
              "            background-color:  #6b6b6b;\n",
              "            color:  #000000;\n",
              "        }#T_f99937be_d7e3_11eb_8ad2_0242ac1c0002row2_col7,#T_f99937be_d7e3_11eb_8ad2_0242ac1c0002row2_col13,#T_f99937be_d7e3_11eb_8ad2_0242ac1c0002row3_col13{\n",
              "            font-size:  6pt;\n",
              "            background-color:  #171717;\n",
              "            color:  #f1f1f1;\n",
              "        }#T_f99937be_d7e3_11eb_8ad2_0242ac1c0002row2_col8,#T_f99937be_d7e3_11eb_8ad2_0242ac1c0002row3_col10{\n",
              "            font-size:  6pt;\n",
              "            background-color:  #4b4b4b;\n",
              "            color:  #f1f1f1;\n",
              "        }#T_f99937be_d7e3_11eb_8ad2_0242ac1c0002row2_col9,#T_f99937be_d7e3_11eb_8ad2_0242ac1c0002row7_col9,#T_f99937be_d7e3_11eb_8ad2_0242ac1c0002row8_col7,#T_f99937be_d7e3_11eb_8ad2_0242ac1c0002row8_col9,#T_f99937be_d7e3_11eb_8ad2_0242ac1c0002row9_col7,#T_f99937be_d7e3_11eb_8ad2_0242ac1c0002row9_col9{\n",
              "            font-size:  6pt;\n",
              "            background-color:  #010101;\n",
              "            color:  #f1f1f1;\n",
              "        }#T_f99937be_d7e3_11eb_8ad2_0242ac1c0002row3_col0{\n",
              "            font-size:  6pt;\n",
              "            background-color:  #272727;\n",
              "            color:  #f1f1f1;\n",
              "        }#T_f99937be_d7e3_11eb_8ad2_0242ac1c0002row3_col1{\n",
              "            font-size:  6pt;\n",
              "            background-color:  #0a0a0a;\n",
              "            color:  #f1f1f1;\n",
              "        }#T_f99937be_d7e3_11eb_8ad2_0242ac1c0002row3_col2{\n",
              "            font-size:  6pt;\n",
              "            background-color:  #050505;\n",
              "            color:  #f1f1f1;\n",
              "        }#T_f99937be_d7e3_11eb_8ad2_0242ac1c0002row3_col4{\n",
              "            font-size:  6pt;\n",
              "            background-color:  #333333;\n",
              "            color:  #f1f1f1;\n",
              "        }#T_f99937be_d7e3_11eb_8ad2_0242ac1c0002row3_col5{\n",
              "            font-size:  6pt;\n",
              "            background-color:  #e6e6e6;\n",
              "            color:  #000000;\n",
              "        }#T_f99937be_d7e3_11eb_8ad2_0242ac1c0002row3_col6,#T_f99937be_d7e3_11eb_8ad2_0242ac1c0002row3_col9{\n",
              "            font-size:  6pt;\n",
              "            background-color:  #fafafa;\n",
              "            color:  #000000;\n",
              "        }#T_f99937be_d7e3_11eb_8ad2_0242ac1c0002row3_col7{\n",
              "            font-size:  6pt;\n",
              "            background-color:  #fbfbfb;\n",
              "            color:  #000000;\n",
              "        }#T_f99937be_d7e3_11eb_8ad2_0242ac1c0002row3_col8{\n",
              "            font-size:  6pt;\n",
              "            background-color:  #fdfdfd;\n",
              "            color:  #000000;\n",
              "        }#T_f99937be_d7e3_11eb_8ad2_0242ac1c0002row4_col3{\n",
              "            font-size:  6pt;\n",
              "            background-color:  #1b1b1b;\n",
              "            color:  #f1f1f1;\n",
              "        }#T_f99937be_d7e3_11eb_8ad2_0242ac1c0002row4_col4{\n",
              "            font-size:  6pt;\n",
              "            background-color:  #e0e0e0;\n",
              "            color:  #000000;\n",
              "        }#T_f99937be_d7e3_11eb_8ad2_0242ac1c0002row4_col10{\n",
              "            font-size:  6pt;\n",
              "            background-color:  #4e4e4e;\n",
              "            color:  #f1f1f1;\n",
              "        }#T_f99937be_d7e3_11eb_8ad2_0242ac1c0002row4_col13{\n",
              "            font-size:  6pt;\n",
              "            background-color:  #767676;\n",
              "            color:  #000000;\n",
              "        }#T_f99937be_d7e3_11eb_8ad2_0242ac1c0002row5_col0{\n",
              "            font-size:  6pt;\n",
              "            background-color:  #fcfcfc;\n",
              "            color:  #000000;\n",
              "        }#T_f99937be_d7e3_11eb_8ad2_0242ac1c0002row5_col1,#T_f99937be_d7e3_11eb_8ad2_0242ac1c0002row5_col2{\n",
              "            font-size:  6pt;\n",
              "            background-color:  #f6f6f6;\n",
              "            color:  #000000;\n",
              "        }#T_f99937be_d7e3_11eb_8ad2_0242ac1c0002row5_col3,#T_f99937be_d7e3_11eb_8ad2_0242ac1c0002row7_col6{\n",
              "            font-size:  6pt;\n",
              "            background-color:  #f8f8f8;\n",
              "            color:  #000000;\n",
              "        }#T_f99937be_d7e3_11eb_8ad2_0242ac1c0002row5_col9,#T_f99937be_d7e3_11eb_8ad2_0242ac1c0002row10_col6{\n",
              "            font-size:  6pt;\n",
              "            background-color:  #e8e8e8;\n",
              "            color:  #000000;\n",
              "        }#T_f99937be_d7e3_11eb_8ad2_0242ac1c0002row5_col10{\n",
              "            font-size:  6pt;\n",
              "            background-color:  #222222;\n",
              "            color:  #f1f1f1;\n",
              "        }#T_f99937be_d7e3_11eb_8ad2_0242ac1c0002row5_col12,#T_f99937be_d7e3_11eb_8ad2_0242ac1c0002row6_col11{\n",
              "            font-size:  6pt;\n",
              "            background-color:  #090909;\n",
              "            color:  #f1f1f1;\n",
              "        }#T_f99937be_d7e3_11eb_8ad2_0242ac1c0002row5_col13{\n",
              "            font-size:  6pt;\n",
              "            background-color:  #d0d0d0;\n",
              "            color:  #000000;\n",
              "        }#T_f99937be_d7e3_11eb_8ad2_0242ac1c0002row6_col9,#T_f99937be_d7e3_11eb_8ad2_0242ac1c0002row7_col10,#T_f99937be_d7e3_11eb_8ad2_0242ac1c0002row9_col5{\n",
              "            font-size:  6pt;\n",
              "            background-color:  #060606;\n",
              "            color:  #f1f1f1;\n",
              "        }#T_f99937be_d7e3_11eb_8ad2_0242ac1c0002row6_col12{\n",
              "            font-size:  6pt;\n",
              "            background-color:  #979797;\n",
              "            color:  #000000;\n",
              "        }#T_f99937be_d7e3_11eb_8ad2_0242ac1c0002row7_col7{\n",
              "            font-size:  6pt;\n",
              "            background-color:  #b6b6b6;\n",
              "            color:  #000000;\n",
              "        }#T_f99937be_d7e3_11eb_8ad2_0242ac1c0002row7_col8{\n",
              "            font-size:  6pt;\n",
              "            background-color:  #252525;\n",
              "            color:  #f1f1f1;\n",
              "        }#T_f99937be_d7e3_11eb_8ad2_0242ac1c0002row7_col11{\n",
              "            font-size:  6pt;\n",
              "            background-color:  #999999;\n",
              "            color:  #000000;\n",
              "        }#T_f99937be_d7e3_11eb_8ad2_0242ac1c0002row8_col4{\n",
              "            font-size:  6pt;\n",
              "            background-color:  #f9f9f9;\n",
              "            color:  #000000;\n",
              "        }#T_f99937be_d7e3_11eb_8ad2_0242ac1c0002row8_col6{\n",
              "            font-size:  6pt;\n",
              "            background-color:  #101010;\n",
              "            color:  #f1f1f1;\n",
              "        }#T_f99937be_d7e3_11eb_8ad2_0242ac1c0002row8_col8,#T_f99937be_d7e3_11eb_8ad2_0242ac1c0002row9_col8{\n",
              "            font-size:  6pt;\n",
              "            background-color:  #020202;\n",
              "            color:  #f1f1f1;\n",
              "        }#T_f99937be_d7e3_11eb_8ad2_0242ac1c0002row8_col10{\n",
              "            font-size:  6pt;\n",
              "            background-color:  #545454;\n",
              "            color:  #f1f1f1;\n",
              "        }#T_f99937be_d7e3_11eb_8ad2_0242ac1c0002row8_col11{\n",
              "            font-size:  6pt;\n",
              "            background-color:  #f1f1f1;\n",
              "            color:  #000000;\n",
              "        }#T_f99937be_d7e3_11eb_8ad2_0242ac1c0002row9_col4{\n",
              "            font-size:  6pt;\n",
              "            background-color:  #f7f7f7;\n",
              "            color:  #000000;\n",
              "        }#T_f99937be_d7e3_11eb_8ad2_0242ac1c0002row9_col6{\n",
              "            font-size:  6pt;\n",
              "            background-color:  #030303;\n",
              "            color:  #f1f1f1;\n",
              "        }#T_f99937be_d7e3_11eb_8ad2_0242ac1c0002row9_col11{\n",
              "            font-size:  6pt;\n",
              "            background-color:  #181818;\n",
              "            color:  #f1f1f1;\n",
              "        }#T_f99937be_d7e3_11eb_8ad2_0242ac1c0002row9_col12{\n",
              "            font-size:  6pt;\n",
              "            background-color:  #303030;\n",
              "            color:  #f1f1f1;\n",
              "        }#T_f99937be_d7e3_11eb_8ad2_0242ac1c0002row9_col13{\n",
              "            font-size:  6pt;\n",
              "            background-color:  #a9a9a9;\n",
              "            color:  #000000;\n",
              "        }#T_f99937be_d7e3_11eb_8ad2_0242ac1c0002row9_col14{\n",
              "            font-size:  6pt;\n",
              "            background-color:  #fefefe;\n",
              "            color:  #000000;\n",
              "        }#T_f99937be_d7e3_11eb_8ad2_0242ac1c0002row10_col7,#T_f99937be_d7e3_11eb_8ad2_0242ac1c0002row10_col8{\n",
              "            font-size:  6pt;\n",
              "            background-color:  #bababa;\n",
              "            color:  #000000;\n",
              "        }#T_f99937be_d7e3_11eb_8ad2_0242ac1c0002row10_col9{\n",
              "            font-size:  6pt;\n",
              "            background-color:  #393939;\n",
              "            color:  #f1f1f1;\n",
              "        }</style><table id=\"T_f99937be_d7e3_11eb_8ad2_0242ac1c0002\" ><thead>    <tr>        <th class=\"blank level0\" ></th>        <th class=\"col_heading level0 col0\" >0</th>        <th class=\"col_heading level0 col1\" >1</th>        <th class=\"col_heading level0 col2\" >2</th>        <th class=\"col_heading level0 col3\" >3</th>        <th class=\"col_heading level0 col4\" >4</th>        <th class=\"col_heading level0 col5\" >5</th>        <th class=\"col_heading level0 col6\" >6</th>        <th class=\"col_heading level0 col7\" >7</th>        <th class=\"col_heading level0 col8\" >8</th>        <th class=\"col_heading level0 col9\" >9</th>        <th class=\"col_heading level0 col10\" >10</th>        <th class=\"col_heading level0 col11\" >11</th>        <th class=\"col_heading level0 col12\" >12</th>        <th class=\"col_heading level0 col13\" >13</th>        <th class=\"col_heading level0 col14\" >14</th>        <th class=\"col_heading level0 col15\" >15</th>        <th class=\"col_heading level0 col16\" >16</th>    </tr></thead><tbody>\n",
              "                <tr>\n",
              "                        <th id=\"T_f99937be_d7e3_11eb_8ad2_0242ac1c0002level0_row0\" class=\"row_heading level0 row0\" >0</th>\n",
              "                        <td id=\"T_f99937be_d7e3_11eb_8ad2_0242ac1c0002row0_col0\" class=\"data row0 col0\" >0</td>\n",
              "                        <td id=\"T_f99937be_d7e3_11eb_8ad2_0242ac1c0002row0_col1\" class=\"data row0 col1\" >0</td>\n",
              "                        <td id=\"T_f99937be_d7e3_11eb_8ad2_0242ac1c0002row0_col2\" class=\"data row0 col2\" >0</td>\n",
              "                        <td id=\"T_f99937be_d7e3_11eb_8ad2_0242ac1c0002row0_col3\" class=\"data row0 col3\" >0</td>\n",
              "                        <td id=\"T_f99937be_d7e3_11eb_8ad2_0242ac1c0002row0_col4\" class=\"data row0 col4\" >0</td>\n",
              "                        <td id=\"T_f99937be_d7e3_11eb_8ad2_0242ac1c0002row0_col5\" class=\"data row0 col5\" >0</td>\n",
              "                        <td id=\"T_f99937be_d7e3_11eb_8ad2_0242ac1c0002row0_col6\" class=\"data row0 col6\" >0</td>\n",
              "                        <td id=\"T_f99937be_d7e3_11eb_8ad2_0242ac1c0002row0_col7\" class=\"data row0 col7\" >0</td>\n",
              "                        <td id=\"T_f99937be_d7e3_11eb_8ad2_0242ac1c0002row0_col8\" class=\"data row0 col8\" >0</td>\n",
              "                        <td id=\"T_f99937be_d7e3_11eb_8ad2_0242ac1c0002row0_col9\" class=\"data row0 col9\" >0</td>\n",
              "                        <td id=\"T_f99937be_d7e3_11eb_8ad2_0242ac1c0002row0_col10\" class=\"data row0 col10\" >0</td>\n",
              "                        <td id=\"T_f99937be_d7e3_11eb_8ad2_0242ac1c0002row0_col11\" class=\"data row0 col11\" >0</td>\n",
              "                        <td id=\"T_f99937be_d7e3_11eb_8ad2_0242ac1c0002row0_col12\" class=\"data row0 col12\" >0</td>\n",
              "                        <td id=\"T_f99937be_d7e3_11eb_8ad2_0242ac1c0002row0_col13\" class=\"data row0 col13\" >0</td>\n",
              "                        <td id=\"T_f99937be_d7e3_11eb_8ad2_0242ac1c0002row0_col14\" class=\"data row0 col14\" >0</td>\n",
              "                        <td id=\"T_f99937be_d7e3_11eb_8ad2_0242ac1c0002row0_col15\" class=\"data row0 col15\" >0</td>\n",
              "                        <td id=\"T_f99937be_d7e3_11eb_8ad2_0242ac1c0002row0_col16\" class=\"data row0 col16\" >0</td>\n",
              "            </tr>\n",
              "            <tr>\n",
              "                        <th id=\"T_f99937be_d7e3_11eb_8ad2_0242ac1c0002level0_row1\" class=\"row_heading level0 row1\" >1</th>\n",
              "                        <td id=\"T_f99937be_d7e3_11eb_8ad2_0242ac1c0002row1_col0\" class=\"data row1 col0\" >0</td>\n",
              "                        <td id=\"T_f99937be_d7e3_11eb_8ad2_0242ac1c0002row1_col1\" class=\"data row1 col1\" >0</td>\n",
              "                        <td id=\"T_f99937be_d7e3_11eb_8ad2_0242ac1c0002row1_col2\" class=\"data row1 col2\" >0</td>\n",
              "                        <td id=\"T_f99937be_d7e3_11eb_8ad2_0242ac1c0002row1_col3\" class=\"data row1 col3\" >0</td>\n",
              "                        <td id=\"T_f99937be_d7e3_11eb_8ad2_0242ac1c0002row1_col4\" class=\"data row1 col4\" >29</td>\n",
              "                        <td id=\"T_f99937be_d7e3_11eb_8ad2_0242ac1c0002row1_col5\" class=\"data row1 col5\" >150</td>\n",
              "                        <td id=\"T_f99937be_d7e3_11eb_8ad2_0242ac1c0002row1_col6\" class=\"data row1 col6\" >195</td>\n",
              "                        <td id=\"T_f99937be_d7e3_11eb_8ad2_0242ac1c0002row1_col7\" class=\"data row1 col7\" >254</td>\n",
              "                        <td id=\"T_f99937be_d7e3_11eb_8ad2_0242ac1c0002row1_col8\" class=\"data row1 col8\" >255</td>\n",
              "                        <td id=\"T_f99937be_d7e3_11eb_8ad2_0242ac1c0002row1_col9\" class=\"data row1 col9\" >254</td>\n",
              "                        <td id=\"T_f99937be_d7e3_11eb_8ad2_0242ac1c0002row1_col10\" class=\"data row1 col10\" >176</td>\n",
              "                        <td id=\"T_f99937be_d7e3_11eb_8ad2_0242ac1c0002row1_col11\" class=\"data row1 col11\" >193</td>\n",
              "                        <td id=\"T_f99937be_d7e3_11eb_8ad2_0242ac1c0002row1_col12\" class=\"data row1 col12\" >150</td>\n",
              "                        <td id=\"T_f99937be_d7e3_11eb_8ad2_0242ac1c0002row1_col13\" class=\"data row1 col13\" >96</td>\n",
              "                        <td id=\"T_f99937be_d7e3_11eb_8ad2_0242ac1c0002row1_col14\" class=\"data row1 col14\" >0</td>\n",
              "                        <td id=\"T_f99937be_d7e3_11eb_8ad2_0242ac1c0002row1_col15\" class=\"data row1 col15\" >0</td>\n",
              "                        <td id=\"T_f99937be_d7e3_11eb_8ad2_0242ac1c0002row1_col16\" class=\"data row1 col16\" >0</td>\n",
              "            </tr>\n",
              "            <tr>\n",
              "                        <th id=\"T_f99937be_d7e3_11eb_8ad2_0242ac1c0002level0_row2\" class=\"row_heading level0 row2\" >2</th>\n",
              "                        <td id=\"T_f99937be_d7e3_11eb_8ad2_0242ac1c0002row2_col0\" class=\"data row2 col0\" >0</td>\n",
              "                        <td id=\"T_f99937be_d7e3_11eb_8ad2_0242ac1c0002row2_col1\" class=\"data row2 col1\" >0</td>\n",
              "                        <td id=\"T_f99937be_d7e3_11eb_8ad2_0242ac1c0002row2_col2\" class=\"data row2 col2\" >48</td>\n",
              "                        <td id=\"T_f99937be_d7e3_11eb_8ad2_0242ac1c0002row2_col3\" class=\"data row2 col3\" >166</td>\n",
              "                        <td id=\"T_f99937be_d7e3_11eb_8ad2_0242ac1c0002row2_col4\" class=\"data row2 col4\" >224</td>\n",
              "                        <td id=\"T_f99937be_d7e3_11eb_8ad2_0242ac1c0002row2_col5\" class=\"data row2 col5\" >253</td>\n",
              "                        <td id=\"T_f99937be_d7e3_11eb_8ad2_0242ac1c0002row2_col6\" class=\"data row2 col6\" >253</td>\n",
              "                        <td id=\"T_f99937be_d7e3_11eb_8ad2_0242ac1c0002row2_col7\" class=\"data row2 col7\" >234</td>\n",
              "                        <td id=\"T_f99937be_d7e3_11eb_8ad2_0242ac1c0002row2_col8\" class=\"data row2 col8\" >196</td>\n",
              "                        <td id=\"T_f99937be_d7e3_11eb_8ad2_0242ac1c0002row2_col9\" class=\"data row2 col9\" >253</td>\n",
              "                        <td id=\"T_f99937be_d7e3_11eb_8ad2_0242ac1c0002row2_col10\" class=\"data row2 col10\" >253</td>\n",
              "                        <td id=\"T_f99937be_d7e3_11eb_8ad2_0242ac1c0002row2_col11\" class=\"data row2 col11\" >253</td>\n",
              "                        <td id=\"T_f99937be_d7e3_11eb_8ad2_0242ac1c0002row2_col12\" class=\"data row2 col12\" >253</td>\n",
              "                        <td id=\"T_f99937be_d7e3_11eb_8ad2_0242ac1c0002row2_col13\" class=\"data row2 col13\" >233</td>\n",
              "                        <td id=\"T_f99937be_d7e3_11eb_8ad2_0242ac1c0002row2_col14\" class=\"data row2 col14\" >0</td>\n",
              "                        <td id=\"T_f99937be_d7e3_11eb_8ad2_0242ac1c0002row2_col15\" class=\"data row2 col15\" >0</td>\n",
              "                        <td id=\"T_f99937be_d7e3_11eb_8ad2_0242ac1c0002row2_col16\" class=\"data row2 col16\" >0</td>\n",
              "            </tr>\n",
              "            <tr>\n",
              "                        <th id=\"T_f99937be_d7e3_11eb_8ad2_0242ac1c0002level0_row3\" class=\"row_heading level0 row3\" >3</th>\n",
              "                        <td id=\"T_f99937be_d7e3_11eb_8ad2_0242ac1c0002row3_col0\" class=\"data row3 col0\" >93</td>\n",
              "                        <td id=\"T_f99937be_d7e3_11eb_8ad2_0242ac1c0002row3_col1\" class=\"data row3 col1\" >244</td>\n",
              "                        <td id=\"T_f99937be_d7e3_11eb_8ad2_0242ac1c0002row3_col2\" class=\"data row3 col2\" >249</td>\n",
              "                        <td id=\"T_f99937be_d7e3_11eb_8ad2_0242ac1c0002row3_col3\" class=\"data row3 col3\" >253</td>\n",
              "                        <td id=\"T_f99937be_d7e3_11eb_8ad2_0242ac1c0002row3_col4\" class=\"data row3 col4\" >187</td>\n",
              "                        <td id=\"T_f99937be_d7e3_11eb_8ad2_0242ac1c0002row3_col5\" class=\"data row3 col5\" >46</td>\n",
              "                        <td id=\"T_f99937be_d7e3_11eb_8ad2_0242ac1c0002row3_col6\" class=\"data row3 col6\" >10</td>\n",
              "                        <td id=\"T_f99937be_d7e3_11eb_8ad2_0242ac1c0002row3_col7\" class=\"data row3 col7\" >8</td>\n",
              "                        <td id=\"T_f99937be_d7e3_11eb_8ad2_0242ac1c0002row3_col8\" class=\"data row3 col8\" >4</td>\n",
              "                        <td id=\"T_f99937be_d7e3_11eb_8ad2_0242ac1c0002row3_col9\" class=\"data row3 col9\" >10</td>\n",
              "                        <td id=\"T_f99937be_d7e3_11eb_8ad2_0242ac1c0002row3_col10\" class=\"data row3 col10\" >194</td>\n",
              "                        <td id=\"T_f99937be_d7e3_11eb_8ad2_0242ac1c0002row3_col11\" class=\"data row3 col11\" >253</td>\n",
              "                        <td id=\"T_f99937be_d7e3_11eb_8ad2_0242ac1c0002row3_col12\" class=\"data row3 col12\" >253</td>\n",
              "                        <td id=\"T_f99937be_d7e3_11eb_8ad2_0242ac1c0002row3_col13\" class=\"data row3 col13\" >233</td>\n",
              "                        <td id=\"T_f99937be_d7e3_11eb_8ad2_0242ac1c0002row3_col14\" class=\"data row3 col14\" >0</td>\n",
              "                        <td id=\"T_f99937be_d7e3_11eb_8ad2_0242ac1c0002row3_col15\" class=\"data row3 col15\" >0</td>\n",
              "                        <td id=\"T_f99937be_d7e3_11eb_8ad2_0242ac1c0002row3_col16\" class=\"data row3 col16\" >0</td>\n",
              "            </tr>\n",
              "            <tr>\n",
              "                        <th id=\"T_f99937be_d7e3_11eb_8ad2_0242ac1c0002level0_row4\" class=\"row_heading level0 row4\" >4</th>\n",
              "                        <td id=\"T_f99937be_d7e3_11eb_8ad2_0242ac1c0002row4_col0\" class=\"data row4 col0\" >107</td>\n",
              "                        <td id=\"T_f99937be_d7e3_11eb_8ad2_0242ac1c0002row4_col1\" class=\"data row4 col1\" >253</td>\n",
              "                        <td id=\"T_f99937be_d7e3_11eb_8ad2_0242ac1c0002row4_col2\" class=\"data row4 col2\" >253</td>\n",
              "                        <td id=\"T_f99937be_d7e3_11eb_8ad2_0242ac1c0002row4_col3\" class=\"data row4 col3\" >230</td>\n",
              "                        <td id=\"T_f99937be_d7e3_11eb_8ad2_0242ac1c0002row4_col4\" class=\"data row4 col4\" >48</td>\n",
              "                        <td id=\"T_f99937be_d7e3_11eb_8ad2_0242ac1c0002row4_col5\" class=\"data row4 col5\" >0</td>\n",
              "                        <td id=\"T_f99937be_d7e3_11eb_8ad2_0242ac1c0002row4_col6\" class=\"data row4 col6\" >0</td>\n",
              "                        <td id=\"T_f99937be_d7e3_11eb_8ad2_0242ac1c0002row4_col7\" class=\"data row4 col7\" >0</td>\n",
              "                        <td id=\"T_f99937be_d7e3_11eb_8ad2_0242ac1c0002row4_col8\" class=\"data row4 col8\" >0</td>\n",
              "                        <td id=\"T_f99937be_d7e3_11eb_8ad2_0242ac1c0002row4_col9\" class=\"data row4 col9\" >0</td>\n",
              "                        <td id=\"T_f99937be_d7e3_11eb_8ad2_0242ac1c0002row4_col10\" class=\"data row4 col10\" >192</td>\n",
              "                        <td id=\"T_f99937be_d7e3_11eb_8ad2_0242ac1c0002row4_col11\" class=\"data row4 col11\" >253</td>\n",
              "                        <td id=\"T_f99937be_d7e3_11eb_8ad2_0242ac1c0002row4_col12\" class=\"data row4 col12\" >253</td>\n",
              "                        <td id=\"T_f99937be_d7e3_11eb_8ad2_0242ac1c0002row4_col13\" class=\"data row4 col13\" >156</td>\n",
              "                        <td id=\"T_f99937be_d7e3_11eb_8ad2_0242ac1c0002row4_col14\" class=\"data row4 col14\" >0</td>\n",
              "                        <td id=\"T_f99937be_d7e3_11eb_8ad2_0242ac1c0002row4_col15\" class=\"data row4 col15\" >0</td>\n",
              "                        <td id=\"T_f99937be_d7e3_11eb_8ad2_0242ac1c0002row4_col16\" class=\"data row4 col16\" >0</td>\n",
              "            </tr>\n",
              "            <tr>\n",
              "                        <th id=\"T_f99937be_d7e3_11eb_8ad2_0242ac1c0002level0_row5\" class=\"row_heading level0 row5\" >5</th>\n",
              "                        <td id=\"T_f99937be_d7e3_11eb_8ad2_0242ac1c0002row5_col0\" class=\"data row5 col0\" >3</td>\n",
              "                        <td id=\"T_f99937be_d7e3_11eb_8ad2_0242ac1c0002row5_col1\" class=\"data row5 col1\" >20</td>\n",
              "                        <td id=\"T_f99937be_d7e3_11eb_8ad2_0242ac1c0002row5_col2\" class=\"data row5 col2\" >20</td>\n",
              "                        <td id=\"T_f99937be_d7e3_11eb_8ad2_0242ac1c0002row5_col3\" class=\"data row5 col3\" >15</td>\n",
              "                        <td id=\"T_f99937be_d7e3_11eb_8ad2_0242ac1c0002row5_col4\" class=\"data row5 col4\" >0</td>\n",
              "                        <td id=\"T_f99937be_d7e3_11eb_8ad2_0242ac1c0002row5_col5\" class=\"data row5 col5\" >0</td>\n",
              "                        <td id=\"T_f99937be_d7e3_11eb_8ad2_0242ac1c0002row5_col6\" class=\"data row5 col6\" >0</td>\n",
              "                        <td id=\"T_f99937be_d7e3_11eb_8ad2_0242ac1c0002row5_col7\" class=\"data row5 col7\" >0</td>\n",
              "                        <td id=\"T_f99937be_d7e3_11eb_8ad2_0242ac1c0002row5_col8\" class=\"data row5 col8\" >0</td>\n",
              "                        <td id=\"T_f99937be_d7e3_11eb_8ad2_0242ac1c0002row5_col9\" class=\"data row5 col9\" >43</td>\n",
              "                        <td id=\"T_f99937be_d7e3_11eb_8ad2_0242ac1c0002row5_col10\" class=\"data row5 col10\" >224</td>\n",
              "                        <td id=\"T_f99937be_d7e3_11eb_8ad2_0242ac1c0002row5_col11\" class=\"data row5 col11\" >253</td>\n",
              "                        <td id=\"T_f99937be_d7e3_11eb_8ad2_0242ac1c0002row5_col12\" class=\"data row5 col12\" >245</td>\n",
              "                        <td id=\"T_f99937be_d7e3_11eb_8ad2_0242ac1c0002row5_col13\" class=\"data row5 col13\" >74</td>\n",
              "                        <td id=\"T_f99937be_d7e3_11eb_8ad2_0242ac1c0002row5_col14\" class=\"data row5 col14\" >0</td>\n",
              "                        <td id=\"T_f99937be_d7e3_11eb_8ad2_0242ac1c0002row5_col15\" class=\"data row5 col15\" >0</td>\n",
              "                        <td id=\"T_f99937be_d7e3_11eb_8ad2_0242ac1c0002row5_col16\" class=\"data row5 col16\" >0</td>\n",
              "            </tr>\n",
              "            <tr>\n",
              "                        <th id=\"T_f99937be_d7e3_11eb_8ad2_0242ac1c0002level0_row6\" class=\"row_heading level0 row6\" >6</th>\n",
              "                        <td id=\"T_f99937be_d7e3_11eb_8ad2_0242ac1c0002row6_col0\" class=\"data row6 col0\" >0</td>\n",
              "                        <td id=\"T_f99937be_d7e3_11eb_8ad2_0242ac1c0002row6_col1\" class=\"data row6 col1\" >0</td>\n",
              "                        <td id=\"T_f99937be_d7e3_11eb_8ad2_0242ac1c0002row6_col2\" class=\"data row6 col2\" >0</td>\n",
              "                        <td id=\"T_f99937be_d7e3_11eb_8ad2_0242ac1c0002row6_col3\" class=\"data row6 col3\" >0</td>\n",
              "                        <td id=\"T_f99937be_d7e3_11eb_8ad2_0242ac1c0002row6_col4\" class=\"data row6 col4\" >0</td>\n",
              "                        <td id=\"T_f99937be_d7e3_11eb_8ad2_0242ac1c0002row6_col5\" class=\"data row6 col5\" >0</td>\n",
              "                        <td id=\"T_f99937be_d7e3_11eb_8ad2_0242ac1c0002row6_col6\" class=\"data row6 col6\" >0</td>\n",
              "                        <td id=\"T_f99937be_d7e3_11eb_8ad2_0242ac1c0002row6_col7\" class=\"data row6 col7\" >0</td>\n",
              "                        <td id=\"T_f99937be_d7e3_11eb_8ad2_0242ac1c0002row6_col8\" class=\"data row6 col8\" >0</td>\n",
              "                        <td id=\"T_f99937be_d7e3_11eb_8ad2_0242ac1c0002row6_col9\" class=\"data row6 col9\" >249</td>\n",
              "                        <td id=\"T_f99937be_d7e3_11eb_8ad2_0242ac1c0002row6_col10\" class=\"data row6 col10\" >253</td>\n",
              "                        <td id=\"T_f99937be_d7e3_11eb_8ad2_0242ac1c0002row6_col11\" class=\"data row6 col11\" >245</td>\n",
              "                        <td id=\"T_f99937be_d7e3_11eb_8ad2_0242ac1c0002row6_col12\" class=\"data row6 col12\" >126</td>\n",
              "                        <td id=\"T_f99937be_d7e3_11eb_8ad2_0242ac1c0002row6_col13\" class=\"data row6 col13\" >0</td>\n",
              "                        <td id=\"T_f99937be_d7e3_11eb_8ad2_0242ac1c0002row6_col14\" class=\"data row6 col14\" >0</td>\n",
              "                        <td id=\"T_f99937be_d7e3_11eb_8ad2_0242ac1c0002row6_col15\" class=\"data row6 col15\" >0</td>\n",
              "                        <td id=\"T_f99937be_d7e3_11eb_8ad2_0242ac1c0002row6_col16\" class=\"data row6 col16\" >0</td>\n",
              "            </tr>\n",
              "            <tr>\n",
              "                        <th id=\"T_f99937be_d7e3_11eb_8ad2_0242ac1c0002level0_row7\" class=\"row_heading level0 row7\" >7</th>\n",
              "                        <td id=\"T_f99937be_d7e3_11eb_8ad2_0242ac1c0002row7_col0\" class=\"data row7 col0\" >0</td>\n",
              "                        <td id=\"T_f99937be_d7e3_11eb_8ad2_0242ac1c0002row7_col1\" class=\"data row7 col1\" >0</td>\n",
              "                        <td id=\"T_f99937be_d7e3_11eb_8ad2_0242ac1c0002row7_col2\" class=\"data row7 col2\" >0</td>\n",
              "                        <td id=\"T_f99937be_d7e3_11eb_8ad2_0242ac1c0002row7_col3\" class=\"data row7 col3\" >0</td>\n",
              "                        <td id=\"T_f99937be_d7e3_11eb_8ad2_0242ac1c0002row7_col4\" class=\"data row7 col4\" >0</td>\n",
              "                        <td id=\"T_f99937be_d7e3_11eb_8ad2_0242ac1c0002row7_col5\" class=\"data row7 col5\" >0</td>\n",
              "                        <td id=\"T_f99937be_d7e3_11eb_8ad2_0242ac1c0002row7_col6\" class=\"data row7 col6\" >14</td>\n",
              "                        <td id=\"T_f99937be_d7e3_11eb_8ad2_0242ac1c0002row7_col7\" class=\"data row7 col7\" >101</td>\n",
              "                        <td id=\"T_f99937be_d7e3_11eb_8ad2_0242ac1c0002row7_col8\" class=\"data row7 col8\" >223</td>\n",
              "                        <td id=\"T_f99937be_d7e3_11eb_8ad2_0242ac1c0002row7_col9\" class=\"data row7 col9\" >253</td>\n",
              "                        <td id=\"T_f99937be_d7e3_11eb_8ad2_0242ac1c0002row7_col10\" class=\"data row7 col10\" >248</td>\n",
              "                        <td id=\"T_f99937be_d7e3_11eb_8ad2_0242ac1c0002row7_col11\" class=\"data row7 col11\" >124</td>\n",
              "                        <td id=\"T_f99937be_d7e3_11eb_8ad2_0242ac1c0002row7_col12\" class=\"data row7 col12\" >0</td>\n",
              "                        <td id=\"T_f99937be_d7e3_11eb_8ad2_0242ac1c0002row7_col13\" class=\"data row7 col13\" >0</td>\n",
              "                        <td id=\"T_f99937be_d7e3_11eb_8ad2_0242ac1c0002row7_col14\" class=\"data row7 col14\" >0</td>\n",
              "                        <td id=\"T_f99937be_d7e3_11eb_8ad2_0242ac1c0002row7_col15\" class=\"data row7 col15\" >0</td>\n",
              "                        <td id=\"T_f99937be_d7e3_11eb_8ad2_0242ac1c0002row7_col16\" class=\"data row7 col16\" >0</td>\n",
              "            </tr>\n",
              "            <tr>\n",
              "                        <th id=\"T_f99937be_d7e3_11eb_8ad2_0242ac1c0002level0_row8\" class=\"row_heading level0 row8\" >8</th>\n",
              "                        <td id=\"T_f99937be_d7e3_11eb_8ad2_0242ac1c0002row8_col0\" class=\"data row8 col0\" >0</td>\n",
              "                        <td id=\"T_f99937be_d7e3_11eb_8ad2_0242ac1c0002row8_col1\" class=\"data row8 col1\" >0</td>\n",
              "                        <td id=\"T_f99937be_d7e3_11eb_8ad2_0242ac1c0002row8_col2\" class=\"data row8 col2\" >0</td>\n",
              "                        <td id=\"T_f99937be_d7e3_11eb_8ad2_0242ac1c0002row8_col3\" class=\"data row8 col3\" >0</td>\n",
              "                        <td id=\"T_f99937be_d7e3_11eb_8ad2_0242ac1c0002row8_col4\" class=\"data row8 col4\" >11</td>\n",
              "                        <td id=\"T_f99937be_d7e3_11eb_8ad2_0242ac1c0002row8_col5\" class=\"data row8 col5\" >166</td>\n",
              "                        <td id=\"T_f99937be_d7e3_11eb_8ad2_0242ac1c0002row8_col6\" class=\"data row8 col6\" >239</td>\n",
              "                        <td id=\"T_f99937be_d7e3_11eb_8ad2_0242ac1c0002row8_col7\" class=\"data row8 col7\" >253</td>\n",
              "                        <td id=\"T_f99937be_d7e3_11eb_8ad2_0242ac1c0002row8_col8\" class=\"data row8 col8\" >253</td>\n",
              "                        <td id=\"T_f99937be_d7e3_11eb_8ad2_0242ac1c0002row8_col9\" class=\"data row8 col9\" >253</td>\n",
              "                        <td id=\"T_f99937be_d7e3_11eb_8ad2_0242ac1c0002row8_col10\" class=\"data row8 col10\" >187</td>\n",
              "                        <td id=\"T_f99937be_d7e3_11eb_8ad2_0242ac1c0002row8_col11\" class=\"data row8 col11\" >30</td>\n",
              "                        <td id=\"T_f99937be_d7e3_11eb_8ad2_0242ac1c0002row8_col12\" class=\"data row8 col12\" >0</td>\n",
              "                        <td id=\"T_f99937be_d7e3_11eb_8ad2_0242ac1c0002row8_col13\" class=\"data row8 col13\" >0</td>\n",
              "                        <td id=\"T_f99937be_d7e3_11eb_8ad2_0242ac1c0002row8_col14\" class=\"data row8 col14\" >0</td>\n",
              "                        <td id=\"T_f99937be_d7e3_11eb_8ad2_0242ac1c0002row8_col15\" class=\"data row8 col15\" >0</td>\n",
              "                        <td id=\"T_f99937be_d7e3_11eb_8ad2_0242ac1c0002row8_col16\" class=\"data row8 col16\" >0</td>\n",
              "            </tr>\n",
              "            <tr>\n",
              "                        <th id=\"T_f99937be_d7e3_11eb_8ad2_0242ac1c0002level0_row9\" class=\"row_heading level0 row9\" >9</th>\n",
              "                        <td id=\"T_f99937be_d7e3_11eb_8ad2_0242ac1c0002row9_col0\" class=\"data row9 col0\" >0</td>\n",
              "                        <td id=\"T_f99937be_d7e3_11eb_8ad2_0242ac1c0002row9_col1\" class=\"data row9 col1\" >0</td>\n",
              "                        <td id=\"T_f99937be_d7e3_11eb_8ad2_0242ac1c0002row9_col2\" class=\"data row9 col2\" >0</td>\n",
              "                        <td id=\"T_f99937be_d7e3_11eb_8ad2_0242ac1c0002row9_col3\" class=\"data row9 col3\" >0</td>\n",
              "                        <td id=\"T_f99937be_d7e3_11eb_8ad2_0242ac1c0002row9_col4\" class=\"data row9 col4\" >16</td>\n",
              "                        <td id=\"T_f99937be_d7e3_11eb_8ad2_0242ac1c0002row9_col5\" class=\"data row9 col5\" >248</td>\n",
              "                        <td id=\"T_f99937be_d7e3_11eb_8ad2_0242ac1c0002row9_col6\" class=\"data row9 col6\" >250</td>\n",
              "                        <td id=\"T_f99937be_d7e3_11eb_8ad2_0242ac1c0002row9_col7\" class=\"data row9 col7\" >253</td>\n",
              "                        <td id=\"T_f99937be_d7e3_11eb_8ad2_0242ac1c0002row9_col8\" class=\"data row9 col8\" >253</td>\n",
              "                        <td id=\"T_f99937be_d7e3_11eb_8ad2_0242ac1c0002row9_col9\" class=\"data row9 col9\" >253</td>\n",
              "                        <td id=\"T_f99937be_d7e3_11eb_8ad2_0242ac1c0002row9_col10\" class=\"data row9 col10\" >253</td>\n",
              "                        <td id=\"T_f99937be_d7e3_11eb_8ad2_0242ac1c0002row9_col11\" class=\"data row9 col11\" >232</td>\n",
              "                        <td id=\"T_f99937be_d7e3_11eb_8ad2_0242ac1c0002row9_col12\" class=\"data row9 col12\" >213</td>\n",
              "                        <td id=\"T_f99937be_d7e3_11eb_8ad2_0242ac1c0002row9_col13\" class=\"data row9 col13\" >111</td>\n",
              "                        <td id=\"T_f99937be_d7e3_11eb_8ad2_0242ac1c0002row9_col14\" class=\"data row9 col14\" >2</td>\n",
              "                        <td id=\"T_f99937be_d7e3_11eb_8ad2_0242ac1c0002row9_col15\" class=\"data row9 col15\" >0</td>\n",
              "                        <td id=\"T_f99937be_d7e3_11eb_8ad2_0242ac1c0002row9_col16\" class=\"data row9 col16\" >0</td>\n",
              "            </tr>\n",
              "            <tr>\n",
              "                        <th id=\"T_f99937be_d7e3_11eb_8ad2_0242ac1c0002level0_row10\" class=\"row_heading level0 row10\" >10</th>\n",
              "                        <td id=\"T_f99937be_d7e3_11eb_8ad2_0242ac1c0002row10_col0\" class=\"data row10 col0\" >0</td>\n",
              "                        <td id=\"T_f99937be_d7e3_11eb_8ad2_0242ac1c0002row10_col1\" class=\"data row10 col1\" >0</td>\n",
              "                        <td id=\"T_f99937be_d7e3_11eb_8ad2_0242ac1c0002row10_col2\" class=\"data row10 col2\" >0</td>\n",
              "                        <td id=\"T_f99937be_d7e3_11eb_8ad2_0242ac1c0002row10_col3\" class=\"data row10 col3\" >0</td>\n",
              "                        <td id=\"T_f99937be_d7e3_11eb_8ad2_0242ac1c0002row10_col4\" class=\"data row10 col4\" >0</td>\n",
              "                        <td id=\"T_f99937be_d7e3_11eb_8ad2_0242ac1c0002row10_col5\" class=\"data row10 col5\" >0</td>\n",
              "                        <td id=\"T_f99937be_d7e3_11eb_8ad2_0242ac1c0002row10_col6\" class=\"data row10 col6\" >43</td>\n",
              "                        <td id=\"T_f99937be_d7e3_11eb_8ad2_0242ac1c0002row10_col7\" class=\"data row10 col7\" >98</td>\n",
              "                        <td id=\"T_f99937be_d7e3_11eb_8ad2_0242ac1c0002row10_col8\" class=\"data row10 col8\" >98</td>\n",
              "                        <td id=\"T_f99937be_d7e3_11eb_8ad2_0242ac1c0002row10_col9\" class=\"data row10 col9\" >208</td>\n",
              "                        <td id=\"T_f99937be_d7e3_11eb_8ad2_0242ac1c0002row10_col10\" class=\"data row10 col10\" >253</td>\n",
              "                        <td id=\"T_f99937be_d7e3_11eb_8ad2_0242ac1c0002row10_col11\" class=\"data row10 col11\" >253</td>\n",
              "                        <td id=\"T_f99937be_d7e3_11eb_8ad2_0242ac1c0002row10_col12\" class=\"data row10 col12\" >253</td>\n",
              "                        <td id=\"T_f99937be_d7e3_11eb_8ad2_0242ac1c0002row10_col13\" class=\"data row10 col13\" >253</td>\n",
              "                        <td id=\"T_f99937be_d7e3_11eb_8ad2_0242ac1c0002row10_col14\" class=\"data row10 col14\" >187</td>\n",
              "                        <td id=\"T_f99937be_d7e3_11eb_8ad2_0242ac1c0002row10_col15\" class=\"data row10 col15\" >22</td>\n",
              "                        <td id=\"T_f99937be_d7e3_11eb_8ad2_0242ac1c0002row10_col16\" class=\"data row10 col16\" >0</td>\n",
              "            </tr>\n",
              "    </tbody></table>"
            ],
            "text/plain": [
              "<pandas.io.formats.style.Styler at 0x7fa01ee68d10>"
            ]
          },
          "metadata": {
            "tags": []
          },
          "execution_count": 11
        }
      ]
    },
    {
      "cell_type": "code",
      "metadata": {
        "colab": {
          "base_uri": "https://localhost:8080/"
        },
        "id": "Cpdl5jL9if9H",
        "outputId": "9c5cf6be-1b73-4f5e-de18-fc5eace5610d"
      },
      "source": [
        "# making the lists of all of the 7's \n",
        "\n",
        "seven_tensors = [tensor(Image.open(o)) for o in sevens]\n",
        "three_tensors = [tensor(Image.open(o)) for o in threes]\n",
        "\n",
        "len(three_tensors), len(seven_tensors)"
      ],
      "execution_count": null,
      "outputs": [
        {
          "output_type": "execute_result",
          "data": {
            "text/plain": [
              "(6131, 6265)"
            ]
          },
          "metadata": {
            "tags": []
          },
          "execution_count": 12
        }
      ]
    },
    {
      "cell_type": "code",
      "metadata": {
        "colab": {
          "base_uri": "https://localhost:8080/",
          "height": 102
        },
        "id": "VtulNwRKkFgF",
        "outputId": "4479d247-d764-4227-f1ee-828a7a0b8466"
      },
      "source": [
        "show_image(three_tensors[1])"
      ],
      "execution_count": null,
      "outputs": [
        {
          "output_type": "execute_result",
          "data": {
            "text/plain": [
              "<matplotlib.axes._subplots.AxesSubplot at 0x7fa01e645090>"
            ]
          },
          "metadata": {
            "tags": []
          },
          "execution_count": 13
        },
        {
          "output_type": "display_data",
          "data": {
            "image/png": "[encoded data removed]",
            "text/plain": [
              "<Figure size 72x72 with 1 Axes>"
            ]
          },
          "metadata": {
            "tags": [],
            "needs_background": "light"
          }
        }
      ]
    },
    {
      "cell_type": "code",
      "metadata": {
        "colab": {
          "base_uri": "https://localhost:8080/"
        },
        "id": "DnrpZjZQkQTb",
        "outputId": "fb420782-e42d-433a-fd5b-e1b34e1bbb2d"
      },
      "source": [
        "three_tensors[1].shape"
      ],
      "execution_count": null,
      "outputs": [
        {
          "output_type": "execute_result",
          "data": {
            "text/plain": [
              "torch.Size([28, 28])"
            ]
          },
          "metadata": {
            "tags": []
          },
          "execution_count": 14
        }
      ]
    },
    {
      "cell_type": "code",
      "metadata": {
        "colab": {
          "base_uri": "https://localhost:8080/"
        },
        "id": "P-QKYlt_kc7n",
        "outputId": "d201d121-fc0d-4d06-dc72-8a8c30311e5f"
      },
      "source": [
        "type(three_tensors)"
      ],
      "execution_count": null,
      "outputs": [
        {
          "output_type": "execute_result",
          "data": {
            "text/plain": [
              "list"
            ]
          },
          "metadata": {
            "tags": []
          },
          "execution_count": 15
        }
      ]
    },
    {
      "cell_type": "code",
      "metadata": {
        "colab": {
          "base_uri": "https://localhost:8080/"
        },
        "id": "RZHusRgDke1m",
        "outputId": "486695ad-3589-40d5-b33f-262a2c03ccb8"
      },
      "source": [
        "# converting the list of iamges ( which are 3 and 7 ) into tensors \n",
        "stacked_sevens = torch.stack(seven_tensors).float()/255\n",
        "stacked_threes = torch.stack(three_tensors).float()/255\n",
        "stacked_threes.shape"
      ],
      "execution_count": null,
      "outputs": [
        {
          "output_type": "execute_result",
          "data": {
            "text/plain": [
              "torch.Size([6131, 28, 28])"
            ]
          },
          "metadata": {
            "tags": []
          },
          "execution_count": 16
        }
      ]
    },
    {
      "cell_type": "code",
      "metadata": {
        "id": "TH2vNOnxk_J2"
      },
      "source": [
        "# rank is the number of dimensions or shape of the tensor \n"
      ],
      "execution_count": null,
      "outputs": []
    },
    {
      "cell_type": "code",
      "metadata": {
        "id": "13Vwk86AqRfl"
      },
      "source": [
        "# stacked_threes.mean()  # average pixel of the whole cube \n",
        "# stacked_threes.mean(0) # average pixel across the 0th axis  "
      ],
      "execution_count": null,
      "outputs": []
    },
    {
      "cell_type": "code",
      "metadata": {
        "colab": {
          "base_uri": "https://localhost:8080/",
          "height": 102
        },
        "id": "VSNCQUedqTGx",
        "outputId": "31734a64-b80a-4527-eae2-f126334e1752"
      },
      "source": [
        "show_image(stacked_threes.mean(0))"
      ],
      "execution_count": null,
      "outputs": [
        {
          "output_type": "execute_result",
          "data": {
            "text/plain": [
              "<matplotlib.axes._subplots.AxesSubplot at 0x7fa01e717290>"
            ]
          },
          "metadata": {
            "tags": []
          },
          "execution_count": 19
        },
        {
          "output_type": "display_data",
          "data": {
            "image/png": "[encoded data removed]",
            "text/plain": [
              "<Figure size 72x72 with 1 Axes>"
            ]
          },
          "metadata": {
            "tags": [],
            "needs_background": "light"
          }
        }
      ]
    },
    {
      "cell_type": "code",
      "metadata": {
        "colab": {
          "base_uri": "https://localhost:8080/",
          "height": 102
        },
        "id": "hXDbBkltqvA6",
        "outputId": "0e125e30-d864-4ba0-bfed-40aa2f68f821"
      },
      "source": [
        "show_image(stacked_sevens.mean(0))"
      ],
      "execution_count": null,
      "outputs": [
        {
          "output_type": "execute_result",
          "data": {
            "text/plain": [
              "<matplotlib.axes._subplots.AxesSubplot at 0x7fa01e74ef90>"
            ]
          },
          "metadata": {
            "tags": []
          },
          "execution_count": 20
        },
        {
          "output_type": "display_data",
          "data": {
            "image/png": "[encoded data removed]",
            "text/plain": [
              "<Figure size 72x72 with 1 Axes>"
            ]
          },
          "metadata": {
            "tags": [],
            "needs_background": "light"
          }
        }
      ]
    },
    {
      "cell_type": "code",
      "metadata": {
        "colab": {
          "base_uri": "https://localhost:8080/"
        },
        "id": "Z2cvBk6Iq31V",
        "outputId": "fc66668a-4446-4b39-ac06-d740b557f0f0"
      },
      "source": [
        "dist_3_abs = (stacked_threes[1] - stacked_threes.mean(0)).abs().mean()\n",
        "dist_3_sqr = ((stacked_threes[1]-stacked_threes.mean(0))**2).mean().sqrt()\n",
        "dist_3_abs,dist_3_sqr"
      ],
      "execution_count": null,
      "outputs": [
        {
          "output_type": "execute_result",
          "data": {
            "text/plain": [
              "(tensor(0.1114), tensor(0.2021))"
            ]
          },
          "metadata": {
            "tags": []
          },
          "execution_count": 21
        }
      ]
    },
    {
      "cell_type": "code",
      "metadata": {
        "colab": {
          "base_uri": "https://localhost:8080/"
        },
        "id": "GTo3g2DCsGJJ",
        "outputId": "4be8a20f-2cfc-42c1-cf85-21064ca2f1e5"
      },
      "source": [
        "dist_7_abs = (stacked_threes[1] - stacked_sevens.mean(0)).abs().mean()\n",
        "dist_7_sqr = ((stacked_threes[1]-stacked_threes.mean(0))**2).mean().sqrt()\n",
        "dist_7_abs,dist_7_sqr"
      ],
      "execution_count": null,
      "outputs": [
        {
          "output_type": "execute_result",
          "data": {
            "text/plain": [
              "(tensor(0.1586), tensor(0.2021))"
            ]
          },
          "metadata": {
            "tags": []
          },
          "execution_count": 22
        }
      ]
    },
    {
      "cell_type": "markdown",
      "metadata": {
        "id": "xRrJmW1fsV93"
      },
      "source": [
        "as we see above the absolute and squared error is less with three so we can conclude that the stacked image is of 3 and it's relatively greater for 7_abs and 7_sqr"
      ]
    },
    {
      "cell_type": "code",
      "metadata": {
        "colab": {
          "base_uri": "https://localhost:8080/",
          "height": 35
        },
        "id": "iiIvmjOYs0W9",
        "outputId": "b959753d-ef42-417b-d310-50e921814789"
      },
      "source": [
        "# for finding the type of tensor in fast ai is quite different than that of the type of tensors in the python \n",
        "# in python it's like type(tensor) but in fast ai it's like tensor.type()\n",
        "dist_7_abs.type()"
      ],
      "execution_count": null,
      "outputs": [
        {
          "output_type": "execute_result",
          "data": {
            "application/vnd.google.colaboratory.intrinsic+json": {
              "type": "string"
            },
            "text/plain": [
              "'torch.FloatTensor'"
            ]
          },
          "metadata": {
            "tags": []
          },
          "execution_count": 23
        }
      ]
    },
    {
      "cell_type": "code",
      "metadata": {
        "colab": {
          "base_uri": "https://localhost:8080/"
        },
        "id": "EiNqTI4Et1Nk",
        "outputId": "8d69aa73-a580-4fd7-c644-089e3a7e8d03"
      },
      "source": [
        "# checking how our model is performing on the validation data \n",
        "# 1.st loading the data \n",
        "valid_3_tens  = torch.stack([tensor(Image.open(o)) for o in (path/'valid/3').ls()])\n",
        "valid_3_tens = valid_3_tens.float()/255.\n",
        "\n",
        "valid_7_tens = torch.stack([tensor(Image.open(o)) for o in (path/'valid/7').ls()])\n",
        "valid_7_tens = valid_7_tens.float()/255.\n",
        "valid_3_tens.shape, valid_7_tens.shape"
      ],
      "execution_count": null,
      "outputs": [
        {
          "output_type": "execute_result",
          "data": {
            "text/plain": [
              "(torch.Size([1010, 28, 28]), torch.Size([1028, 28, 28]))"
            ]
          },
          "metadata": {
            "tags": []
          },
          "execution_count": 24
        }
      ]
    },
    {
      "cell_type": "code",
      "metadata": {
        "id": "3BFbwiaOvD-9"
      },
      "source": [
        "def mnist_distance(a,b): return (a-b).abs().mean((-1,-2))"
      ],
      "execution_count": null,
      "outputs": []
    },
    {
      "cell_type": "code",
      "metadata": {
        "id": "IEtbq5W7vQc1"
      },
      "source": [
        "valid_3_dist = mnist_distance(valid_3_tens,stacked_threes.mean(0))"
      ],
      "execution_count": null,
      "outputs": []
    },
    {
      "cell_type": "code",
      "metadata": {
        "colab": {
          "base_uri": "https://localhost:8080/"
        },
        "id": "z06nDc_xvlnk",
        "outputId": "75241190-faef-4fa6-b0b3-dfc519b48905"
      },
      "source": [
        "valid_3_dist, valid_3_dist.shape"
      ],
      "execution_count": null,
      "outputs": [
        {
          "output_type": "execute_result",
          "data": {
            "text/plain": [
              "(tensor([0.1605, 0.1378, 0.1327,  ..., 0.1277, 0.1580, 0.1417]),\n",
              " torch.Size([1010]))"
            ]
          },
          "metadata": {
            "tags": []
          },
          "execution_count": 27
        }
      ]
    },
    {
      "cell_type": "code",
      "metadata": {
        "id": "X4w8n2C6voYd"
      },
      "source": [
        "def is_3(x): return mnist_distance(x,stacked_threes.mean(0)) < mnist_distance(x,stacked_sevens.mean(0))"
      ],
      "execution_count": null,
      "outputs": []
    },
    {
      "cell_type": "code",
      "metadata": {
        "colab": {
          "base_uri": "https://localhost:8080/"
        },
        "id": "lu9shzHoxjFq",
        "outputId": "cdd0d290-1ede-45f1-bc5a-7d0d97fcf419"
      },
      "source": [
        "is_3(valid_3_tens[4])"
      ],
      "execution_count": null,
      "outputs": [
        {
          "output_type": "execute_result",
          "data": {
            "text/plain": [
              "tensor(False)"
            ]
          },
          "metadata": {
            "tags": []
          },
          "execution_count": 29
        }
      ]
    },
    {
      "cell_type": "code",
      "metadata": {
        "colab": {
          "base_uri": "https://localhost:8080/"
        },
        "id": "jh7knN3YxnGI",
        "outputId": "e68e62b2-e8f8-4c65-ba1b-761cc2272b32"
      },
      "source": [
        "is_3(valid_7_tens[5]).float()"
      ],
      "execution_count": null,
      "outputs": [
        {
          "output_type": "execute_result",
          "data": {
            "text/plain": [
              "tensor(0.)"
            ]
          },
          "metadata": {
            "tags": []
          },
          "execution_count": 30
        }
      ]
    },
    {
      "cell_type": "code",
      "metadata": {
        "colab": {
          "base_uri": "https://localhost:8080/"
        },
        "id": "ew90ikOAxp5B",
        "outputId": "41e0b26c-e9c1-40d7-f8a4-854a3adebd6b"
      },
      "source": [
        "is_3(valid_3_tens)"
      ],
      "execution_count": null,
      "outputs": [
        {
          "output_type": "execute_result",
          "data": {
            "text/plain": [
              "tensor([False,  True, False,  ...,  True, False,  True])"
            ]
          },
          "metadata": {
            "tags": []
          },
          "execution_count": 31
        }
      ]
    },
    {
      "cell_type": "code",
      "metadata": {
        "colab": {
          "base_uri": "https://localhost:8080/"
        },
        "id": "AE4fL2K8yGoP",
        "outputId": "4f54b47d-3368-4faa-dbf6-ec56a06bd200"
      },
      "source": [
        "accuracy_3s = is_3(valid_3_tens).float().mean()\n",
        "accuracy_7s = (1-is_3(valid_7_tens).float()).mean()\n",
        "\n",
        "accuracy_3s,accuracy_7s,(accuracy_3s+accuracy_7s)/2"
      ],
      "execution_count": null,
      "outputs": [
        {
          "output_type": "execute_result",
          "data": {
            "text/plain": [
              "(tensor(0.9168), tensor(0.9854), tensor(0.9511))"
            ]
          },
          "metadata": {
            "tags": []
          },
          "execution_count": 32
        }
      ]
    },
    {
      "cell_type": "code",
      "metadata": {
        "id": "mEDOa14SyXXb"
      },
      "source": [
        "# here we've model of the 95% accuracy "
      ],
      "execution_count": null,
      "outputs": []
    },
    {
      "cell_type": "markdown",
      "metadata": {
        "id": "AAAGVIOOzcg_"
      },
      "source": [
        "# working with the gradients "
      ]
    },
    {
      "cell_type": "markdown",
      "metadata": {
        "id": "KmV992jCjT0s"
      },
      "source": [
        "1. initialize the random gradients \n",
        "2. for each image , use these weights to predict wheather it appers to be a three or seven \n",
        "3. Based on these predictions , calculate how good the model is ( it's loss ) \n",
        "4. calculate the gradient, which measures for each weiight how changing the weight would change the loss \n",
        "5. step , all weights based on the calculations \n",
        "6. repeat whole process from 2nd step \n",
        "7. do it until you are satisfied by the results "
      ]
    },
    {
      "cell_type": "markdown",
      "metadata": {
        "id": "InTzEnrItog_"
      },
      "source": [
        "## init ----> predict ------> loss ---> gradient ---> step repeat ------> stop "
      ]
    },
    {
      "cell_type": "code",
      "metadata": {
        "id": "iV-ej4o3txar"
      },
      "source": [
        "# loss will be small when the performance of the model is good \n"
      ],
      "execution_count": null,
      "outputs": []
    },
    {
      "cell_type": "code",
      "metadata": {
        "id": "WRnA7rSqvfwG"
      },
      "source": [
        "def f(x) : return x**2"
      ],
      "execution_count": null,
      "outputs": []
    },
    {
      "cell_type": "code",
      "metadata": {
        "id": "PgcD6Qv-vjrQ"
      },
      "source": [
        "# plot_function(f,'x','x**2') # 1st parar is the function name itself 2nd is the x label and 3rd is the y label "
      ],
      "execution_count": null,
      "outputs": []
    },
    {
      "cell_type": "code",
      "metadata": {
        "colab": {
          "base_uri": "https://localhost:8080/",
          "height": 350
        },
        "id": "91lvZ2HewCYc",
        "outputId": "d275e3dd-754e-4102-f940-a6b28ab179dc"
      },
      "source": [
        "# here we are trying to find the lowest point in the loss fun  f \n",
        "plot_function(f,'x','x**2')\n",
        "value = 1.84 #@param {type:\"slider\", min:-2, max:2, step:0.01}\n",
        "plt.scatter(value,f(value),color = 'red') "
      ],
      "execution_count": null,
      "outputs": [
        {
          "output_type": "stream",
          "text": [
            "/usr/local/lib/python3.7/dist-packages/fastbook/__init__.py:73: UserWarning: Not providing a value for linspace's steps is deprecated and will throw a runtime error in a future release. This warning will appear only once per process. (Triggered internally at  /pytorch/aten/src/ATen/native/RangeFactories.cpp:25.)\n",
            "  x = torch.linspace(min,max)\n"
          ],
          "name": "stderr"
        },
        {
          "output_type": "execute_result",
          "data": {
            "text/plain": [
              "<matplotlib.collections.PathCollection at 0x7fa01e514490>"
            ]
          },
          "metadata": {
            "tags": []
          },
          "execution_count": 37
        },
        {
          "output_type": "display_data",
          "data": {
            "image/png": "[encoded data removed]",
            "text/plain": [
              "<Figure size 432x288 with 1 Axes>"
            ]
          },
          "metadata": {
            "tags": [],
            "needs_background": "light"
          }
        }
      ]
    },
    {
      "cell_type": "code",
      "metadata": {
        "id": "aWC8bf7hxEJl"
      },
      "source": [
        "# WE for modifying the funcion later and to tell pytorch to remember that you have to do this some derivative and calculationns later \n",
        "xt = tensor(3.).requires_grad_() # underscroll at the end of function in pytorch means in place modification it modifies the value which you are gonna pass "
      ],
      "execution_count": null,
      "outputs": []
    },
    {
      "cell_type": "code",
      "metadata": {
        "colab": {
          "base_uri": "https://localhost:8080/"
        },
        "id": "GlGTAtymzj_d",
        "outputId": "e0bce3b8-5266-4ae8-a3a9-2bcd9459ece1"
      },
      "source": [
        "# it keeps track of all the computitions we do in order to calculate derivative later \n",
        "yt = f(xt)\n",
        "yt # here you have noticed that tensor gives the grad_fn also so we can give the derivative out here by using backward() method "
      ],
      "execution_count": null,
      "outputs": [
        {
          "output_type": "execute_result",
          "data": {
            "text/plain": [
              "tensor(9., grad_fn=<PowBackward0>)"
            ]
          },
          "metadata": {
            "tags": []
          },
          "execution_count": 39
        }
      ]
    },
    {
      "cell_type": "code",
      "metadata": {
        "id": "X-CxtXRIztyx"
      },
      "source": [
        "yt.backward() # for telling pytorch to calculate the derivative "
      ],
      "execution_count": null,
      "outputs": []
    },
    {
      "cell_type": "code",
      "metadata": {
        "colab": {
          "base_uri": "https://localhost:8080/"
        },
        "id": "qHuwghFjzxja",
        "outputId": "65e715b4-3cd9-4c07-d61e-348d694633dc"
      },
      "source": [
        "xt.grad # getting result from dertivative function where we have declared requires_grad "
      ],
      "execution_count": null,
      "outputs": [
        {
          "output_type": "execute_result",
          "data": {
            "text/plain": [
              "tensor(6.)"
            ]
          },
          "metadata": {
            "tags": []
          },
          "execution_count": 41
        }
      ]
    },
    {
      "cell_type": "markdown",
      "metadata": {
        "id": "kgG_NUXxz1zk"
      },
      "source": [
        "# working with the gradients "
      ]
    },
    {
      "cell_type": "code",
      "metadata": {
        "colab": {
          "base_uri": "https://localhost:8080/",
          "height": 265
        },
        "id": "_TfO2MWfkOOM",
        "outputId": "a7de7211-068f-4710-99d0-2f82ad2adb86"
      },
      "source": [
        "time = torch.arange(0,20).float(); time\n",
        "speed = torch.randn(20)*3 + 0.75*(time-9.5)**2 + 1\n",
        "\n",
        "plt.scatter(time,speed)\n",
        "def f(t,params): \n",
        "  a,b,c = params \n",
        "  return a*(t**2) + (b*t) + c \n",
        "  "
      ],
      "execution_count": 144,
      "outputs": [
        {
          "output_type": "display_data",
          "data": {
            "image/png": "[encoded data removed]",
            "text/plain": [
              "<Figure size 432x288 with 1 Axes>"
            ]
          },
          "metadata": {
            "tags": [],
            "needs_background": "light"
          }
        }
      ]
    },
    {
      "cell_type": "code",
      "metadata": {
        "id": "LjP3LnK_u_Fd"
      },
      "source": [
        "\n",
        "def mse(preds,targets):return ((preds-targets) ** 2).mean().sqrt()\n"
      ],
      "execution_count": 145,
      "outputs": []
    },
    {
      "cell_type": "code",
      "metadata": {
        "id": "K5af1l4ovCOD"
      },
      "source": [
        "\n",
        "params = torch.randn(3).requires_grad_()\n",
        "orig_params = params.clone()\n",
        "preds = f(time,params)\n"
      ],
      "execution_count": 146,
      "outputs": []
    },
    {
      "cell_type": "code",
      "metadata": {
        "id": "gvim4ktXvDOQ"
      },
      "source": [
        "def show_preds(preds,ax = None):\n",
        "  if ax is None : ax = plt.subplots()[1]\n",
        "  ax.scatter(time,speed)\n",
        "  ax.scatter(time,to_np(preds),color = 'red')\n",
        "  ax.set_ylim(-300,1000)\n"
      ],
      "execution_count": 147,
      "outputs": []
    },
    {
      "cell_type": "code",
      "metadata": {
        "colab": {
          "base_uri": "https://localhost:8080/",
          "height": 286
        },
        "id": "CAXXLiyRvE_I",
        "outputId": "e30eb08e-e949-4b25-b3bb-e8e6a4c653cf"
      },
      "source": [
        "show_preds(preds)\n",
        "loss = mse(preds,speed)\n",
        "loss \n",
        "loss.backward()\n",
        "params.grad\n",
        "params.grad * 1e-5\n",
        "params \n",
        "lr = 1e-5 \n",
        "params.data -= lr * params.grad.data\n",
        "params.grad = None\n",
        "preds = f(time,params)\n",
        "mse(preds,speed)\n"
      ],
      "execution_count": 148,
      "outputs": [
        {
          "output_type": "execute_result",
          "data": {
            "text/plain": [
              "tensor(107.7157, grad_fn=<SqrtBackward>)"
            ]
          },
          "metadata": {
            "tags": []
          },
          "execution_count": 148
        },
        {
          "output_type": "display_data",
          "data": {
            "image/png": "[encoded data removed]",
            "text/plain": [
              "<Figure size 432x288 with 1 Axes>"
            ]
          },
          "metadata": {
            "tags": [],
            "needs_background": "light"
          }
        }
      ]
    },
    {
      "cell_type": "code",
      "metadata": {
        "colab": {
          "base_uri": "https://localhost:8080/",
          "height": 269
        },
        "id": "pB0mkzWjvHwm",
        "outputId": "a2dd9118-210d-4948-e48e-c6a951a9b5da"
      },
      "source": [
        "show_preds(preds)\n"
      ],
      "execution_count": 149,
      "outputs": [
        {
          "output_type": "display_data",
          "data": {
            "image/png": "[encoded data removed]",
            "text/plain": [
              "<Figure size 432x288 with 1 Axes>"
            ]
          },
          "metadata": {
            "tags": [],
            "needs_background": "light"
          }
        }
      ]
    },
    {
      "cell_type": "code",
      "metadata": {
        "colab": {
          "base_uri": "https://localhost:8080/"
        },
        "id": "vl61ABwCvIil",
        "outputId": "a29f29f1-f7ca-4387-82ed-3d9a16ecc412"
      },
      "source": [
        "def apply_step(params, prn = True):\n",
        "    preds = f(time,params)\n",
        "    loss = mse(preds,speed)\n",
        "    loss.backward()\n",
        "    params.data -= lr * params.grad.data\n",
        "    params.grad = None\n",
        "    if prn: print(loss.item())\n",
        "    return preds\n",
        "for i in range(10): apply_step(params)"
      ],
      "execution_count": 150,
      "outputs": [
        {
          "output_type": "stream",
          "text": [
            "107.7157211303711\n",
            "107.4485855102539\n",
            "107.18152618408203\n",
            "106.91454315185547\n",
            "106.64763641357422\n",
            "106.38081359863281\n",
            "106.11406707763672\n",
            "105.847412109375\n",
            "105.58081817626953\n",
            "105.31431579589844\n"
          ],
          "name": "stdout"
        }
      ]
    },
    {
      "cell_type": "markdown",
      "metadata": {
        "id": "zj85pOHfj2Vi"
      },
      "source": [
        "if we wanted to find the minima of the gradients or functions we will have to define the speed at which we are gonna take a step and set the learning rate "
      ]
    },
    {
      "cell_type": "code",
      "metadata": {
        "id": "8F0c-12pmvUY",
        "colab": {
          "base_uri": "https://localhost:8080/",
          "height": 225
        },
        "outputId": "b6cb5ef1-de7e-4519-ef43-c31717bb7c62"
      },
      "source": [
        "_, axs = plt.subplots(1,4,figsize = (12,3))\n",
        "for ax in axs : show_preds(apply_step(params,False),ax)\n",
        "plt.tight_layout()"
      ],
      "execution_count": 151,
      "outputs": [
        {
          "output_type": "display_data",
          "data": {
            "image/png": "[encoded data removed]",
            "text/plain": [
              "<Figure size 864x216 with 4 Axes>"
            ]
          },
          "metadata": {
            "tags": [],
            "needs_background": "light"
          }
        }
      ]
    },
    {
      "cell_type": "markdown",
      "metadata": {
        "id": "g81xt3OIukUt"
      },
      "source": [
        "# MNIST loss function "
      ]
    },
    {
      "cell_type": "code",
      "metadata": {
        "id": "87dlST2QvYeX"
      },
      "source": [
        "# we've to calculate the gradient where the difference is really small "
      ],
      "execution_count": 152,
      "outputs": []
    },
    {
      "cell_type": "code",
      "metadata": {
        "id": "VCRCZQMRvg2E"
      },
      "source": [
        "# if we change the param for small amount then there will be no change in the accuracy of the"
      ],
      "execution_count": null,
      "outputs": []
    }
  ]
}